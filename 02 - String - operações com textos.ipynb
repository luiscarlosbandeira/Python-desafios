{
 "cells": [
  {
   "cell_type": "markdown",
   "id": "11361b40",
   "metadata": {},
   "source": [
    "Fórmulas de Textos"
   ]
  },
  {
   "cell_type": "code",
   "execution_count": 2,
   "id": "21684927",
   "metadata": {},
   "outputs": [
    {
     "name": "stdout",
     "output_type": "stream",
     "text": [
      "Afonso\n"
     ]
    }
   ],
   "source": [
    "# colocando a primeira letra em maiuscula utilizando o método capitalize()\n",
    "\n",
    "texto = 'afonso'\n",
    "print(texto.capitalize())"
   ]
  },
  {
   "cell_type": "code",
   "execution_count": 3,
   "id": "700578d6",
   "metadata": {},
   "outputs": [
    {
     "name": "stdout",
     "output_type": "stream",
     "text": [
      "afonso\n"
     ]
    }
   ],
   "source": [
    "# transformando todas as letras minusculas utilizando o casefold().\n",
    "\n",
    "texto = 'AfOnsO'\n",
    "print(texto.casefold())"
   ]
  },
  {
   "cell_type": "code",
   "execution_count": 4,
   "id": "7ce92ee3",
   "metadata": {},
   "outputs": [
    {
     "name": "stdout",
     "output_type": "stream",
     "text": [
      "2\n"
     ]
    }
   ],
   "source": [
    "# contando a quantidade de vezes que um valor aparece em uma string\n",
    "\n",
    "texto = 'luis.edu.ifac@gmail.com'\n",
    "print(texto.count('a'))"
   ]
  },
  {
   "cell_type": "code",
   "execution_count": 5,
   "id": "fb09df4e",
   "metadata": {},
   "outputs": [
    {
     "name": "stdout",
     "output_type": "stream",
     "text": [
      "True\n"
     ]
    }
   ],
   "source": [
    "# verificando se um texto termina com o valor especificado na função endswith()\n",
    "\n",
    "texto = 'luis.edu.ifac@gmail.com'\n",
    "print(texto.endswith('gmail.com'))"
   ]
  },
  {
   "cell_type": "code",
   "execution_count": 6,
   "id": "4881f2b1",
   "metadata": {},
   "outputs": [
    {
     "name": "stdout",
     "output_type": "stream",
     "text": [
      "False\n"
     ]
    }
   ],
   "source": [
    "texto = 'luis.edu.ifac@live.com'\n",
    "print(texto.endswith('gmail.com'))"
   ]
  },
  {
   "cell_type": "code",
   "execution_count": 7,
   "id": "33162687",
   "metadata": {},
   "outputs": [
    {
     "name": "stdout",
     "output_type": "stream",
     "text": [
      "13\n"
     ]
    }
   ],
   "source": [
    "# procurando um texto dentro de outro texto, obtendo sua posição na string\n",
    "\n",
    "texto = 'luis.edu.ifac@live.com' \n",
    "print(texto.find('@'))"
   ]
  },
  {
   "cell_type": "code",
   "execution_count": 8,
   "id": "593d29ff",
   "metadata": {},
   "outputs": [
    {
     "name": "stdout",
     "output_type": "stream",
     "text": [
      "True\n"
     ]
    }
   ],
   "source": [
    "# Verificando se um texto é alfanumérico utilizando o método isalnum()\n",
    "texto = 'Afonso123'\n",
    "print(texto.isalnum())"
   ]
  },
  {
   "cell_type": "code",
   "execution_count": 9,
   "id": "71d674ea",
   "metadata": {},
   "outputs": [
    {
     "name": "stdout",
     "output_type": "stream",
     "text": [
      "False\n"
     ]
    }
   ],
   "source": [
    "texto = 'Afonso123#'\n",
    "print(texto.isalnum())"
   ]
  },
  {
   "cell_type": "code",
   "execution_count": 10,
   "id": "21473f9b",
   "metadata": {},
   "outputs": [
    {
     "name": "stdout",
     "output_type": "stream",
     "text": [
      "True\n"
     ]
    }
   ],
   "source": [
    "# Verificando se o texto é todo composto de letras utilizando o método isalpha()\n",
    "texto = 'Afonso'\n",
    "print(texto.isalpha())"
   ]
  },
  {
   "cell_type": "code",
   "execution_count": null,
   "id": "e6762813",
   "metadata": {},
   "outputs": [],
   "source": [
    "# Verificando se o texto é todo composto de número utilizando o método isnumeric()\n",
    "\n",
    "texto = '124'\n",
    "print(texto.isnumeric())"
   ]
  },
  {
   "cell_type": "code",
   "execution_count": 11,
   "id": "6db7a657",
   "metadata": {},
   "outputs": [
    {
     "name": "stdout",
     "output_type": "stream",
     "text": [
      "1000,00\n"
     ]
    }
   ],
   "source": [
    "# Substituindo valores de um texto por outro texto especificado utilizando replace()\n",
    "\n",
    "texto = '1000.00'\n",
    "print(texto.replace('.', ','))"
   ]
  },
  {
   "cell_type": "code",
   "execution_count": 15,
   "id": "d54b3c60",
   "metadata": {},
   "outputs": [
    {
     "name": "stdout",
     "output_type": "stream",
     "text": [
      "['luiscarlos', 'live.com']\n"
     ]
    }
   ],
   "source": [
    "# Dividindo o texto por delimitador utilizando split()\n",
    "\n",
    "texto = 'luiscarlos@live.com'\n",
    "print(texto.split('@'))"
   ]
  },
  {
   "cell_type": "code",
   "execution_count": 16,
   "id": "9f25aab2",
   "metadata": {},
   "outputs": [
    {
     "name": "stdout",
     "output_type": "stream",
     "text": [
      "['luis', 'carlos', 'santos', 'bandeira']\n"
     ]
    }
   ],
   "source": [
    "# Separando um texto em vários textos de acordo com os enters inputados utilizando a função splitlines()\n",
    "\n",
    "texto = '''luis\n",
    "carlos\n",
    "santos\n",
    "bandeira\n",
    "'''\n",
    "\n",
    "print(texto.splitlines())"
   ]
  },
  {
   "cell_type": "code",
   "execution_count": 17,
   "id": "bbca7a91",
   "metadata": {},
   "outputs": [
    {
     "name": "stdout",
     "output_type": "stream",
     "text": [
      "Afonso De Paula Feliciano\n"
     ]
    }
   ],
   "source": [
    "# Removendo caracteres indesejados de um texto. Por padrão essa função remove espaços extras no início e no final\n",
    "\n",
    "texto = '  Afonso   '\n",
    "print(texto.strip())"
   ]
  },
  {
   "cell_type": "code",
   "execution_count": 18,
   "id": "1c1b33cf",
   "metadata": {},
   "outputs": [
    {
     "name": "stdout",
     "output_type": "stream",
     "text": [
      "LUIS\n"
     ]
    }
   ],
   "source": [
    "# Colocando todas as letras em maiúsculas com o upper()\n",
    "\n",
    "texto = 'luis'\n",
    "print(texto.upper())"
   ]
  },
  {
   "cell_type": "code",
   "execution_count": null,
   "id": "a45aac9d",
   "metadata": {},
   "outputs": [],
   "source": []
  }
 ],
 "metadata": {
  "kernelspec": {
   "display_name": "Python 3 (ipykernel)",
   "language": "python",
   "name": "python3"
  },
  "language_info": {
   "codemirror_mode": {
    "name": "ipython",
    "version": 3
   },
   "file_extension": ".py",
   "mimetype": "text/x-python",
   "name": "python",
   "nbconvert_exporter": "python",
   "pygments_lexer": "ipython3",
   "version": "3.9.13"
  }
 },
 "nbformat": 4,
 "nbformat_minor": 5
}
