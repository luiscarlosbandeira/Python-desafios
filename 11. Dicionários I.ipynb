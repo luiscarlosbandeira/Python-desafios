{
 "cells": [
  {
   "cell_type": "markdown",
   "id": "fb002aee",
   "metadata": {},
   "source": [
    "# Estrutura"
   ]
  },
  {
   "cell_type": "markdown",
   "id": "ff97b884",
   "metadata": {},
   "source": [
    "dicionario = {chave: valor, chave: valor, chave: valor ....}"
   ]
  },
  {
   "cell_type": "markdown",
   "id": "b474a753",
   "metadata": {},
   "source": [
    "# Vantagens e desvantagens"
   ]
  },
  {
   "cell_type": "markdown",
   "id": "debe32e8",
   "metadata": {},
   "source": [
    "Não devem ser usados para pegar itens em uma determinada ordem"
   ]
  },
  {
   "cell_type": "markdown",
   "id": "50dabd41",
   "metadata": {},
   "source": [
    "Podem ter valores heterogêneos (vários tipos de valores diferentes)"
   ]
  },
  {
   "cell_type": "markdown",
   "id": "f588d7bb",
   "metadata": {},
   "source": [
    "Chaves são únicas obrigatoriamente"
   ]
  },
  {
   "cell_type": "markdown",
   "id": "3573bbdf",
   "metadata": {},
   "source": [
    "Mais intuitivos"
   ]
  },
  {
   "cell_type": "code",
   "execution_count": 1,
   "id": "bcd04d84",
   "metadata": {},
   "outputs": [],
   "source": [
    "mais_vendidos = {'tecnologia': 'iphone', 'refrigeracao': 'ar consul 12000 btu', 'livros': 'o alquimista', 'eletrodoméstico': 'geladeira', 'lazer': 'prancha surf'}\n",
    "\n",
    "vendas_tecnologia = {'iphone': 15000, 'samsung galaxy': 12000, 'tv samsung': 10000, 'ps5': 14300, 'tablet': 1720, 'ipad': 1000, 'tv philco': 2500, 'notebook hp': 1000, 'notebook dell': 17000, 'notebook asus': 2450}\n"
   ]
  },
  {
   "cell_type": "markdown",
   "id": "7878e0cc",
   "metadata": {},
   "source": [
    "Qual foi o item mais vendido na categoria livros e lazer?"
   ]
  },
  {
   "cell_type": "markdown",
   "id": "82889d75",
   "metadata": {},
   "source": [
    "Quanto foi vendido de notebook asus e de ipad?"
   ]
  },
  {
   "cell_type": "code",
   "execution_count": 2,
   "id": "3c4a4dc4",
   "metadata": {},
   "outputs": [
    {
     "name": "stdout",
     "output_type": "stream",
     "text": [
      "O livro mais vendido foi o alquimista\n",
      "O item de lazer mais vendido foi prancha surf\n"
     ]
    }
   ],
   "source": [
    "livro_mais_vendido = mais_vendidos['livros']\n",
    "lazer_mais_vendido = mais_vendidos['lazer']\n",
    "\n",
    "print('O livro mais vendido foi {}'.format(livro_mais_vendido))\n",
    "print('O item de lazer mais vendido foi {}'.format(lazer_mais_vendido))"
   ]
  },
  {
   "cell_type": "code",
   "execution_count": 3,
   "id": "ba1522c9",
   "metadata": {},
   "outputs": [
    {
     "name": "stdout",
     "output_type": "stream",
     "text": [
      "O notebook asus teve 2450 vendas\n",
      "O ipad teve 1000 vendas\n"
     ]
    }
   ],
   "source": [
    "asus = vendas_tecnologia['notebook asus']\n",
    "ipad = vendas_tecnologia['ipad']\n",
    "\n",
    "print('O notebook asus teve {} vendas'.format(asus))\n",
    "print('O ipad teve {} vendas'.format(ipad))"
   ]
  },
  {
   "cell_type": "code",
   "execution_count": null,
   "id": "f8ad366f",
   "metadata": {},
   "outputs": [],
   "source": []
  }
 ],
 "metadata": {
  "kernelspec": {
   "display_name": "Python 3 (ipykernel)",
   "language": "python",
   "name": "python3"
  },
  "language_info": {
   "codemirror_mode": {
    "name": "ipython",
    "version": 3
   },
   "file_extension": ".py",
   "mimetype": "text/x-python",
   "name": "python",
   "nbconvert_exporter": "python",
   "pygments_lexer": "ipython3",
   "version": "3.9.13"
  }
 },
 "nbformat": 4,
 "nbformat_minor": 5
}
