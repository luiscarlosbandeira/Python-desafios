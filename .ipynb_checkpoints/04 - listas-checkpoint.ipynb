{
 "cells": [
  {
   "cell_type": "code",
   "execution_count": 1,
   "id": "affee2ec",
   "metadata": {},
   "outputs": [
    {
     "name": "stdout",
     "output_type": "stream",
     "text": [
      "['tv', 'celular', 'mouse', 'teclado', 'tablet']\n",
      "[1000, 1500, 200, 300, 900]\n"
     ]
    }
   ],
   "source": [
    "produtos = ['tv', 'celular', 'mouse', 'teclado', 'tablet']\n",
    "vendas = [1000,1500,200,300,900]\n",
    "\n",
    "print(produtos)\n",
    "print(vendas)"
   ]
  },
  {
   "cell_type": "code",
   "execution_count": 2,
   "id": "47528069",
   "metadata": {},
   "outputs": [
    {
     "name": "stdout",
     "output_type": "stream",
     "text": [
      "tv\n"
     ]
    }
   ],
   "source": [
    "# captura um valor de um item na lista\n",
    "\n",
    "print(produtos[0])"
   ]
  },
  {
   "cell_type": "code",
   "execution_count": 3,
   "id": "fed3e316",
   "metadata": {},
   "outputs": [
    {
     "name": "stdout",
     "output_type": "stream",
     "text": [
      "Vendas do produto celular foram de 1500 unidades\n"
     ]
    }
   ],
   "source": [
    "print(\"Vendas do produto {} foram de {} unidades\".format(produtos[1], vendas[1]))"
   ]
  },
  {
   "cell_type": "code",
   "execution_count": 4,
   "id": "86b7904d",
   "metadata": {},
   "outputs": [
    {
     "name": "stdout",
     "output_type": "stream",
     "text": [
      "255\n"
     ]
    }
   ],
   "source": [
    "# Substituindo valores de uma lista\n",
    "\n",
    "vendas[3] = 255\n",
    "print(vendas[3])"
   ]
  },
  {
   "cell_type": "code",
   "execution_count": 5,
   "id": "f46a0d8b",
   "metadata": {},
   "outputs": [
    {
     "name": "stdout",
     "output_type": "stream",
     "text": [
      "tv\n",
      "celular\n",
      "mouse\n",
      "teclado\n",
      "tablet\n"
     ]
    }
   ],
   "source": [
    "for elemento in produtos:\n",
    "    print(elemento)"
   ]
  },
  {
   "cell_type": "markdown",
   "id": "6704dddf",
   "metadata": {},
   "source": []
  },
  {
   "cell_type": "markdown",
   "id": "f7dffca4",
   "metadata": {},
   "source": [
    "# Adicionar e remover itens em uma lista"
   ]
  },
  {
   "cell_type": "markdown",
   "id": "585176ff",
   "metadata": {},
   "source": [
    "# Adicionar = lista.append(item)\n",
    "\n",
    "# Remover = lista.pop(indice) ou lista.remove(item)"
   ]
  },
  {
   "cell_type": "code",
   "execution_count": 6,
   "id": "1469e9dd",
   "metadata": {},
   "outputs": [
    {
     "name": "stdout",
     "output_type": "stream",
     "text": [
      "['apple tv', 'mac', 'iphone', 'mac book', 'airpods']\n"
     ]
    }
   ],
   "source": [
    "produtos = ['apple tv', 'mac', 'iphone', 'mac book', 'airpods']\n",
    "print(produtos)"
   ]
  },
  {
   "cell_type": "code",
   "execution_count": 7,
   "id": "ee163fc2",
   "metadata": {},
   "outputs": [
    {
     "name": "stdout",
     "output_type": "stream",
     "text": [
      "['apple tv', 'mac', 'iphone', 'mac book', 'airpods', 'iphone 11']\n"
     ]
    }
   ],
   "source": [
    "# Adicionando um novo produto na lista\n",
    "\n",
    "produtos.append('iphone 11')\n",
    "print(produtos)"
   ]
  },
  {
   "cell_type": "code",
   "execution_count": 8,
   "id": "475d6803",
   "metadata": {},
   "outputs": [
    {
     "name": "stdout",
     "output_type": "stream",
     "text": [
      "['apple tv', 'mac', 'mac book', 'airpods', 'iphone 11']\n"
     ]
    }
   ],
   "source": [
    "# Removendo o iphone\n",
    "\n",
    "#Removendo pelo nome\n",
    "produtos.remove('iphone')\n",
    "print(produtos)"
   ]
  },
  {
   "cell_type": "code",
   "execution_count": 9,
   "id": "16198f17",
   "metadata": {},
   "outputs": [
    {
     "name": "stdout",
     "output_type": "stream",
     "text": [
      "['apple tv', 'mac', 'mac book', 'iphone 11']\n",
      "O item airpods foi removido\n"
     ]
    }
   ],
   "source": [
    "#Removendo pelo indice e armazenando o item removido em uma variável\n",
    "item_removido = produtos.pop(3)\n",
    "print(produtos)\n",
    "print('O item {} foi removido'.format(item_removido))"
   ]
  },
  {
   "cell_type": "code",
   "execution_count": 10,
   "id": "edce81af",
   "metadata": {},
   "outputs": [],
   "source": [
    "# Removendo um produto que não está lista\n",
    "\n",
    "produto_para_remover = 'tv'\n",
    "if produto_para_remover in produtos:\n",
    "    produtos.remove(produto_para_remover)"
   ]
  },
  {
   "cell_type": "code",
   "execution_count": null,
   "id": "5808db1a",
   "metadata": {},
   "outputs": [],
   "source": []
  },
  {
   "cell_type": "code",
   "execution_count": null,
   "id": "91c90642",
   "metadata": {},
   "outputs": [],
   "source": []
  },
  {
   "cell_type": "code",
   "execution_count": null,
   "id": "fdcc8c29",
   "metadata": {},
   "outputs": [],
   "source": []
  },
  {
   "cell_type": "code",
   "execution_count": null,
   "id": "9e0620b7",
   "metadata": {},
   "outputs": [],
   "source": []
  },
  {
   "cell_type": "code",
   "execution_count": null,
   "id": "948dc415",
   "metadata": {},
   "outputs": [],
   "source": []
  },
  {
   "cell_type": "code",
   "execution_count": null,
   "id": "1aa0d590",
   "metadata": {},
   "outputs": [],
   "source": []
  }
 ],
 "metadata": {
  "kernelspec": {
   "display_name": "Python 3 (ipykernel)",
   "language": "python",
   "name": "python3"
  },
  "language_info": {
   "codemirror_mode": {
    "name": "ipython",
    "version": 3
   },
   "file_extension": ".py",
   "mimetype": "text/x-python",
   "name": "python",
   "nbconvert_exporter": "python",
   "pygments_lexer": "ipython3",
   "version": "3.9.13"
  }
 },
 "nbformat": 4,
 "nbformat_minor": 5
}
