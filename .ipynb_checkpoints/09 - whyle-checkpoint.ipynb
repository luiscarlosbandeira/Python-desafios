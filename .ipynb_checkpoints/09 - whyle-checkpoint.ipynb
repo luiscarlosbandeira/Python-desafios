{
 "cells": [
  {
   "cell_type": "markdown",
   "id": "5a16d000",
   "metadata": {},
   "source": [
    "Funcionamento"
   ]
  },
  {
   "cell_type": "markdown",
   "id": "6f74b048",
   "metadata": {},
   "source": [
    "O while é utilizado para repetir o código de maneira indeterminada até uma condição ser alterada."
   ]
  },
  {
   "cell_type": "markdown",
   "id": "570c7c44",
   "metadata": {},
   "source": [
    "Exemplo 1: Quanto uma automação é criada"
   ]
  },
  {
   "cell_type": "markdown",
   "id": "f9a840d1",
   "metadata": {},
   "source": [
    "Exemplo 2: Criando um programa que funciona como registro de vendas de uma empresa"
   ]
  },
  {
   "cell_type": "markdown",
   "id": "fd3931f2",
   "metadata": {},
   "source": [
    "Nesse programa deve ser inserido o nome do produto e o produto precisa ser inserido na lista de venda. Enquanto o usuário não encerra o programa, significa que ele está registrando novos produtos."
   ]
  },
  {
   "cell_type": "code",
   "execution_count": 2,
   "id": "3b19ad0b",
   "metadata": {},
   "outputs": [
    {
     "name": "stdout",
     "output_type": "stream",
     "text": [
      "Registro o produto. Para cancelar o registro de um produto aperte enter sem informar nada.56\n",
      "Registro o produto. Para cancelar o registro de um produto aperte enter sem informar nada.56\n",
      "Registro o produto. Para cancelar o registro de um produto aperte enter sem informar nada.\n",
      "Registro finalizado. Os produtos cadastrados foram: ['56', '56']\n"
     ]
    }
   ],
   "source": [
    "venda = input('Registro o produto. Para cancelar o registro de um produto aperte enter sem informar nada.')\n",
    "vendas = []\n",
    "\n",
    "while venda != '':\n",
    "    vendas.append(venda)\n",
    "    venda = input('Registro o produto. Para cancelar o registro de um produto aperte enter sem informar nada.')\n",
    "\n",
    "\n",
    "print('Registro finalizado. Os produtos cadastrados foram: {}'.format(vendas))"
   ]
  },
  {
   "cell_type": "code",
   "execution_count": null,
   "id": "4d84b420",
   "metadata": {},
   "outputs": [],
   "source": []
  },
  {
   "cell_type": "markdown",
   "id": "b94c99fa",
   "metadata": {},
   "source": [
    "Crie um input até o usuário registrando produto e quantidade"
   ]
  },
  {
   "cell_type": "code",
   "execution_count": 4,
   "id": "97d392c7",
   "metadata": {},
   "outputs": [
    {
     "name": "stdout",
     "output_type": "stream",
     "text": [
      "Informe o nome do produtoarroz\n",
      "Informe a quantidade45\n",
      "Informe o nome do produto\n",
      "[['arroz', 45]]\n"
     ]
    }
   ],
   "source": [
    "vendas = []\n",
    "\n",
    "while True:\n",
    "\n",
    "    #Inputs\n",
    "    produto = input('Informe o nome do produto')\n",
    "    \n",
    "\n",
    "    if not produto:\n",
    "        break\n",
    "    quantidade = int(input('Informe a quantidade'))\n",
    "    vendas.append([produto, quantidade])\n",
    "\n",
    "print(vendas)"
   ]
  },
  {
   "cell_type": "code",
   "execution_count": null,
   "id": "2b59e8e5",
   "metadata": {},
   "outputs": [],
   "source": []
  }
 ],
 "metadata": {
  "kernelspec": {
   "display_name": "Python 3 (ipykernel)",
   "language": "python",
   "name": "python3"
  },
  "language_info": {
   "codemirror_mode": {
    "name": "ipython",
    "version": 3
   },
   "file_extension": ".py",
   "mimetype": "text/x-python",
   "name": "python",
   "nbconvert_exporter": "python",
   "pygments_lexer": "ipython3",
   "version": "3.9.13"
  }
 },
 "nbformat": 4,
 "nbformat_minor": 5
}
