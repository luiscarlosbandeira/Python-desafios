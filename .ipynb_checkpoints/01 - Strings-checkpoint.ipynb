{
 "cells": [
  {
   "cell_type": "code",
   "execution_count": 2,
   "id": "5fab76ac",
   "metadata": {},
   "outputs": [],
   "source": [
    "email = 'luis.edu.ifac@gmail.com'\n",
    "nome = 'luis carlos'"
   ]
  },
  {
   "cell_type": "code",
   "execution_count": 3,
   "id": "7e5c2581",
   "metadata": {},
   "outputs": [
    {
     "name": "stdout",
     "output_type": "stream",
     "text": [
      "11\n"
     ]
    }
   ],
   "source": [
    "# tamanho da string\n",
    "\n",
    "print(len(nome))"
   ]
  },
  {
   "cell_type": "code",
   "execution_count": 7,
   "id": "8eaf576f",
   "metadata": {},
   "outputs": [
    {
     "name": "stdout",
     "output_type": "stream",
     "text": [
      "e\n"
     ]
    }
   ],
   "source": [
    "# capturando posição especifica da string\n",
    "\n",
    "print(email[5])"
   ]
  },
  {
   "cell_type": "code",
   "execution_count": 8,
   "id": "3769b9a2",
   "metadata": {},
   "outputs": [
    {
     "name": "stdout",
     "output_type": "stream",
     "text": [
      "luis\n"
     ]
    }
   ],
   "source": [
    "# capturando pedaco  de uma string\n",
    "\n",
    "print(email[0:4])"
   ]
  },
  {
   "cell_type": "code",
   "execution_count": 12,
   "id": "1589f750",
   "metadata": {},
   "outputs": [
    {
     "name": "stdout",
     "output_type": "stream",
     "text": [
      "tamanho do email 23 caracateres\n",
      "Primeiro caractere do email l\n",
      "Ultimo caractere do email m\n",
      "Servido do email gmail.com\n"
     ]
    }
   ],
   "source": [
    "# para fixar \n",
    "\n",
    "print('tamanho do email '+ str(len(email)) + ' caracateres')\n",
    "print('Primeiro caractere do email ' +str(email[0]))\n",
    "print('Ultimo caractere do email '+str(email[-1]))\n",
    "print('Servido do email '+ str(email[14: ]))"
   ]
  },
  {
   "cell_type": "code",
   "execution_count": null,
   "id": "4fc93d69",
   "metadata": {},
   "outputs": [],
   "source": [
    "# Operacoes com Strings\n",
    "\n",
    "# str -> transforma número em string\n",
    "# in - > verifica se um caracter existe dentro de outro\n",
    "# sinal '+' => utilizado para concatenação\n",
    "# format e {} => substituição de valores\n",
    "# %s => substituição de textos\n",
    "# %d => substituição de numeros decimais"
   ]
  },
  {
   "cell_type": "code",
   "execution_count": 16,
   "id": "a582ff3b",
   "metadata": {},
   "outputs": [],
   "source": [
    "faturamento = 1000\n",
    "custo = 500\n",
    "lucro = faturamento - custo"
   ]
  },
  {
   "cell_type": "code",
   "execution_count": 17,
   "id": "0a048e1c",
   "metadata": {},
   "outputs": [
    {
     "name": "stdout",
     "output_type": "stream",
     "text": [
      "O faturamento da loja foi de: 1000\n"
     ]
    }
   ],
   "source": [
    "print('O faturamento da loja foi de: {}'.format(faturamento))"
   ]
  },
  {
   "cell_type": "code",
   "execution_count": 18,
   "id": "5893603d",
   "metadata": {},
   "outputs": [
    {
     "name": "stdout",
     "output_type": "stream",
     "text": [
      "O faturamento foi de: 1000. O custo foi de 500 e o lucro foi de: 500\n"
     ]
    }
   ],
   "source": [
    "print('O faturamento foi de: {}. O custo foi de {} e o lucro foi de: {}'.format(faturamento,custo,lucro))"
   ]
  },
  {
   "cell_type": "code",
   "execution_count": null,
   "id": "6ad4c36e",
   "metadata": {},
   "outputs": [],
   "source": [
    "# verificando se um caractere existe dentro do outro\n",
    "\n",
    "if '@' in 'luis.edu.ifac@gmail.com':\n",
    "    print('O @ existe na string')\n",
    "else:\n",
    "    print('O @ nao existe na string')"
   ]
  },
  {
   "cell_type": "code",
   "execution_count": null,
   "id": "22e814dc",
   "metadata": {},
   "outputs": [],
   "source": []
  },
  {
   "cell_type": "code",
   "execution_count": null,
   "id": "367363d2",
   "metadata": {},
   "outputs": [],
   "source": []
  }
 ],
 "metadata": {
  "kernelspec": {
   "display_name": "Python 3 (ipykernel)",
   "language": "python",
   "name": "python3"
  },
  "language_info": {
   "codemirror_mode": {
    "name": "ipython",
    "version": 3
   },
   "file_extension": ".py",
   "mimetype": "text/x-python",
   "name": "python",
   "nbconvert_exporter": "python",
   "pygments_lexer": "ipython3",
   "version": "3.9.13"
  }
 },
 "nbformat": 4,
 "nbformat_minor": 5
}
