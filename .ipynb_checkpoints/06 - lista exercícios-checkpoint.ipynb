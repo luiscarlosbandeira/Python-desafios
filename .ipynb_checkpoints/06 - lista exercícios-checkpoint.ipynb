{
 "cells": [
  {
   "cell_type": "markdown",
   "id": "7141ca33",
   "metadata": {},
   "source": [
    "Qual foi o valor de vendas do melhor mês do ano? E o valor do pior mês do ano?"
   ]
  },
  {
   "cell_type": "code",
   "execution_count": 1,
   "id": "083c2321",
   "metadata": {},
   "outputs": [],
   "source": [
    "meses = ['jan', 'fev', 'mar', 'abr', 'mai', 'jun', 'ago', 'set', 'out', 'nov', 'dez']\n",
    "vendas_1_sem = [1000, 2000, 3000, 500, 120, 10000]\n",
    "vendas_2_sem = [500, 3250, 10, 50850, 130, 9999]"
   ]
  },
  {
   "cell_type": "code",
   "execution_count": 2,
   "id": "cb1fd06d",
   "metadata": {},
   "outputs": [
    {
     "name": "stdout",
     "output_type": "stream",
     "text": [
      "Todas as vendas do ano [1000, 2000, 3000, 500, 120, 10000, 500, 3250, 10, 50850, 130, 9999], sendo a pior venda o valor de 10 e a melhor venda o valor de 50850\n"
     ]
    }
   ],
   "source": [
    "vendas_total_ano = vendas_1_sem + vendas_2_sem\n",
    "pior_venda_ano = min(vendas_total_ano)\n",
    "melhor_venda_ano = max(vendas_total_ano)\n",
    "\n",
    "\n",
    "print('Todas as vendas do ano {}, sendo a pior venda o valor de {} e a melhor venda o valor de {}'.format(vendas_total_ano, pior_venda_ano, melhor_venda_ano))\n"
   ]
  },
  {
   "cell_type": "code",
   "execution_count": null,
   "id": "44cbe510",
   "metadata": {},
   "outputs": [],
   "source": []
  },
  {
   "cell_type": "markdown",
   "id": "88d548d8",
   "metadata": {},
   "source": [
    "Melhorando"
   ]
  },
  {
   "cell_type": "code",
   "execution_count": 6,
   "id": "1e65768b",
   "metadata": {},
   "outputs": [
    {
     "name": "stdout",
     "output_type": "stream",
     "text": [
      "O faturamento total foi de: R$ 81.359,00\n",
      "Sendo o melhor mês o de nov representando 62.50% de vendas e o pior mês foi o de out representando 0.01%\n"
     ]
    }
   ],
   "source": [
    "#Pior mês\n",
    "indice_pior_mes = vendas_total_ano.index(pior_venda_ano)\n",
    "pior_mes = meses[indice_pior_mes]\n",
    "\n",
    "#Melhor mês\n",
    "indice_melhor_mes = vendas_total_ano.index(melhor_venda_ano)\n",
    "melhor_mes = meses[indice_melhor_mes]\n",
    "\n",
    "#Faturamento total\n",
    "faturamento_total = sum(vendas_total_ano)\n",
    "faturamento_total_br =  'R$ {:_.2f}'.format(faturamento_total).replace('.', ',').replace('_', '.')\n",
    "\n",
    "#Percentual melhor mes sobre o total\n",
    "perc_melhor = melhor_venda_ano / faturamento_total\n",
    "\n",
    "#Percentual pior mes sobre o total\n",
    "perc_pior = pior_venda_ano / faturamento_total\n",
    "\n",
    "\n",
    "print('O faturamento total foi de: {}\\nSendo o melhor mês o de {} representando {:.2%} de vendas e o pior mês foi o de {} representando {:.2%}'\n",
    ".format(faturamento_total_br, melhor_mes, perc_melhor, pior_mes, perc_pior))\n",
    "     "
   ]
  },
  {
   "cell_type": "markdown",
   "id": "ab575437",
   "metadata": {},
   "source": [
    "Crie uma lista com o top valores de vendas do ano"
   ]
  },
  {
   "cell_type": "code",
   "execution_count": 7,
   "id": "fd183e61",
   "metadata": {},
   "outputs": [
    {
     "name": "stdout",
     "output_type": "stream",
     "text": [
      "Iteração de número: 1\n",
      "Lista completa: [1000, 2000, 3000, 500, 120, 10000, 500, 3250, 10, 50850, 130, 9999]\n",
      "Maior valor: 50850\n",
      "Top3: [50850]\n",
      "Lista completa após remoção [1000, 2000, 3000, 500, 120, 10000, 500, 3250, 10, 130, 9999]: \n",
      "\n",
      "\n",
      "Iteração de número: 2\n",
      "Lista completa: [1000, 2000, 3000, 500, 120, 10000, 500, 3250, 10, 130, 9999]\n",
      "Maior valor: 10000\n",
      "Top3: [50850, 10000]\n",
      "Lista completa após remoção [1000, 2000, 3000, 500, 120, 500, 3250, 10, 130, 9999]: \n",
      "\n",
      "\n",
      "Iteração de número: 3\n",
      "Lista completa: [1000, 2000, 3000, 500, 120, 500, 3250, 10, 130, 9999]\n",
      "Maior valor: 9999\n",
      "Top3: [50850, 10000, 9999]\n",
      "Lista completa após remoção [1000, 2000, 3000, 500, 120, 500, 3250, 10, 130]: \n",
      "\n",
      "\n"
     ]
    }
   ],
   "source": [
    "#lista\n",
    "top3 = []\n",
    "\n",
    "#Copia a lista, visto que a nova lista terá remoções\n",
    "vendas_total_ano_new = vendas_total_ano.copy()\n",
    "\n",
    "#iterador\n",
    "i = 1\n",
    "\n",
    "#loop\n",
    "while i <= 3:\n",
    "\n",
    "    print('Iteração de número: {}'.format(i))\n",
    "    print('Lista completa: {}'.format(vendas_total_ano_new))\n",
    "\n",
    "    maior_valor = max(vendas_total_ano_new)\n",
    "    top3.append(maior_valor)\n",
    "    vendas_total_ano_new.remove(maior_valor)\n",
    "\n",
    "    \n",
    "    print('Maior valor: {}' .format(maior_valor))\n",
    "    print('Top3: {}'.format(top3))\n",
    "    print('Lista completa após remoção {}: '.format(vendas_total_ano_new))\n",
    "    print('\\n')\n",
    "    i = i + 1"
   ]
  },
  {
   "cell_type": "markdown",
   "id": "385f05cb",
   "metadata": {},
   "source": [
    "Mudança de Carga Tributária\n",
    "Reformas e mudanças de cargas tributárias são bem comuns no Brasil.\n",
    "Digamos que você trabalhe em uma empresa de ecommerce\n",
    "\n",
    "No Brasil, o imposto sobre livros é zerado. De um ano para o outro, o governo criou um novo imposto que incide em 10% sobre o valor dos livros e agora você precisa alterar o registro dos preços dos livros da empresa para garantir que esse imposto vai ser repassado para o preço final do produto.\n",
    "\n",
    "Crie um código que recalcule o valor do livro da sua lista de produtos e ajuste na tabela.\n",
    "\n",
    "Além disso, calcule qual vai ser o impacto financeiro da criação desse imposto para a empresa (ou seja, quanto que o imposto vai aumentar de custo para a empresa)\n",
    "\n",
    "Obs: para facilitar, colocamos apenas 1 livro na lista, mas em breve vamos aprender um for que vai adaptar esse cenário para qualquer quantidade de livros na sua lista.\n",
    "\n",
    "Obs2: Seu código deve funcionar mesmo que não haja livros na lista de produtos da empresa"
   ]
  },
  {
   "cell_type": "code",
   "execution_count": 8,
   "id": "8709f2a3",
   "metadata": {},
   "outputs": [],
   "source": [
    "produtos = ['computador', 'livro', 'tablet', 'celular', 'tv', 'ar condicionado', 'alexa', 'máquina de café', 'kindle']\n",
    "\n",
    "#cada item da lista dos produtos corresponde a quantidade de vendas no mês e preço, nessa ordem\n",
    "produtos_ecommerce = [\n",
    "    [10000, 2500],\n",
    "    [50000, 40],\n",
    "    [7000, 1200],\n",
    "    [20000, 1500],\n",
    "    [5800, 1300],\n",
    "    [7200, 2500],\n",
    "    [200, 800],\n",
    "    [3300, 700],\n",
    "    [1900, 400]\n",
    "]"
   ]
  },
  {
   "cell_type": "code",
   "execution_count": 9,
   "id": "36208ebe",
   "metadata": {},
   "outputs": [
    {
     "name": "stdout",
     "output_type": "stream",
     "text": [
      "O total antes dos impostos é de: 2000000\n",
      "O total após os impostos é de: 2200000.0\n",
      "O impacto foi de: 200000.0\n"
     ]
    }
   ],
   "source": [
    "if 'livro' in produtos:\n",
    "\n",
    "\n",
    "    #Descobrindo o indice do livro\n",
    "    indice_livro = produtos.index('livro')\n",
    "\n",
    "    #Descobrindo quantidade e valor atual\n",
    "    quantidade_livro = produtos_ecommerce[indice_livro][0]\n",
    "    valor_atual_livro = produtos_ecommerce[indice_livro][1]\n",
    "    total_antes_impostos = produtos_ecommerce[indice_livro][0] * produtos_ecommerce[indice_livro][1]\n",
    "    print('O total antes dos impostos é de: {}'.format(total_antes_impostos))\n",
    "\n",
    "    #Valor atual do livro + 10% \n",
    "    valor_atual_livro_10 = valor_atual_livro * 1.10\n",
    "\n",
    "    #Atribuindo o valor corrigido\n",
    "    produtos_ecommerce[indice_livro][1] = valor_atual_livro_10\n",
    "\n",
    "    #Calculando o impacto\n",
    "    total_apos_impostos = produtos_ecommerce[indice_livro][0] * produtos_ecommerce[indice_livro][1]\n",
    "    print('O total após os impostos é de: {}'.format(total_apos_impostos))\n",
    "\n",
    "    impacto = total_apos_impostos - total_antes_impostos\n",
    "\n",
    "\n",
    "    print('O impacto foi de: {}'.format(impacto))\n",
    "\n",
    "else:\n",
    "    print('O produto não existe na lista')"
   ]
  },
  {
   "cell_type": "code",
   "execution_count": null,
   "id": "c18970f7",
   "metadata": {},
   "outputs": [],
   "source": []
  }
 ],
 "metadata": {
  "kernelspec": {
   "display_name": "Python 3 (ipykernel)",
   "language": "python",
   "name": "python3"
  },
  "language_info": {
   "codemirror_mode": {
    "name": "ipython",
    "version": 3
   },
   "file_extension": ".py",
   "mimetype": "text/x-python",
   "name": "python",
   "nbconvert_exporter": "python",
   "pygments_lexer": "ipython3",
   "version": "3.9.13"
  }
 },
 "nbformat": 4,
 "nbformat_minor": 5
}
