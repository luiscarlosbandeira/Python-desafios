{
 "cells": [
  {
   "cell_type": "markdown",
   "id": "44d990ae",
   "metadata": {},
   "source": [
    "Criando um Registro de Hóspedes\n",
    "Digamos que você está criando o sistema para registrar a chegada de hóspedes em um hotel. No hotel, os hóspedes podem ter quartos com 1, 2, 3 e 4 pessoas. Seu sistema deve conseguir:\n",
    "\n",
    "Identificar quantas pessoas o hóspede que acabou de chegar vai ter no quarto (perguntando por meio de input)\n",
    "De acordo com a quantidade de pessoas do hóspede, ele deve fazer um for para perguntar o cpf e o nome de cada pessoa, a fim de registrá-la no quarto (2 inputs para cada pessoa, 1 para o cpf e outro para o nome)\n",
    "O seu programa então deve gerar uma lista com todas as pessoas que ficarão no quarto em que cada item dessa lista é o nome da pessoa e o cpf da pessoa, assim:\n",
    "Para simplificar, não vamos nos preocupar com possibilidades de \"tentar colocar mais de 1 hóspede, digitar o cpf errado, etc. Nosso objetivo é treinar a criação de uma rotina de cadastro"
   ]
  },
  {
   "cell_type": "code",
   "execution_count": 2,
   "id": "5ca68075",
   "metadata": {},
   "outputs": [
    {
     "name": "stdout",
     "output_type": "stream",
     "text": [
      "Quantas pessoas terão no quarto? 2\n",
      "Informe o seu nome: luis\n",
      "Informe o seu cpf: 22222222\n",
      "Informe o seu nome: luis\n",
      "Informe o seu cpf: sss\n",
      "[['luis', 'cpf: 22222222'], ['luis', 'cpf: sss']]\n"
     ]
    }
   ],
   "source": [
    "limite_pessoas = 4\n",
    "quantidade_pessoas = int(input('Quantas pessoas terão no quarto? '))\n",
    "\n",
    "\n",
    "if quantidade_pessoas > limite_pessoas:\n",
    "    print('O limite máximo é de {} e você informou {} pessoas'.format(limite_pessoas, quantidade_pessoas))\n",
    "else: \n",
    "    quarto = []\n",
    "    for i in range(quantidade_pessoas):\n",
    "        nome = input('Informe o seu nome: ')\n",
    "        cpf = input('Informe o seu cpf: ')\n",
    "        hospede = [nome, 'cpf: {}'.format(cpf)]\n",
    "        quarto.append(hospede)\n",
    "    print(quarto)"
   ]
  },
  {
   "cell_type": "code",
   "execution_count": 4,
   "id": "e7031b0b",
   "metadata": {},
   "outputs": [
    {
     "name": "stdout",
     "output_type": "stream",
     "text": [
      "O vendedor João bateu a meta pois fez o total de 15000 vendas\n",
      "O vendedor Julia bateu a meta pois fez o total de 27000 vendas\n",
      "O vendedor Ana bateu a meta pois fez o total de 10300 vendas\n"
     ]
    }
   ],
   "source": [
    "#Análise de Vendas\n",
    "\n",
    "meta = 10000\n",
    "vendas = [\n",
    "    ['João', 15000],\n",
    "    ['Julia', 27000],\n",
    "    ['Marcus', 9900],\n",
    "    ['Maria', 3750],\n",
    "    ['Ana', 10300],\n",
    "    ['Alon', 7870],\n",
    "]\n",
    "\n",
    "for item in vendas:\n",
    "    if item[1] >= meta:\n",
    "        print('O vendedor {} bateu a meta pois fez o total de {} vendas'.format(item[0], item[1]))"
   ]
  },
  {
   "cell_type": "code",
   "execution_count": null,
   "id": "11cee137",
   "metadata": {},
   "outputs": [],
   "source": []
  },
  {
   "cell_type": "markdown",
   "id": "994da6a3",
   "metadata": {},
   "source": []
  },
  {
   "cell_type": "code",
   "execution_count": 8,
   "id": "089893d5",
   "metadata": {},
   "outputs": [],
   "source": [
    "estoque = [\n",
    "    [294, 125, 269, 208, 783, 852, 259, 371, 47, 102, 386, 87, 685, 686, 697, 941, 163, 631, 7, 714, 218, 670, 453],\n",
    "    [648, 816, 310, 555, 992, 643, 226, 319, 501, 23, 239, 42, 372, 441, 126, 645, 927, 911, 761, 445, 974, 2, 549],\n",
    "    [832, 683, 784, 449, 977, 705, 198, 937, 729, 327, 339, 10, 975, 310, 95, 689, 137, 795, 211, 538, 933, 751, 522],\n",
    "    [837, 168, 570, 397, 53, 297, 966, 714, 72, 737, 259, 629, 625, 469, 922, 305, 782, 243, 841, 848, 372, 621, 362],\n",
    "    [429, 242, 53, 985, 406, 186, 198, 50, 501, 870, 781, 632, 781, 105, 644, 509, 401, 88, 961, 765, 422, 340, 654],\n",
    "]\n",
    "fabricas = ['Lira Manufacturing', 'Fábrica Hashtag', 'Python Manufaturas', 'Produções e Cia', 'Manufatura e Cia']\n",
    "nivel_minimo = 50"
   ]
  },
  {
   "cell_type": "code",
   "execution_count": 9,
   "id": "f5d05782",
   "metadata": {},
   "outputs": [
    {
     "name": "stdout",
     "output_type": "stream",
     "text": [
      "As fábrica Lira Manufacturing possui itens abaixo do nível\n",
      "As fábrica Fábrica Hashtag possui itens abaixo do nível\n",
      "As fábrica Python Manufaturas possui itens abaixo do nível\n"
     ]
    }
   ],
   "source": [
    "fabricas_abaixo_nivel = []\n",
    "\n",
    "for i, lista in enumerate(estoque):\n",
    "\n",
    "    #Verificando na lista fabricas abaixo do valor mminimo\n",
    "    for quantidade in lista:\n",
    "        if quantidade < nivel_minimo:\n",
    "            if fabricas[i] in fabricas_abaixo_nivel:\n",
    "                pass\n",
    "            else:\n",
    "                fabricas_abaixo_nivel.append(fabricas[i])\n",
    "\n",
    "for fabrica in fabricas_abaixo_nivel:\n",
    "    print('As fábrica {} possui itens abaixo do nível'.format(fabrica))"
   ]
  },
  {
   "cell_type": "code",
   "execution_count": null,
   "id": "bfe217f5",
   "metadata": {},
   "outputs": [],
   "source": []
  },
  {
   "cell_type": "markdown",
   "id": "68540c4d",
   "metadata": {},
   "source": [
    "Calculando % de uma lista\n",
    "Faremos algo parecido com \"filtrar\" uma lista. Mais pra frente no curso aprenderemos outras formas de fazer isso, mas com o nosso conhecimentoa atual já conseguimos resolver o desafio.\n",
    "\n",
    "Digamos que a gente tenha uma lista de vendedores e ao invés de saber todos os vendedores que bateram a meta, eu quero conseguir calcular o % de vendedores que bateram a meta. Ou seja, se temos 10 vendedores e 3 bateram a meta, temos 30% dos vendedores que bateram a meta."
   ]
  },
  {
   "cell_type": "code",
   "execution_count": 10,
   "id": "5b77ef97",
   "metadata": {},
   "outputs": [],
   "source": [
    "meta = 10000\n",
    "vendas = [\n",
    "    ['João', 15000],\n",
    "    ['Julia', 27000],\n",
    "    ['Marcus', 9900],\n",
    "    ['Maria', 3750],\n",
    "    ['Ana', 10300],\n",
    "    ['Alon', 7870],\n",
    "]\n",
    "#seu código aqui"
   ]
  },
  {
   "cell_type": "code",
   "execution_count": 11,
   "id": "a2654a65",
   "metadata": {},
   "outputs": [
    {
     "name": "stdout",
     "output_type": "stream",
     "text": [
      "O percentual de vendedores que bateram a meta foi de 50.00%\n"
     ]
    }
   ],
   "source": [
    "#Resolução 1 com lista auxiliar\n",
    "vendedores_meta_batida = []\n",
    "\n",
    "for venda in vendas:\n",
    "    if venda[1] > meta:\n",
    "        vendedores_meta_batida.append(venda[0])\n",
    "\n",
    "total_vendedores = len(vendas)\n",
    "total_vendedores_meta_batida = len(vendedores_meta_batida)\n",
    "perc_meta_batida = total_vendedores_meta_batida / total_vendedores\n",
    "\n",
    "print('O percentual de vendedores que bateram a meta foi de {:.2%}'.format(perc_meta_batida))"
   ]
  },
  {
   "cell_type": "code",
   "execution_count": 12,
   "id": "d8dbed99",
   "metadata": {},
   "outputs": [
    {
     "name": "stdout",
     "output_type": "stream",
     "text": [
      "O percentual de vendedores que bateram a meta foi de 50.00%\n"
     ]
    }
   ],
   "source": [
    "#Resolução 2 reutilizando a lista aplicando o cálculo dentro da lista\n",
    "quantidade_vendedores_acima_meta = 0\n",
    "\n",
    "for venda in vendas:\n",
    "    if venda[1] >= meta:\n",
    "        quantidade_vendedores_acima_meta += 1\n",
    "\n",
    "\n",
    "print('O percentual de vendedores que bateram a meta foi de {:.2%}'.format(quantidade_vendedores_acima_meta / len(vendas)))"
   ]
  },
  {
   "cell_type": "markdown",
   "id": "fbf5d043",
   "metadata": {},
   "source": [
    "# Dados de interação de usuários com propagandas online"
   ]
  },
  {
   "cell_type": "markdown",
   "id": "1670ca94",
   "metadata": {},
   "source": [
    "Na lista propaganda_online abaixo, estão presente os dados de usuários que acessaram um determinado site e se o mesmo clicou em uma propaganda."
   ]
  },
  {
   "cell_type": "code",
   "execution_count": 57,
   "id": "d5e3c8bb",
   "metadata": {},
   "outputs": [],
   "source": [
    "propaganda_online = [\n",
    "  {'tempo_gasto_site': 68.95, 'idade': 35, 'renda_area': 61833.90, 'tempo_gasto_internet': 256.09, 'cidade': 'Wrightburgh', 'pais': 'Tunisia', 'clicou_no_ad': 0},\n",
    "  {'tempo_gasto_site': 80.23, 'idade': 31, 'renda_area': 68441.85, 'tempo_gasto_internet': 193.77, 'cidade': 'West Jodi', 'pais': 'Nauru', 'clicou_no_ad': 0},\n",
    "  {'tempo_gasto_site': 69.47, 'idade': 26, 'renda_area': 59785.94, 'tempo_gasto_internet': 236.50, 'cidade': 'Davidton', 'pais': 'San Marino', 'clicou_no_ad': 0},\n",
    "  {'tempo_gasto_site': 68.37, 'idade': 35, 'renda_area': 73889.99, 'tempo_gasto_internet': 225.58, 'cidade': 'South Manuel', 'pais': 'Iceland', 'clicou_no_ad': 0},\n",
    "  {'tempo_gasto_site': 88.91, 'idade': 33, 'renda_area': 53852.85, 'tempo_gasto_internet': 208.36, 'cidade': 'Brandonstad', 'pais': 'Myanmar', 'clicou_no_ad': 0},\n",
    "  {'tempo_gasto_site': None, 'idade': 48, 'renda_area': 24593.33, 'tempo_gasto_internet': 131.76, 'cidade': 'Port Jefferybury', 'pais': 'Australia', 'clicou_no_ad': 1},\n",
    "  {'tempo_gasto_site': 74.53, 'idade': 30, 'renda_area': 68862.00, 'tempo_gasto_internet': 221.51, 'cidade': 'West Colin', 'pais': 'Grenada','clicou_no_ad': 1},\n",
    "  {'tempo_gasto_site': 69.88, 'idade': 20, 'renda_area': 55642.32, 'tempo_gasto_internet': 183.82, 'cidade': 'Ramirezton', 'pais': 'Ghana', 'clicou_no_ad': 0}\n",
    "]"
   ]
  },
  {
   "cell_type": "code",
   "execution_count": 58,
   "id": "843e5617",
   "metadata": {},
   "outputs": [
    {
     "name": "stdout",
     "output_type": "stream",
     "text": [
      "{'tempo_gasto_site': 68.95, 'idade': 35, 'renda_area': 61833.9, 'tempo_gasto_internet': 256.09, 'cidade': 'Wrightburgh', 'pais': 'Tunisia', 'clicou_no_ad': 0}\n",
      "{'tempo_gasto_site': 80.23, 'idade': 31, 'renda_area': 68441.85, 'tempo_gasto_internet': 193.77, 'cidade': 'West Jodi', 'pais': 'Nauru', 'clicou_no_ad': 0}\n",
      "{'tempo_gasto_site': 69.47, 'idade': 26, 'renda_area': 59785.94, 'tempo_gasto_internet': 236.5, 'cidade': 'Davidton', 'pais': 'San Marino', 'clicou_no_ad': 0}\n",
      "{'tempo_gasto_site': 68.37, 'idade': 35, 'renda_area': 73889.99, 'tempo_gasto_internet': 225.58, 'cidade': 'South Manuel', 'pais': 'Iceland', 'clicou_no_ad': 0}\n",
      "{'tempo_gasto_site': 88.91, 'idade': 33, 'renda_area': 53852.85, 'tempo_gasto_internet': 208.36, 'cidade': 'Brandonstad', 'pais': 'Myanmar', 'clicou_no_ad': 0}\n",
      "{'tempo_gasto_site': None, 'idade': 48, 'renda_area': 24593.33, 'tempo_gasto_internet': 131.76, 'cidade': 'Port Jefferybury', 'pais': 'Australia', 'clicou_no_ad': 1}\n",
      "{'tempo_gasto_site': 74.53, 'idade': 30, 'renda_area': 68862.0, 'tempo_gasto_internet': 221.51, 'cidade': 'West Colin', 'pais': 'Grenada', 'clicou_no_ad': 1}\n",
      "{'tempo_gasto_site': 69.88, 'idade': 20, 'renda_area': 55642.32, 'tempo_gasto_internet': 183.82, 'cidade': 'Ramirezton', 'pais': 'Ghana', 'clicou_no_ad': 0}\n"
     ]
    }
   ],
   "source": [
    "for dado_de_usuario in propaganda_online:\n",
    "  print(dado_de_usuario)"
   ]
  },
  {
   "cell_type": "code",
   "execution_count": 64,
   "id": "2021ead3",
   "metadata": {},
   "outputs": [
    {
     "name": "stdout",
     "output_type": "stream",
     "text": [
      "['Tunisia', 'Nauru', 'Iceland', 'Myanmar', 'Australia', 'Grenada']\n"
     ]
    }
   ],
   "source": [
    "# Crie uma lista chamada paises com o pais dos usuários com mais de 30 anos.\n",
    "\n",
    "paises = []\n",
    "for dado_de_usuario in propaganda_online:\n",
    "    \n",
    "    if dado_de_usuario['idade'] >= 30:\n",
    "        paises.append(dado_de_usuario['pais'])\n",
    "print(paises)"
   ]
  },
  {
   "cell_type": "code",
   "execution_count": 63,
   "id": "5a4798e2",
   "metadata": {},
   "outputs": [
    {
     "name": "stdout",
     "output_type": "stream",
     "text": [
      "[24593.33, 68862.0]\n"
     ]
    }
   ],
   "source": [
    "# Crie uma lista chamada leads com a renda dos usuários que clicaram na propaganda.\n",
    "\n",
    "leads = []\n",
    "\n",
    "for dado_de_usuario in propaganda_online:\n",
    "    if dado_de_usuario['clicou_no_ad'] > 0:\n",
    "        leads.append(dado_de_usuario['renda_area'])\n",
    "\n",
    "print(leads)\n",
    "leads = []"
   ]
  },
  {
   "cell_type": "code",
   "execution_count": 62,
   "id": "fb0ed61a",
   "metadata": {},
   "outputs": [
    {
     "name": "stdout",
     "output_type": "stream",
     "text": [
      "['Wrightburgh', 'West Jodi', 'Davidton', 'South Manuel', 'Brandonstad', 'Port Jefferybury', 'West Colin', 'Ramirezton']\n"
     ]
    }
   ],
   "source": [
    "# Crie uma lista chamada cidades com a cidade dos usuários que passaram mais de 70 segundos no site.\n",
    "\n",
    "cidades = []\n",
    "\n",
    "for dado_de_usuario in propaganda_online:\n",
    "    if dado_de_usuario['tempo_gasto_internet'] > 70:\n",
    "        cidades.append(dado_de_usuario['cidade'])\n",
    "        \n",
    "    \n",
    "  \n",
    "\n",
    "print(cidades)"
   ]
  },
  {
   "cell_type": "code",
   "execution_count": null,
   "id": "eade1d6b",
   "metadata": {},
   "outputs": [],
   "source": []
  }
 ],
 "metadata": {
  "kernelspec": {
   "display_name": "Python 3 (ipykernel)",
   "language": "python",
   "name": "python3"
  },
  "language_info": {
   "codemirror_mode": {
    "name": "ipython",
    "version": 3
   },
   "file_extension": ".py",
   "mimetype": "text/x-python",
   "name": "python",
   "nbconvert_exporter": "python",
   "pygments_lexer": "ipython3",
   "version": "3.9.13"
  }
 },
 "nbformat": 4,
 "nbformat_minor": 5
}
