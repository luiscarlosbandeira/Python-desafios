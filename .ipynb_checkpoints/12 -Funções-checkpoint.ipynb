{
 "cells": [
  {
   "cell_type": "markdown",
   "id": "c06a1fbc",
   "metadata": {},
   "source": [
    "# Function Python"
   ]
  },
  {
   "cell_type": "markdown",
   "id": "519d324b",
   "metadata": {},
   "source": [
    "As functions são blocos de código que servem 1 único propósito, fazem uma ação específica."
   ]
  },
  {
   "cell_type": "markdown",
   "id": "95b99c4e",
   "metadata": {},
   "source": [
    "Exemplo: Criando uma função de cadastro de um Produto. Essa função deve garantir que o produto cadastrado está em letra minúscula."
   ]
  },
  {
   "cell_type": "code",
   "execution_count": 1,
   "id": "912870f3",
   "metadata": {},
   "outputs": [],
   "source": [
    "def cadastrar_produto():\n",
    "    produto = input('Digite o nome do produto: ')\n",
    "    produto = produto.casefold()\n",
    "    print('Produto {} cadastrado com sucesso'.format(produto))"
   ]
  },
  {
   "cell_type": "code",
   "execution_count": 2,
   "id": "732b8eb4",
   "metadata": {},
   "outputs": [
    {
     "name": "stdout",
     "output_type": "stream",
     "text": [
      "Digite o nome do produto: luis\n",
      "Produto luis cadastrado com sucesso\n"
     ]
    }
   ],
   "source": [
    "cadastrar_produto()"
   ]
  },
  {
   "cell_type": "markdown",
   "id": "aa321e93",
   "metadata": {},
   "source": [
    "# Retornar um valor na Function Python"
   ]
  },
  {
   "cell_type": "markdown",
   "id": "d4d940fd",
   "metadata": {},
   "source": [
    "Exemplo: vamos criar uma função de cadastro de um Produto. Essa função deve garantir que o produto cadastrado está em letra minúscula"
   ]
  },
  {
   "cell_type": "code",
   "execution_count": 3,
   "id": "ea100885",
   "metadata": {},
   "outputs": [],
   "source": [
    "def cadastrar_produto():\n",
    "    produto = input('Digite o nome do produto que deseja cadastrar')\n",
    "    produto = produto.casefold()\n",
    "    produto = produto.strip()\n",
    "    return produto"
   ]
  },
  {
   "cell_type": "code",
   "execution_count": 4,
   "id": "7d1fa385",
   "metadata": {},
   "outputs": [
    {
     "name": "stdout",
     "output_type": "stream",
     "text": [
      "Digite o nome do produto que deseja cadastrarluis\n",
      "luis\n"
     ]
    }
   ],
   "source": [
    "produto = cadastrar_produto()\n",
    "print(produto)"
   ]
  },
  {
   "cell_type": "markdown",
   "id": "02c59313",
   "metadata": {},
   "source": [
    "# Argumentos/Parâmetros da Função"
   ]
  },
  {
   "cell_type": "code",
   "execution_count": 5,
   "id": "616fcd47",
   "metadata": {},
   "outputs": [
    {
     "name": "stdout",
     "output_type": "stream",
     "text": [
      "Produto Iphone Vendas 50\n",
      "Foram informados 4 argumentos no print anterior\n"
     ]
    }
   ],
   "source": [
    "vendas = 50\n",
    "print('Produto', 'Iphone', 'Vendas', vendas)\n",
    "print('Foram informados 4 argumentos no print anterior')"
   ]
  },
  {
   "cell_type": "code",
   "execution_count": 6,
   "id": "50e8732a",
   "metadata": {},
   "outputs": [
    {
     "name": "stdout",
     "output_type": "stream",
     "text": [
      "A soma utilizando a função é 60\n"
     ]
    }
   ],
   "source": [
    "# Só para mostrar o funcionamento, vamos criar uma função de soma\n",
    "def somar(num1, num2, num3):\n",
    "    return num1 + num2 + num3\n",
    "\n",
    "soma = somar(10, 20, 30)\n",
    "print('A soma utilizando a função é {}'.format(soma))\n"
   ]
  },
  {
   "cell_type": "markdown",
   "id": "e4be437d",
   "metadata": {},
   "source": [
    "Crie um programa que analise uma lista de produtos e envie instruções para a equipe de estoque dizendo quais produtos devem ser enviados para a área de bebidas alcóolicas"
   ]
  },
  {
   "cell_type": "code",
   "execution_count": 7,
   "id": "8c671dc9",
   "metadata": {},
   "outputs": [],
   "source": [
    "def verifica_produto_alcoolico(bebida):\n",
    "    \"\"\" Verifica se o produto informado é uma bebida alcóolica retornando true ou false \"\"\"\n",
    "    bebida = bebida.upper()\n",
    "    if 'BEB' in bebida:\n",
    "        return True\n",
    "    else:\n",
    "        return False"
   ]
  },
  {
   "cell_type": "code",
   "execution_count": 8,
   "id": "24759628",
   "metadata": {},
   "outputs": [
    {
     "name": "stdout",
     "output_type": "stream",
     "text": [
      "Enviar o produto beb46275 para o setor de bebidas alcóolicas\n",
      "Enviar o produto BEB21365 para o setor de bebidas alcóolicas\n",
      "Enviar o produto BEB31623 para o setor de bebidas alcóolicas\n",
      "Enviar o produto BEB73344 para o setor de bebidas alcóolicas\n",
      "Enviar o produto BEB80694 para o setor de bebidas alcóolicas\n",
      "Enviar o produto BEB19495 para o setor de bebidas alcóolicas\n",
      "Enviar o produto BEB97471 para o setor de bebidas alcóolicas\n",
      "Enviar o produto BEB62362 para o setor de bebidas alcóolicas\n",
      "Enviar o produto BEB85146 para o setor de bebidas alcóolicas\n",
      "Enviar o produto BEB48898 para o setor de bebidas alcóolicas\n",
      "Enviar o produto BEB79496 para o setor de bebidas alcóolicas\n",
      "Enviar o produto BEB15385 para o setor de bebidas alcóolicas\n",
      "Enviar o produto BEB24213 para o setor de bebidas alcóolicas\n",
      "Enviar o produto BEB56262 para o setor de bebidas alcóolicas\n",
      "Enviar o produto BEB75073 para o setor de bebidas alcóolicas\n"
     ]
    }
   ],
   "source": [
    "produtos = ['beb46275','TFA23962','TFA64715','TFA69555','TFA56743','BSA45510','TFA44968','CAR75448','CAR23596','CAR13490','BEB21365','BEB31623','BSA62419','BEB73344','TFA20079','BEB80694','BSA11769','BEB19495','TFA14792','TFA78043','BSA33484','BEB97471','BEB62362','TFA27311','TFA17715','BEB85146','BEB48898','BEB79496','CAR38417','TFA19947','TFA58799','CAR94811','BSA59251','BEB15385','BEB24213','BEB56262','BSA96915','CAR53454','BEB75073']\n",
    "\n",
    "#percorrer a lista de produtos verificando se é bebida alcóolica\n",
    "for produto in produtos:\n",
    "    if verifica_produto_alcoolico(produto):\n",
    "        print('Enviar o produto {} para o setor de bebidas alcóolicas'.format(produto))\n",
    "    "
   ]
  },
  {
   "cell_type": "markdown",
   "id": "6601f0ef",
   "metadata": {},
   "source": [
    "# Mais de 1 argumento e formas de passar argumento para uma função"
   ]
  },
  {
   "cell_type": "code",
   "execution_count": 9,
   "id": "88d2b4c1",
   "metadata": {},
   "outputs": [],
   "source": [
    "#   2 formas de passar o argumento:\n",
    "# 1. Em ordem (positional argument)\n",
    "# 2. Com o nome do argumento (keyword argument)"
   ]
  },
  {
   "cell_type": "markdown",
   "id": "cdaa4afe",
   "metadata": {},
   "source": [
    "Vamos mudar a função que fizemos na aula passada para conseguir categorizar qualquer tipo de bebida de acordo com o \"rótulo\" passado para a nsosa function. Basicamente nossa function agora tem que verificar se o produto é da categoria passada ou não."
   ]
  },
  {
   "cell_type": "code",
   "execution_count": 10,
   "id": "60e94181",
   "metadata": {},
   "outputs": [
    {
     "name": "stdout",
     "output_type": "stream",
     "text": [
      "Enviar BSA45510 para setor de bebidas não alcóolicas\n",
      "Enviar BEB21365 para setor de bebidas alcóolicas\n",
      "Enviar BEB31623 para setor de bebidas alcóolicas\n",
      "Enviar BSA62419 para setor de bebidas não alcóolicas\n",
      "Enviar BEB73344 para setor de bebidas alcóolicas\n",
      "Enviar BEB80694 para setor de bebidas alcóolicas\n",
      "Enviar BSA11769 para setor de bebidas não alcóolicas\n",
      "Enviar BEB19495 para setor de bebidas alcóolicas\n",
      "Enviar BSA33484 para setor de bebidas não alcóolicas\n",
      "Enviar BEB97471 para setor de bebidas alcóolicas\n",
      "Enviar BEB62362 para setor de bebidas alcóolicas\n",
      "Enviar BEB85146 para setor de bebidas alcóolicas\n",
      "Enviar BEB48898 para setor de bebidas alcóolicas\n",
      "Enviar BEB79496 para setor de bebidas alcóolicas\n",
      "Enviar BSA59251 para setor de bebidas não alcóolicas\n",
      "Enviar BEB15385 para setor de bebidas alcóolicas\n",
      "Enviar BEB24213 para setor de bebidas alcóolicas\n",
      "Enviar BEB56262 para setor de bebidas alcóolicas\n",
      "Enviar BSA96915 para setor de bebidas não alcóolicas\n",
      "Enviar BEB75073 para setor de bebidas alcóolicas\n"
     ]
    }
   ],
   "source": [
    "def verifica_produto_alcoolico(bebida, cod_categoria):\n",
    "    \"\"\" Verifica se o produto informado é uma bebida alcóolica retornando true ou false \"\"\"\n",
    "    bebida = bebida.upper()\n",
    "    if cod_categoria in bebida:\n",
    "        return True\n",
    "    else:\n",
    "        return False\n",
    "\n",
    "\n",
    "\n",
    "produtos = ['CAR46275','TFA23962','TFA64715','TFA69555','TFA56743','BSA45510','TFA44968','CAR75448','CAR23596','CAR13490','BEB21365','BEB31623','BSA62419','BEB73344','TFA20079','BEB80694','BSA11769','BEB19495','TFA14792','TFA78043','BSA33484','BEB97471','BEB62362','TFA27311','TFA17715','BEB85146','BEB48898','BEB79496','CAR38417','TFA19947','TFA58799','CAR94811','BSA59251','BEB15385','BEB24213','BEB56262','BSA96915','CAR53454','BEB75073']\n",
    "\n",
    "for produto in produtos:\n",
    "    #Primeira forma de especificar os argumentos, informando o seu nome e seu valor\n",
    "    if verifica_produto_alcoolico(cod_categoria='BEB', bebida=produto):\n",
    "        print('Enviar {} para setor de bebidas alcóolicas'.format(produto))\n",
    "    #Segunda forma informando apenas as variáveis ou valores\n",
    "    elif verifica_produto_alcoolico(produto, 'BSA'):\n",
    "        print('Enviar {} para setor de bebidas não alcóolicas'.format(produto))"
   ]
  },
  {
   "cell_type": "code",
   "execution_count": 11,
   "id": "c180c098",
   "metadata": {},
   "outputs": [
    {
     "name": "stdout",
     "output_type": "stream",
     "text": [
      "A quantidade total é de:\n",
      "39\n",
      "em todas as filiais\n"
     ]
    }
   ],
   "source": [
    "#Informando parâmetro no print\n",
    "quantidade_produtos = len(produtos)\n",
    "\n",
    "#Quebrando a linha\n",
    "print('A quantidade total é de:', quantidade_produtos, 'em todas as filiais', sep = '\\n')"
   ]
  },
  {
   "cell_type": "code",
   "execution_count": null,
   "id": "977e9c59",
   "metadata": {},
   "outputs": [],
   "source": []
  }
 ],
 "metadata": {
  "kernelspec": {
   "display_name": "Python 3 (ipykernel)",
   "language": "python",
   "name": "python3"
  },
  "language_info": {
   "codemirror_mode": {
    "name": "ipython",
    "version": 3
   },
   "file_extension": ".py",
   "mimetype": "text/x-python",
   "name": "python",
   "nbconvert_exporter": "python",
   "pygments_lexer": "ipython3",
   "version": "3.9.13"
  }
 },
 "nbformat": 4,
 "nbformat_minor": 5
}
