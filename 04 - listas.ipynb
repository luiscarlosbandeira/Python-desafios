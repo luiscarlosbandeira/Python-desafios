{
 "cells": [
  {
   "cell_type": "markdown",
   "metadata": {
    "id": "-cnop45Ts9bK"
   },
   "source": [
    "# Listas"
   ]
  },
  {
   "cell_type": "code",
   "execution_count": 3,
   "metadata": {
    "id": "mJByb8lStA4j"
   },
   "outputs": [],
   "source": [
    "dia_11_saldo_inicial = 1000"
   ]
  },
  {
   "cell_type": "code",
   "execution_count": 4,
   "metadata": {
    "id": "Al-2fRSRtFeS"
   },
   "outputs": [],
   "source": [
    "dia_11_transacao_1 = 243\n",
    "dia_11_transacao_2 = -798.58\n",
    "dia_11_transacao_3 = 427.12\n",
    "dia_11_transacao_4 = -10.91"
   ]
  },
  {
   "cell_type": "code",
   "execution_count": 5,
   "metadata": {
    "id": "rLFsiIVctXay"
   },
   "outputs": [],
   "source": [
    "dia_11_saldo_final = dia_11_saldo_inicial + dia_11_transacao_1 + dia_11_transacao_2 + dia_11_transacao_3 + dia_11_transacao_4 "
   ]
  },
  {
   "cell_type": "code",
   "execution_count": 6,
   "metadata": {
    "colab": {
     "base_uri": "https://localhost:8080/"
    },
    "id": "XG6Y_Ltatki5",
    "outputId": "17190407-872a-4bba-c534-a7e76cc261cf"
   },
   "outputs": [
    {
     "name": "stdout",
     "output_type": "stream",
     "text": [
      "860.63\n"
     ]
    }
   ],
   "source": [
    "print(dia_11_saldo_final)"
   ]
  },
  {
   "cell_type": "markdown",
   "metadata": {
    "id": "xjs71GsstqWA"
   },
   "source": [
    "Será que existe uma forma melhor de armazenar as transações diarias?"
   ]
  },
  {
   "cell_type": "markdown",
   "metadata": {
    "id": "xzXNnJhCuHTt"
   },
   "source": [
    "Listas - armazenam sequencias mutáveis e ordenadas de valores."
   ]
  },
  {
   "cell_type": "code",
   "execution_count": 7,
   "metadata": {
    "id": "G0P5bm0-uMmH"
   },
   "outputs": [],
   "source": [
    "usuario_web = ['André Perez', 'andre.perez', 'andre123', 'andre.perez@gmail.com']"
   ]
  },
  {
   "cell_type": "code",
   "execution_count": 8,
   "metadata": {
    "colab": {
     "base_uri": "https://localhost:8080/"
    },
    "id": "uWTjrxWOudsw",
    "outputId": "805531a6-2776-4bd5-d233-37ccb05bb6f1"
   },
   "outputs": [
    {
     "name": "stdout",
     "output_type": "stream",
     "text": [
      "['André Perez', 'andre.perez', 'andre123', 'andre.perez@gmail.com']\n",
      "<class 'list'>\n"
     ]
    }
   ],
   "source": [
    "print(usuario_web)\n",
    "print(type(usuario_web))"
   ]
  },
  {
   "cell_type": "code",
   "execution_count": 9,
   "metadata": {
    "colab": {
     "base_uri": "https://localhost:8080/"
    },
    "id": "nz8X5UUvujfI",
    "outputId": "16056090-5329-44d1-85ce-d3307bd4ca91"
   },
   "outputs": [
    {
     "name": "stdout",
     "output_type": "stream",
     "text": [
      "['André perez', 20, 'andre.perez', 'andre123', 'andre.perez@gmail.com', 723.15, True]\n",
      "<class 'list'>\n"
     ]
    }
   ],
   "source": [
    "idade = 20\n",
    "saldo_em_cont = 723.15\n",
    "usuario_loggedin = True\n",
    "\n",
    "usuario_web = ['André perez', idade, 'andre.perez', 'andre123', 'andre.perez@gmail.com', saldo_em_cont, usuario_loggedin]\n",
    "\n",
    "print(usuario_web)\n",
    "print(type(usuario_web))"
   ]
  },
  {
   "cell_type": "code",
   "execution_count": null,
   "metadata": {
    "id": "l3qE0koSvGX0"
   },
   "outputs": [],
   "source": []
  },
  {
   "cell_type": "markdown",
   "metadata": {
    "id": "gvFivu9lvZjt"
   },
   "source": [
    "**Operações**"
   ]
  },
  {
   "cell_type": "markdown",
   "metadata": {
    "id": "n3v5VsClvjtO"
   },
   "source": [
    "As operações da estrutura do tipo *list* são:\n",
    "\n",
    "\n",
    "\n",
    "*   + (concatenação)\n",
    "\n"
   ]
  },
  {
   "cell_type": "code",
   "execution_count": 11,
   "metadata": {
    "colab": {
     "base_uri": "https://localhost:8080/"
    },
    "id": "O5c8ndFKvt6N",
    "outputId": "fe410194-4e97-4459-c297-7ec3c2c6e804"
   },
   "outputs": [
    {
     "name": "stdout",
     "output_type": "stream",
     "text": [
      "['xiaomi', 'huawei']\n",
      "['apple', 'motorola']\n",
      "['xiaomi', 'huawei', 'apple', 'motorola']\n"
     ]
    }
   ],
   "source": [
    "fabricantes_mobile_china = ['xiaomi', 'huawei']\n",
    "fabricantes_mobile_eua = ['apple', 'motorola']\n",
    "fabricantes_mobile = fabricantes_mobile_china + fabricantes_mobile_eua\n",
    "\n",
    "print(fabricantes_mobile_china)\n",
    "print(fabricantes_mobile_eua)\n",
    "print(fabricantes_mobile)"
   ]
  },
  {
   "cell_type": "markdown",
   "metadata": {
    "id": "MVwmKgZNwV2w"
   },
   "source": [
    "Outra operação muito utilizada é de fatiamento (slicing), semelhante ao de strings:\n",
    "\n"
   ]
  },
  {
   "cell_type": "markdown",
   "metadata": {
    "id": "cLSddGx5wgJp"
   },
   "source": [
    "**Fatiamento por intervalo**"
   ]
  },
  {
   "cell_type": "code",
   "execution_count": 12,
   "metadata": {
    "colab": {
     "base_uri": "https://localhost:8080/"
    },
    "id": "GwGczcKcwmsR",
    "outputId": "b0a73ac9-5162-4deb-ce00-6bd88b3734e6"
   },
   "outputs": [
    {
     "name": "stdout",
     "output_type": "stream",
     "text": [
      "china ['xiaomi', 'huawei', 'apple', 'motorola']\n",
      "eua: ['apple', 'motorola']\n"
     ]
    }
   ],
   "source": [
    "fabricantes_mobile_china = fabricantes_mobile[0:2]\n",
    "fabricantes_mobile_eua = fabricantes_mobile[2:len(fabricantes_mobile)]\n",
    "\n",
    "print('china ' +str(fabricantes_mobile))\n",
    "print('eua: ' +str(fabricantes_mobile_eua))"
   ]
  },
  {
   "cell_type": "markdown",
   "metadata": {
    "id": "qcenk9scxdam"
   },
   "source": [
    "Podemos adicionar elementos a uma posição especifica da lista:"
   ]
  },
  {
   "cell_type": "code",
   "execution_count": 13,
   "metadata": {
    "colab": {
     "base_uri": "https://localhost:8080/"
    },
    "id": "KtwlNZKKxiQP",
    "outputId": "a82b3e12-7e95-4194-b9d0-18b9a99faf45"
   },
   "outputs": [
    {
     "name": "stdout",
     "output_type": "stream",
     "text": [
      "['xiaomi', 'huawei', 'apple', 'motorola']\n",
      "['xiaomi', 'huawei', 'nokia', 'motorola']\n"
     ]
    }
   ],
   "source": [
    "print(fabricantes_mobile)\n",
    "\n",
    "fabricantes_mobile[2] = 'nokia'\n",
    "print(fabricantes_mobile)"
   ]
  },
  {
   "cell_type": "markdown",
   "metadata": {
    "id": "g9kPMS8uxv5e"
   },
   "source": [
    "**Métodos**"
   ]
  },
  {
   "cell_type": "markdown",
   "metadata": {
    "id": "DQBGwd-2xzKQ"
   },
   "source": [
    "São métodos nativos do python que nos ajudam a trabalhar no dia a dia com listas"
   ]
  },
  {
   "cell_type": "code",
   "execution_count": 14,
   "metadata": {
    "colab": {
     "base_uri": "https://localhost:8080/"
    },
    "id": "jVFtdQzMx4Zu",
    "outputId": "a2ae093b-40e9-4d56-baea-17a874fa6f15"
   },
   "outputs": [
    {
     "name": "stdout",
     "output_type": "stream",
     "text": [
      "[0.05, 0.07, 0.02, 0.04, 0.08]\n"
     ]
    }
   ],
   "source": [
    "juros = [0.05, 0.07, 0.02, 0.04, 0.08]\n",
    "print(juros)"
   ]
  },
  {
   "cell_type": "code",
   "execution_count": 16,
   "metadata": {
    "colab": {
     "base_uri": "https://localhost:8080/"
    },
    "id": "03wnJl2QyWsr",
    "outputId": "fe5646a5-ada9-4fb4-f838-4e1ef5510866"
   },
   "outputs": [
    {
     "name": "stdout",
     "output_type": "stream",
     "text": [
      "[0.1, 0.05, 0.07, 0.02, 0.04, 0.08]\n"
     ]
    }
   ],
   "source": [
    "#inserir um elemento sem substituir: lista.insert(index,val)\n",
    "juros.insert(0, 0.10)\n",
    "print(juros)"
   ]
  },
  {
   "cell_type": "code",
   "execution_count": 17,
   "metadata": {
    "colab": {
     "base_uri": "https://localhost:8080/"
    },
    "id": "kjurDw5wyqrZ",
    "outputId": "5c322f77-8dfb-412d-c31d-7ecdc49d281e"
   },
   "outputs": [
    {
     "name": "stdout",
     "output_type": "stream",
     "text": [
      "[0.1, 0.05, 0.07, 0.02, 0.04, 0.08, 0.09]\n"
     ]
    }
   ],
   "source": [
    "# inserir um elemento no fim da lista: list. append(val)\n",
    "juros.append(0.09)\n",
    "print(juros)"
   ]
  },
  {
   "cell_type": "code",
   "execution_count": 19,
   "metadata": {
    "colab": {
     "base_uri": "https://localhost:8080/"
    },
    "id": "v3-pOts8y1AS",
    "outputId": "686aa7d9-9628-4392-f80f-e9a2416f2fc2"
   },
   "outputs": [
    {
     "name": "stdout",
     "output_type": "stream",
     "text": [
      "[0.05, 0.07, 0.02, 0.04, 0.08, 0.09]\n"
     ]
    }
   ],
   "source": [
    "# remover um elemento pelo valor: list.remove(val)\n",
    "juros.remove(0.1)\n",
    "print(juros)"
   ]
  },
  {
   "cell_type": "code",
   "execution_count": 23,
   "metadata": {
    "colab": {
     "base_uri": "https://localhost:8080/"
    },
    "id": "tIz-mSpFy73K",
    "outputId": "fe595efe-8ce8-40cf-bd54-e12aec36dbb6"
   },
   "outputs": [
    {
     "name": "stdout",
     "output_type": "stream",
     "text": [
      "0.08\n",
      "[0.05, 0.07, 0.09]\n"
     ]
    }
   ],
   "source": [
    "# remover um elemento pelo índice: list.pop(val)\n",
    "\n",
    "terceiro_juros = juros.pop(2)\n",
    "print(terceiro_juros)\n",
    "print(juros)"
   ]
  },
  {
   "cell_type": "markdown",
   "metadata": {
    "id": "q6It5MGs0ZyJ"
   },
   "source": [
    "**Conversão**"
   ]
  },
  {
   "cell_type": "markdown",
   "metadata": {
    "id": "c1wey3b50cR4"
   },
   "source": [
    "podemos converter alguns tipos de variáveis em listas, como string."
   ]
  },
  {
   "cell_type": "code",
   "execution_count": 24,
   "metadata": {
    "colab": {
     "base_uri": "https://localhost:8080/"
    },
    "id": "jiLD2CoJ0iVu",
    "outputId": "4c4b1254-71e9-493d-c727-b67585222d6e"
   },
   "outputs": [
    {
     "name": "stdout",
     "output_type": "stream",
     "text": [
      "luis.edu.ifac@gmail.com\n",
      "['l', 'u', 'i', 's', '.', 'e', 'd', 'u', '.', 'i', 'f', 'a', 'c', '@', 'g', 'm', 'a', 'i', 'l', '.', 'c', 'o', 'm']\n"
     ]
    }
   ],
   "source": [
    "email = 'luis.edu.ifac@gmail.com'\n",
    "caracteres_email = list(email)\n",
    "\n",
    "print(email)\n",
    "print(caracteres_email)"
   ]
  },
  {
   "cell_type": "markdown",
   "metadata": {
    "id": "5m1X0vPO0wxD"
   },
   "source": [
    "**Revisitando o primeiro codigo**"
   ]
  },
  {
   "cell_type": "code",
   "execution_count": 25,
   "metadata": {
    "id": "q7t5oeOP020l"
   },
   "outputs": [],
   "source": [
    "dia_11_saldo_inicial = 1000"
   ]
  },
  {
   "cell_type": "code",
   "execution_count": 26,
   "metadata": {
    "colab": {
     "base_uri": "https://localhost:8080/"
    },
    "id": "MpK3EqdZ1AP9",
    "outputId": "1e2cef71-ff82-4b82-eebc-b63a0e31e3a5"
   },
   "outputs": [
    {
     "data": {
      "text/plain": [
       "[243, -798.58, 427.12, -10.91]"
      ]
     },
     "execution_count": 26,
     "metadata": {},
     "output_type": "execute_result"
    }
   ],
   "source": [
    "dia_11_transacoes = list()\n",
    "\n",
    "dia_11_transacoes.append(243)\n",
    "dia_11_transacoes.append(-798.58)\n",
    "dia_11_transacoes.append(427.12)\n",
    "dia_11_transacoes.append(-10.91)\n",
    "\n",
    "dia_11_transacoes"
   ]
  },
  {
   "cell_type": "code",
   "execution_count": 27,
   "metadata": {
    "colab": {
     "base_uri": "https://localhost:8080/"
    },
    "id": "lLYFtQAX1Zp6",
    "outputId": "d700d776-a69f-4e78-ef23-1f3e085292eb"
   },
   "outputs": [
    {
     "name": "stdout",
     "output_type": "stream",
     "text": [
      "860.63\n"
     ]
    }
   ],
   "source": [
    "dia_11_saldo_final = dia_11_saldo_inicial + dia_11_transacoes[0] + dia_11_transacoes[1] + dia_11_transacoes[2] + dia_11_transacoes[3]\n",
    "print(dia_11_saldo_final)"
   ]
  }
 ],
 "metadata": {
  "colab": {
   "provenance": []
  },
  "kernelspec": {
   "display_name": "Python 3 (ipykernel)",
   "language": "python",
   "name": "python3"
  },
  "language_info": {
   "codemirror_mode": {
    "name": "ipython",
    "version": 3
   },
   "file_extension": ".py",
   "mimetype": "text/x-python",
   "name": "python",
   "nbconvert_exporter": "python",
   "pygments_lexer": "ipython3",
   "version": "3.9.13"
  }
 },
 "nbformat": 4,
 "nbformat_minor": 1
}
