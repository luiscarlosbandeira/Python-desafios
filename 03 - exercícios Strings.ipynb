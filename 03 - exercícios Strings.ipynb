{
 "cells": [
  {
   "cell_type": "markdown",
   "id": "c9fa06ce",
   "metadata": {},
   "source": [
    "1 Cadastro de CPF\n",
    "Crie um programa para cadastro de CPF de clientes que recebe o CPF em input box apenas com números.\n",
    "\n",
    "Ex: Insira seu CPF (digite apenas números)\n",
    "\n",
    "Caso o usuário digite algo diferente números ou digite menos de 11 caracteres (tamanho do CPF) o programa deve exibir uma mensagem de \"Digite seu CPF corretamente e digite apenas números\""
   ]
  },
  {
   "cell_type": "code",
   "execution_count": 10,
   "id": "7900cfbe",
   "metadata": {},
   "outputs": [
    {
     "name": "stdout",
     "output_type": "stream",
     "text": [
      "Insira o seu CPF (Digite apenas números): 02116265208\n",
      "O CPF foi digitado corretamente\n"
     ]
    }
   ],
   "source": [
    "cpf = input(\"Insira o seu CPF (Digite apenas números): \")\n",
    "\n",
    "if len(cpf) != 11 or cpf.isnumeric() == False:\n",
    "    print(\"Digite seu CPF corretamente e digite apenas números\")\n",
    "else:\n",
    "    print(\"O CPF foi digitado corretamente\")"
   ]
  },
  {
   "cell_type": "markdown",
   "id": "48fba7d0",
   "metadata": {},
   "source": [
    "Cadastro de e-mails"
   ]
  },
  {
   "cell_type": "markdown",
   "id": "9857eb96",
   "metadata": {},
   "source": [
    "Verificando se um e-mail é válido ou não através de algumas regras.\n",
    "\n",
    "afonsofelicianolive.com NÃO é válido\n",
    "afonso@live NÃO é válido\n",
    "afonso@live.com É válido\n",
    "Crie um programa que permita o cadastro de nome e e-mail através de inputs capaz de verificar\n",
    "\n",
    "Se o nome e e-mail foram preenchidos, caso contrário informar que faltou algum preenchimento\n",
    "Se o e-mail contém '@' e se depois do '@' exise algum '.'. Caso contrário exibir mensagem de e-mail inválido."
   ]
  },
  {
   "cell_type": "code",
   "execution_count": 13,
   "id": "9751b131",
   "metadata": {},
   "outputs": [
    {
     "ename": "KeyboardInterrupt",
     "evalue": "Interrupted by user",
     "output_type": "error",
     "traceback": [
      "\u001b[1;31m---------------------------------------------------------------------------\u001b[0m",
      "\u001b[1;31mKeyboardInterrupt\u001b[0m                         Traceback (most recent call last)",
      "\u001b[1;32m~\\AppData\\Local\\Temp\\ipykernel_5056\\3362258367.py\u001b[0m in \u001b[0;36m<module>\u001b[1;34m\u001b[0m\n\u001b[1;32m----> 1\u001b[1;33m \u001b[0mnome\u001b[0m \u001b[1;33m=\u001b[0m \u001b[0minput\u001b[0m\u001b[1;33m(\u001b[0m\u001b[1;34m'Informe o seu nome: '\u001b[0m\u001b[1;33m)\u001b[0m\u001b[1;33m\u001b[0m\u001b[1;33m\u001b[0m\u001b[0m\n\u001b[0m\u001b[0;32m      2\u001b[0m \u001b[0memail\u001b[0m \u001b[1;33m=\u001b[0m \u001b[0minput\u001b[0m\u001b[1;33m(\u001b[0m\u001b[1;34m'Informe o seu e-mail: '\u001b[0m\u001b[1;33m)\u001b[0m\u001b[1;33m\u001b[0m\u001b[1;33m\u001b[0m\u001b[0m\n\u001b[0;32m      3\u001b[0m \u001b[1;33m\u001b[0m\u001b[0m\n\u001b[0;32m      4\u001b[0m \u001b[1;31m#Verifica se @ existe no e-mail\u001b[0m\u001b[1;33m\u001b[0m\u001b[1;33m\u001b[0m\u001b[0m\n\u001b[0;32m      5\u001b[0m \u001b[0mverifica_arroba\u001b[0m \u001b[1;33m=\u001b[0m \u001b[1;34m'@'\u001b[0m \u001b[1;32min\u001b[0m \u001b[0memail\u001b[0m\u001b[1;33m\u001b[0m\u001b[1;33m\u001b[0m\u001b[0m\n",
      "\u001b[1;32m~\\anaconda3\\lib\\site-packages\\ipykernel\\kernelbase.py\u001b[0m in \u001b[0;36mraw_input\u001b[1;34m(self, prompt)\u001b[0m\n\u001b[0;32m   1175\u001b[0m                 \u001b[1;34m\"raw_input was called, but this frontend does not support input requests.\"\u001b[0m\u001b[1;33m\u001b[0m\u001b[1;33m\u001b[0m\u001b[0m\n\u001b[0;32m   1176\u001b[0m             )\n\u001b[1;32m-> 1177\u001b[1;33m         return self._input_request(\n\u001b[0m\u001b[0;32m   1178\u001b[0m             \u001b[0mstr\u001b[0m\u001b[1;33m(\u001b[0m\u001b[0mprompt\u001b[0m\u001b[1;33m)\u001b[0m\u001b[1;33m,\u001b[0m\u001b[1;33m\u001b[0m\u001b[1;33m\u001b[0m\u001b[0m\n\u001b[0;32m   1179\u001b[0m             \u001b[0mself\u001b[0m\u001b[1;33m.\u001b[0m\u001b[0m_parent_ident\u001b[0m\u001b[1;33m[\u001b[0m\u001b[1;34m\"shell\"\u001b[0m\u001b[1;33m]\u001b[0m\u001b[1;33m,\u001b[0m\u001b[1;33m\u001b[0m\u001b[1;33m\u001b[0m\u001b[0m\n",
      "\u001b[1;32m~\\anaconda3\\lib\\site-packages\\ipykernel\\kernelbase.py\u001b[0m in \u001b[0;36m_input_request\u001b[1;34m(self, prompt, ident, parent, password)\u001b[0m\n\u001b[0;32m   1217\u001b[0m             \u001b[1;32mexcept\u001b[0m \u001b[0mKeyboardInterrupt\u001b[0m\u001b[1;33m:\u001b[0m\u001b[1;33m\u001b[0m\u001b[1;33m\u001b[0m\u001b[0m\n\u001b[0;32m   1218\u001b[0m                 \u001b[1;31m# re-raise KeyboardInterrupt, to truncate traceback\u001b[0m\u001b[1;33m\u001b[0m\u001b[1;33m\u001b[0m\u001b[0m\n\u001b[1;32m-> 1219\u001b[1;33m                 \u001b[1;32mraise\u001b[0m \u001b[0mKeyboardInterrupt\u001b[0m\u001b[1;33m(\u001b[0m\u001b[1;34m\"Interrupted by user\"\u001b[0m\u001b[1;33m)\u001b[0m \u001b[1;32mfrom\u001b[0m \u001b[1;32mNone\u001b[0m\u001b[1;33m\u001b[0m\u001b[1;33m\u001b[0m\u001b[0m\n\u001b[0m\u001b[0;32m   1220\u001b[0m             \u001b[1;32mexcept\u001b[0m \u001b[0mException\u001b[0m\u001b[1;33m:\u001b[0m\u001b[1;33m\u001b[0m\u001b[1;33m\u001b[0m\u001b[0m\n\u001b[0;32m   1221\u001b[0m                 \u001b[0mself\u001b[0m\u001b[1;33m.\u001b[0m\u001b[0mlog\u001b[0m\u001b[1;33m.\u001b[0m\u001b[0mwarning\u001b[0m\u001b[1;33m(\u001b[0m\u001b[1;34m\"Invalid Message:\"\u001b[0m\u001b[1;33m,\u001b[0m \u001b[0mexc_info\u001b[0m\u001b[1;33m=\u001b[0m\u001b[1;32mTrue\u001b[0m\u001b[1;33m)\u001b[0m\u001b[1;33m\u001b[0m\u001b[1;33m\u001b[0m\u001b[0m\n",
      "\u001b[1;31mKeyboardInterrupt\u001b[0m: Interrupted by user"
     ]
    }
   ],
   "source": [
    "nome = input('Informe o seu nome: ')\n",
    "email = input('Informe o seu e-mail: ')\n",
    "\n",
    "#Verifica se @ existe no e-mail\n",
    "verifica_arroba = '@' in email\n",
    "\n",
    "#Busca a posição do @ no e-mail\n",
    "posicao_arroba = email.find('@')\n",
    "\n",
    "#Corta a string de acordo com a posição do @\n",
    "string_apos_arroba = email[email.find('@'):]\n",
    "\n",
    "#Verfica na string cortada se existe um .\n",
    "verifica_ponto = '.' in string_apos_arroba\n",
    "\n",
    "\n",
    "if len(nome) <= 0 or len(email) <= 0:\n",
    "    print('Preencher todas as informações')\n",
    "elif verifica_arroba == False or verifica_ponto == False:\n",
    "    print('Email inválido')\n",
    "else:\n",
    "    print(email)"
   ]
  },
  {
   "cell_type": "code",
   "execution_count": null,
   "id": "167c7759",
   "metadata": {},
   "outputs": [],
   "source": []
  }
 ],
 "metadata": {
  "kernelspec": {
   "display_name": "Python 3 (ipykernel)",
   "language": "python",
   "name": "python3"
  },
  "language_info": {
   "codemirror_mode": {
    "name": "ipython",
    "version": 3
   },
   "file_extension": ".py",
   "mimetype": "text/x-python",
   "name": "python",
   "nbconvert_exporter": "python",
   "pygments_lexer": "ipython3",
   "version": "3.9.13"
  }
 },
 "nbformat": 4,
 "nbformat_minor": 5
}
