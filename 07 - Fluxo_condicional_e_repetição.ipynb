{
 "cells": [
  {
   "cell_type": "markdown",
   "metadata": {
    "id": "jlm9u2Lmq2PR"
   },
   "source": [
    "## **Fluxo Condicional & repetição**"
   ]
  },
  {
   "cell_type": "markdown",
   "metadata": {
    "id": "uRlBBU-0q9yv"
   },
   "source": [
    "**Estrutura Condicional if else elif**"
   ]
  },
  {
   "cell_type": "markdown",
   "metadata": {
    "id": "zluIySXQrLBl"
   },
   "source": [
    "estrutura de alteração de fluxo lógico do código, avalia um valor booleano ou uma comparação lógica. Note a identação do código."
   ]
  },
  {
   "cell_type": "code",
   "execution_count": null,
   "metadata": {
    "id": "8x3aklTKqtca"
   },
   "outputs": [],
   "source": [
    "if <booleano comparação lógica > True:\n",
    "  <execute este código>\n",
    "else:\n",
    "  <senao execute esse código>"
   ]
  },
  {
   "cell_type": "code",
   "execution_count": null,
   "metadata": {
    "colab": {
     "base_uri": "https://localhost:8080/"
    },
    "id": "Ka4ND0dcriJ-",
    "outputId": "7a4f175f-f88a-43d6-92ae-ef029aa96019"
   },
   "outputs": [
    {
     "name": "stdout",
     "output_type": "stream",
     "text": [
      "Verdadeiro\n"
     ]
    }
   ],
   "source": [
    "if True:\n",
    "  print('Verdadeiro')\n",
    "else:\n",
    "  print('falso')"
   ]
  },
  {
   "cell_type": "markdown",
   "metadata": {
    "id": "6pe7S3bxrqju"
   },
   "source": [
    "**Exemplo: ** Código de segurança de um cartão de crédito"
   ]
  },
  {
   "cell_type": "code",
   "execution_count": null,
   "metadata": {
    "colab": {
     "base_uri": "https://localhost:8080/"
    },
    "id": "bYz9IPf_rxA2",
    "outputId": "94439f3f-eb83-4dba-8f3c-763b52f7618b"
   },
   "outputs": [
    {
     "name": "stdout",
     "output_type": "stream",
     "text": [
      "False\n"
     ]
    }
   ],
   "source": [
    "codigo_de_segurança= '827'\n",
    "codigo_de_segurança_cadastro = '010'\n",
    "\n",
    "pode_efetuar_pagamento =codigo_de_segurança==codigo_de_segurança_cadastro\n",
    "print(pode_efetuar_pagamento)"
   ]
  },
  {
   "cell_type": "code",
   "execution_count": null,
   "metadata": {
    "colab": {
     "base_uri": "https://localhost:8080/"
    },
    "id": "_6nsiZU6sTbi",
    "outputId": "4cb12807-8ac2-4417-b9d3-c1e89a1d0707"
   },
   "outputs": [
    {
     "name": "stdout",
     "output_type": "stream",
     "text": [
      "Erro: código de seguranca inválido\n"
     ]
    }
   ],
   "source": [
    "if pode_efetuar_pagamento:\n",
    "  print('Pagamento efetuado')\n",
    "else:\n",
    "  print('Erro: código de seguranca inválido')"
   ]
  },
  {
   "cell_type": "code",
   "execution_count": null,
   "metadata": {
    "colab": {
     "base_uri": "https://localhost:8080/"
    },
    "id": "Mj6SkBXys6i-",
    "outputId": "f79004ac-3eb5-4bd4-feef-6eef0b0185db"
   },
   "outputs": [
    {
     "name": "stdout",
     "output_type": "stream",
     "text": [
      "Erro: Código de segurança inválido\n"
     ]
    }
   ],
   "source": [
    "if codigo_de_segurança==codigo_de_segurança_cadastro:\n",
    "  print('Pagamento efetuado')\n",
    "else:\n",
    "  print('Erro: Código de segurança inválido')"
   ]
  },
  {
   "cell_type": "markdown",
   "metadata": {
    "id": "uhc4yy6btYGF"
   },
   "source": [
    "**Exemplo:** Código e senha de segurança de um cartão de crédito"
   ]
  },
  {
   "cell_type": "code",
   "execution_count": null,
   "metadata": {
    "id": "0QuH6-datdts"
   },
   "outputs": [],
   "source": [
    "codigo_de_seguranca = '852'\n",
    "codigo_de_seguranca_cadastro = '852'\n",
    "\n",
    "senha = '7783'\n",
    "senha_cadastro = '7783'"
   ]
  },
  {
   "cell_type": "code",
   "execution_count": null,
   "metadata": {
    "colab": {
     "base_uri": "https://localhost:8080/"
    },
    "id": "UCJ5HExEtr1K",
    "outputId": "b705d708-ea14-46f4-8253-dc4d1709a7cd"
   },
   "outputs": [
    {
     "name": "stdout",
     "output_type": "stream",
     "text": [
      "Pagamento efetuado\n"
     ]
    }
   ],
   "source": [
    "if codigo_de_seguranca == codigo_de_seguranca_cadastro and senha == senha_cadastro:\n",
    "  print('Pagamento efetuado')\n",
    "else:\n",
    "  print('Erro: Pagamento não efetuado')"
   ]
  },
  {
   "cell_type": "code",
   "execution_count": null,
   "metadata": {
    "colab": {
     "base_uri": "https://localhost:8080/"
    },
    "id": "ny5AykSJuUc0",
    "outputId": "e75c7b8d-0423-43d5-e29a-7a42bab77e04"
   },
   "outputs": [
    {
     "name": "stdout",
     "output_type": "stream",
     "text": [
      "Pagamento efetuado\n"
     ]
    }
   ],
   "source": [
    "if codigo_de_seguranca != codigo_de_seguranca_cadastro or senha != senha_cadastro:\n",
    "  print('Erro: Pagamento não efetuado')\n",
    "else:\n",
    "  print('Pagamento efetuado')"
   ]
  },
  {
   "cell_type": "markdown",
   "metadata": {
    "id": "dXXAP1NSwTTe"
   },
   "source": [
    "**if elif else**"
   ]
  },
  {
   "cell_type": "code",
   "execution_count": null,
   "metadata": {
    "id": "ck9_NiVTwVxn"
   },
   "outputs": [],
   "source": [
    "codigo_de_seguranca = '842'\n",
    "codigo_de_seguranca_cadastro = '852'\n",
    "\n",
    "senha = '7782'\n",
    "senha_cadastro = '7783'"
   ]
  },
  {
   "cell_type": "code",
   "execution_count": null,
   "metadata": {
    "colab": {
     "base_uri": "https://localhost:8080/"
    },
    "id": "bwst8weqwaA_",
    "outputId": "56b1eec6-725b-43b3-b66b-248d2dbfeae8"
   },
   "outputs": [
    {
     "name": "stdout",
     "output_type": "stream",
     "text": [
      "Erro: código de segurança e senha inválidos\n"
     ]
    }
   ],
   "source": [
    "if (codigo_de_seguranca == codigo_de_seguranca_cadastro) and (senha == senha_cadastro):\n",
    "  print('Pagamento efetuado')\n",
    "\n",
    "elif codigo_de_seguranca != codigo_de_seguranca_cadastro and senha == senha_cadastro:\n",
    "  print('Erro: código de segurança inválido')\n",
    "\n",
    "elif codigo_de_seguranca == codigo_de_seguranca_cadastro and senha != senha_cadastro:\n",
    "  print('Erro: Senha inválida')\n",
    "\n",
    "else:\n",
    "  print('Erro: código de segurança e senha inválidos')"
   ]
  },
  {
   "cell_type": "markdown",
   "metadata": {
    "id": "MDqnGkiLR8WJ"
   },
   "source": [
    "## **Estrutura condicional try - except - finally**"
   ]
  },
  {
   "cell_type": "markdown",
   "metadata": {
    "id": "N8wwd5KcSJNo"
   },
   "source": [
    "**Exceção**"
   ]
  },
  {
   "cell_type": "markdown",
   "metadata": {
    "id": "eQoR8cSlST2A"
   },
   "source": [
    "Excecões são erros que podem acontecer durante a execução do nosso código"
   ]
  },
  {
   "cell_type": "markdown",
   "metadata": {
    "id": "_BmuZFMJSY_w"
   },
   "source": [
    "**Exemplo:** Erro de operações numéricas impossíveis"
   ]
  },
  {
   "cell_type": "code",
   "execution_count": null,
   "metadata": {
    "id": "M2xeg4QQSi7w"
   },
   "outputs": [],
   "source": [
    "preco = 132.85\n",
    "pessoas = 0"
   ]
  },
  {
   "cell_type": "code",
   "execution_count": null,
   "metadata": {
    "colab": {
     "base_uri": "https://localhost:8080/",
     "height": 165
    },
    "id": "seh_FMfMSq22",
    "outputId": "37421cd8-23b0-46c9-e28f-c7ab311f01a1"
   },
   "outputs": [
    {
     "ename": "ZeroDivisionError",
     "evalue": "ignored",
     "output_type": "error",
     "traceback": [
      "\u001b[0;31m---------------------------------------------------------------------------\u001b[0m",
      "\u001b[0;31mZeroDivisionError\u001b[0m                         Traceback (most recent call last)",
      "\u001b[0;32m<ipython-input-2-995750ad573d>\u001b[0m in \u001b[0;36m<cell line: 1>\u001b[0;34m()\u001b[0m\n\u001b[0;32m----> 1\u001b[0;31m \u001b[0mvalor_por_pessoa\u001b[0m \u001b[0;34m=\u001b[0m \u001b[0mpreco\u001b[0m \u001b[0;34m/\u001b[0m \u001b[0mpessoas\u001b[0m\u001b[0;34m\u001b[0m\u001b[0;34m\u001b[0m\u001b[0m\n\u001b[0m",
      "\u001b[0;31mZeroDivisionError\u001b[0m: float division by zero"
     ]
    }
   ],
   "source": [
    "valor_por_pessoa = preco / pessoas"
   ]
  },
  {
   "cell_type": "markdown",
   "metadata": {
    "id": "Ie9VDNnpS5nu"
   },
   "source": [
    "**Exemplo:** Erro por combinações de tipos diferentes"
   ]
  },
  {
   "cell_type": "code",
   "execution_count": null,
   "metadata": {
    "id": "ESgPhyC-S9bH"
   },
   "outputs": [],
   "source": [
    "nome = 'Luis Carlos'\n",
    "idade = 19"
   ]
  },
  {
   "cell_type": "code",
   "execution_count": null,
   "metadata": {
    "colab": {
     "base_uri": "https://localhost:8080/"
    },
    "id": "WTsfVUE3TBxh",
    "outputId": "f03c8cdf-43df-4bbe-9142-eb7ff6597a9e"
   },
   "outputs": [
    {
     "name": "stdout",
     "output_type": "stream",
     "text": [
      "Fala pessoal, meu nome é Luis Carlos e eu tenho 19 anos\n"
     ]
    }
   ],
   "source": [
    "apresentacao = 'Fala pessoal, meu nome é {} e eu tenho {} anos'.format(nome,idade)\n",
    "print(apresentacao)"
   ]
  },
  {
   "cell_type": "markdown",
   "metadata": {
    "id": "KvoZTM6fT3Bc"
   },
   "source": []
  },
  {
   "cell_type": "markdown",
   "metadata": {
    "id": "gEwOAzX5R4U0"
   },
   "source": [
    "**Exemplo:** Erro de indexação de estrutura de dados"
   ]
  },
  {
   "cell_type": "code",
   "execution_count": null,
   "metadata": {
    "id": "jyk_X9mvT8v1"
   },
   "outputs": [],
   "source": [
    "anos= [2019, 2020, 2021]"
   ]
  },
  {
   "cell_type": "code",
   "execution_count": null,
   "metadata": {
    "colab": {
     "base_uri": "https://localhost:8080/",
     "height": 165
    },
    "id": "jERGzJS4UAfr",
    "outputId": "0946be0f-d7da-4c2e-9d99-306e881199ed"
   },
   "outputs": [
    {
     "ename": "IndexError",
     "evalue": "ignored",
     "output_type": "error",
     "traceback": [
      "\u001b[0;31m---------------------------------------------------------------------------\u001b[0m",
      "\u001b[0;31mIndexError\u001b[0m                                Traceback (most recent call last)",
      "\u001b[0;32m<ipython-input-16-e37dd3828529>\u001b[0m in \u001b[0;36m<cell line: 1>\u001b[0;34m()\u001b[0m\n\u001b[0;32m----> 1\u001b[0;31m \u001b[0mano_atual\u001b[0m \u001b[0;34m=\u001b[0m \u001b[0manos\u001b[0m\u001b[0;34m[\u001b[0m\u001b[0;36m3\u001b[0m\u001b[0;34m]\u001b[0m\u001b[0;34m\u001b[0m\u001b[0;34m\u001b[0m\u001b[0m\n\u001b[0m",
      "\u001b[0;31mIndexError\u001b[0m: list index out of range"
     ]
    }
   ],
   "source": [
    "ano_atual = anos[3]"
   ]
  },
  {
   "cell_type": "code",
   "execution_count": null,
   "metadata": {
    "id": "7C0CofNvUMAb"
   },
   "outputs": [],
   "source": [
    "cursos = {\n",
    "    'python': {\n",
    "        'nome': 'python para analise de dados','duracao':2.5\n",
    "    },\n",
    "    'sql':{\n",
    "        'nome':'SQL para analise de dados','duracao':2\n",
    "    }\n",
    "}"
   ]
  },
  {
   "cell_type": "code",
   "execution_count": null,
   "metadata": {
    "colab": {
     "base_uri": "https://localhost:8080/",
     "height": 165
    },
    "id": "I74zo6k0Ui9z",
    "outputId": "1ba6a6e6-ec22-42a3-c731-db3399db52ce"
   },
   "outputs": [
    {
     "ename": "KeyError",
     "evalue": "ignored",
     "output_type": "error",
     "traceback": [
      "\u001b[0;31m---------------------------------------------------------------------------\u001b[0m",
      "\u001b[0;31mKeyError\u001b[0m                                  Traceback (most recent call last)",
      "\u001b[0;32m<ipython-input-17-d358cf5eaea4>\u001b[0m in \u001b[0;36m<cell line: 1>\u001b[0;34m()\u001b[0m\n\u001b[0;32m----> 1\u001b[0;31m \u001b[0mcurso_atual\u001b[0m \u001b[0;34m=\u001b[0m \u001b[0mcursos\u001b[0m\u001b[0;34m[\u001b[0m\u001b[0;34m'analista'\u001b[0m\u001b[0;34m]\u001b[0m\u001b[0;34m\u001b[0m\u001b[0;34m\u001b[0m\u001b[0m\n\u001b[0m",
      "\u001b[0;31mKeyError\u001b[0m: 'analista'"
     ]
    }
   ],
   "source": [
    "curso_atual = cursos['analista']"
   ]
  },
  {
   "cell_type": "markdown",
   "metadata": {
    "id": "MCAUI4ECWL8P"
   },
   "source": [
    "**try/except**"
   ]
  },
  {
   "cell_type": "markdown",
   "metadata": {
    "id": "3K1oGZD2WcR_"
   },
   "source": [
    "Estrutura para tratar exceções"
   ]
  },
  {
   "cell_type": "code",
   "execution_count": null,
   "metadata": {
    "colab": {
     "base_uri": "https://localhost:8080/"
    },
    "id": "sSKWUHdSWQ6f",
    "outputId": "75815932-e78b-4b7d-a178-baf7d6966311"
   },
   "outputs": [
    {
     "name": "stdout",
     "output_type": "stream",
     "text": [
      "Numero de pessoas inválido. Espera-se um valor maior que 0 e obteve-se um valor igual a 0\n"
     ]
    }
   ],
   "source": [
    "preco = 132.85\n",
    "pessoas = 0\n",
    "\n",
    "try:\n",
    "  valor_por_pessoa = preco / pessoas\n",
    "  print(valor_por_pessoa)\n",
    "except ZeroDivisionError:\n",
    "  print('Numero de pessoas inválido. Espera-se um valor maior que 0 e obteve-se um valor igual a ' +str(pessoas))"
   ]
  },
  {
   "cell_type": "code",
   "execution_count": null,
   "metadata": {
    "colab": {
     "base_uri": "https://localhost:8080/"
    },
    "id": "-qTiGPXXW7vl",
    "outputId": "8029b00a-ddbe-4631-ac75-1ec07b634e8f"
   },
   "outputs": [
    {
     "name": "stdout",
     "output_type": "stream",
     "text": [
      "Lista de anos é menor que o valor escolhido. Espera-se um valor entre 0 e 2\n"
     ]
    }
   ],
   "source": [
    "ano = [2019,2020,2021]\n",
    "\n",
    "try:\n",
    "  ano_atual = anos[5]\n",
    "  print(ano_atual)\n",
    "except Exception:\n",
    "  print('Lista de anos é menor que o valor escolhido. Espera-se um valor entre 0 e '+str(len(anos)-1))"
   ]
  },
  {
   "cell_type": "code",
   "execution_count": null,
   "metadata": {
    "colab": {
     "base_uri": "https://localhost:8080/"
    },
    "id": "TNa7wrMZXTYB",
    "outputId": "3048c92e-8258-4583-8d85-9ddacf2bcfab"
   },
   "outputs": [
    {
     "name": "stdout",
     "output_type": "stream",
     "text": [
      "Descricao da exceção: list index out of range\n",
      "Tipo da exceção: <class 'IndexError'>\n",
      "Lista de anos é menor que o valor escolhido. Espera-se um valor entre 0 e 2\n"
     ]
    }
   ],
   "source": [
    "ano = [2019,2020,2021]\n",
    "\n",
    "try:\n",
    "  ano_atual = anos[5]\n",
    "  print(ano_atual)\n",
    "except Exception as exc:\n",
    "  print('Descricao da exceção: '+ str(exc))\n",
    "  print('Tipo da exceção: '+str(type(exc)))\n",
    "  print('Lista de anos é menor que o valor escolhido. Espera-se um valor entre 0 e '+str(len(anos)-1))"
   ]
  },
  {
   "cell_type": "code",
   "execution_count": null,
   "metadata": {
    "colab": {
     "base_uri": "https://localhost:8080/"
    },
    "id": "piSAJ854XoAY",
    "outputId": "45f04b29-9194-4be3-9a9e-447a9d89f56b"
   },
   "outputs": [
    {
     "name": "stdout",
     "output_type": "stream",
     "text": [
      "name 'b' is not defined\n",
      "Erro genérico\n"
     ]
    }
   ],
   "source": [
    "ano = [2019,2020,2021]\n",
    "\n",
    "try:\n",
    "  ano_atual = anos[b]\n",
    "  print(ano_atual)\n",
    "except IndexError:\n",
    "  print('lista de anos é menor que o valor escolhido. Espera-se um valor entre 0 e '+str(len(anos)-1))\n",
    "except Exception as exc:\n",
    "  print(exc)\n",
    "  print('Erro genérico')"
   ]
  },
  {
   "cell_type": "markdown",
   "metadata": {
    "id": "_9LZHLl0a3Hy"
   },
   "source": [
    "**try / except / finally**"
   ]
  },
  {
   "cell_type": "code",
   "execution_count": null,
   "metadata": {
    "colab": {
     "base_uri": "https://localhost:8080/"
    },
    "id": "dg-hVvWMa9P3",
    "outputId": "7d4b1d9e-3cc7-4c72-ed8d-0118dd86d621"
   },
   "outputs": [
    {
     "name": "stdout",
     "output_type": "stream",
     "text": [
      "Segunda Chance\n",
      "Fala pessoal, meu nome é luis carlos e eu tenho 27 anos\n"
     ]
    }
   ],
   "source": [
    "nome = 'luis carlos'\n",
    "idade = 27\n",
    "\n",
    "try:\n",
    "  apresentacao = 'Fala pessoal, meu nome é ' +nome+ ' e eu tenho ' + idade+ ' anos'\n",
    "  print(apresentacao)\n",
    "except TypeError:\n",
    "  idade = str(idade)\n",
    "finally:\n",
    "  print('Segunda Chance')\n",
    "  apresentacao = 'Fala pessoal, meu nome é ' +nome+ ' e eu tenho ' + idade+ ' anos'\n",
    "  print(apresentacao)"
   ]
  },
  {
   "cell_type": "markdown",
   "metadata": {
    "id": "DhdIn7VArAmZ"
   },
   "source": [
    "## Estrutura de repetição FOR - IN"
   ]
  },
  {
   "cell_type": "markdown",
   "metadata": {
    "id": "6gNa6ZWsrI__"
   },
   "source": [
    "Estrutura que permite a execução repetida de um bloco de código repetidas vezes"
   ]
  },
  {
   "cell_type": "code",
   "execution_count": null,
   "metadata": {
    "id": "JSnIqnf5rHZ3"
   },
   "outputs": [],
   "source": [
    "for variavel_temporaria in colecao:\n",
    "  <execute este código>"
   ]
  },
  {
   "cell_type": "markdown",
   "metadata": {
    "id": "tvsrYjJFwLek"
   },
   "source": [
    "**For - in - range**"
   ]
  },
  {
   "cell_type": "code",
   "execution_count": 35,
   "metadata": {
    "colab": {
     "base_uri": "https://localhost:8080/"
    },
    "id": "ivYqawyPrW3_",
    "outputId": "84c7357a-3c37-4dbf-f353-f04784e0eb26"
   },
   "outputs": [
    {
     "name": "stdout",
     "output_type": "stream",
     "text": [
      "0\n",
      "1\n",
      "2\n",
      "3\n",
      "4\n",
      "5\n"
     ]
    }
   ],
   "source": [
    "for valor in range(6):\n",
    "  print(valor)"
   ]
  },
  {
   "cell_type": "code",
   "execution_count": 36,
   "metadata": {
    "colab": {
     "base_uri": "https://localhost:8080/"
    },
    "id": "3XCN1v3ewR7N",
    "outputId": "95b49b8d-b17b-435a-b1da-90fbcfecb7e5"
   },
   "outputs": [
    {
     "name": "stdout",
     "output_type": "stream",
     "text": [
      "45\n"
     ]
    }
   ],
   "source": [
    "soma = 0\n",
    "\n",
    "for valor in range (0,10):\n",
    "  soma = soma + valor\n",
    "\n",
    "print(soma)"
   ]
  },
  {
   "cell_type": "code",
   "execution_count": 37,
   "metadata": {
    "colab": {
     "base_uri": "https://localhost:8080/"
    },
    "id": "CYIaAetnwawO",
    "outputId": "1a62ce74-6bfc-4feb-a5be-e465a1dcac74"
   },
   "outputs": [
    {
     "name": "stdout",
     "output_type": "stream",
     "text": [
      "2\n",
      "4\n",
      "6\n",
      "8\n"
     ]
    }
   ],
   "source": [
    "for multiplo_dois in range(2,10,2):\n",
    "  print(multiplo_dois)"
   ]
  },
  {
   "cell_type": "code",
   "execution_count": null,
   "metadata": {
    "id": "U-fuU5xewyuG"
   },
   "outputs": [],
   "source": []
  },
  {
   "cell_type": "markdown",
   "metadata": {
    "id": "BpWMLIWmwzTd"
   },
   "source": [
    "**for - in - list**"
   ]
  },
  {
   "cell_type": "markdown",
   "metadata": {
    "id": "pWOYxFYWw4CE"
   },
   "source": [
    "Estrutura que permite a execução de um bloco de código para todos os elementos de uma lista.\n",
    "\n"
   ]
  },
  {
   "cell_type": "code",
   "execution_count": 38,
   "metadata": {
    "colab": {
     "base_uri": "https://localhost:8080/"
    },
    "id": "DBBXF7n1w9iT",
    "outputId": "2b59e4f6-b2a1-45ed-fb44-4ece286bafaa"
   },
   "outputs": [
    {
     "name": "stdout",
     "output_type": "stream",
     "text": [
      "Maca\n",
      "banana\n",
      "laranja\n",
      "uva\n",
      "pera\n"
     ]
    }
   ],
   "source": [
    "frutas = ['Maca', 'banana', 'laranja', 'uva', 'pera']\n",
    "\n",
    "for fruta in frutas:\n",
    "  print(fruta)"
   ]
  },
  {
   "cell_type": "code",
   "execution_count": 1,
   "metadata": {},
   "outputs": [
    {
     "name": "stdout",
     "output_type": "stream",
     "text": [
      "O produto coca teve 1500 unidades produzidas\n",
      "O produto pepsi teve 2000 unidades produzidas\n",
      "O produto guarana teve 200 unidades produzidas\n",
      "O produto sprite teve 3500 unidades produzidas\n",
      "O produto fanta teve 1000 unidades produzidas\n"
     ]
    }
   ],
   "source": [
    "produtos = ['coca', 'pepsi', 'guarana', 'sprite', 'fanta']\n",
    "producao = [1500, 2000, 200, 3500, 1000]\n",
    "\n",
    "for i in range(5):\n",
    "    print('O produto {} teve {} unidades produzidas'.format(produtos[i], producao[i]))"
   ]
  },
  {
   "cell_type": "code",
   "execution_count": 52,
   "metadata": {
    "colab": {
     "base_uri": "https://localhost:8080/"
    },
    "id": "KgeajywoxjJK",
    "outputId": "fb107fdb-a205-4a98-a523-0731fcc77704"
   },
   "outputs": [
    {
     "name": "stdout",
     "output_type": "stream",
     "text": [
      "a letra \"f\" está presente na frase\n",
      "a letra \"n\" está presente na frase\n"
     ]
    }
   ],
   "source": [
    "frase = 'fala pessoal, meu nome é luis carlos'\n",
    "\n",
    "for caracter in frase:\n",
    "  if (caracter == 'f') or (caracter == 'n'):\n",
    "    print(f'a letra \"{caracter}\" está presente na frase')"
   ]
  },
  {
   "cell_type": "code",
   "execution_count": 2,
   "metadata": {},
   "outputs": [
    {
     "name": "stdout",
     "output_type": "stream",
     "text": [
      "O produto é: coca \n",
      "O produto é: pepsi \n",
      "O produto é: guarana \n",
      "O produto é: sprite \n",
      "O produto é: fanta \n"
     ]
    }
   ],
   "source": [
    "produtos = ['coca', 'pepsi', 'guarana', 'sprite', 'fanta' ]\n",
    "texto = 'afonso@live.com'\n",
    "\n",
    "for produto in produtos:\n",
    "    print('O produto é: {} '.format(produto))"
   ]
  },
  {
   "cell_type": "code",
   "execution_count": 3,
   "metadata": {},
   "outputs": [
    {
     "name": "stdout",
     "output_type": "stream",
     "text": [
      "O percentual de pessoas que bateram a meta foi de 62.50%\n"
     ]
    }
   ],
   "source": [
    "# For + If\n",
    "\n",
    "vendas = [1222, 100, 500, 999, 1001, 2000, 30000, 450000, 10, 15, 28, 1280, 34550, 3654, 12000, 10001]\n",
    "meta = 1000\n",
    "\n",
    "qtd_pessoas_meta_batida = 0\n",
    "qtd_total_pessoas = len(vendas)\n",
    "\n",
    "for venda in vendas:\n",
    "    if venda >= meta:\n",
    "        qtd_pessoas_meta_batida += 1\n",
    "\n",
    "print('O percentual de pessoas que bateram a meta foi de {:.2%}'.format(qtd_pessoas_meta_batida / qtd_total_pessoas))"
   ]
  },
  {
   "cell_type": "markdown",
   "metadata": {
    "id": "LysJclD70jGx"
   },
   "source": [
    "**FOR - IN - DICT**"
   ]
  },
  {
   "cell_type": "markdown",
   "metadata": {
    "id": "huO5nwF40oE_"
   },
   "source": [
    "Estrutura que permite a execução de um bloco de código para todos os elementos de um dicionário"
   ]
  },
  {
   "cell_type": "code",
   "execution_count": 53,
   "metadata": {
    "id": "RbzMrDDx0vk9"
   },
   "outputs": [],
   "source": [
    "credito = {'123': 750, '456':812, '789':980}"
   ]
  },
  {
   "cell_type": "code",
   "execution_count": 54,
   "metadata": {
    "colab": {
     "base_uri": "https://localhost:8080/"
    },
    "id": "O53_S7na04gG",
    "outputId": "bb4a5b93-00d5-4672-95a9-97058af5561f"
   },
   "outputs": [
    {
     "name": "stdout",
     "output_type": "stream",
     "text": [
      "Para o documento \"123\", o valor do escore de crédito é 750.\n",
      "\n",
      "\n",
      "Para o documento \"456\", o valor do escore de crédito é 812.\n",
      "\n",
      "\n",
      "Para o documento \"789\", o valor do escore de crédito é 980.\n",
      "\n",
      "\n"
     ]
    }
   ],
   "source": [
    "for chave, valor in credito.items():\n",
    "  print(f'Para o documento \"{chave}\", o valor do escore de crédito é {valor}.')\n",
    "  print('\\n')"
   ]
  },
  {
   "cell_type": "code",
   "execution_count": 55,
   "metadata": {
    "colab": {
     "base_uri": "https://localhost:8080/"
    },
    "id": "7x4EXnls1OGR",
    "outputId": "0597a5b1-3b73-4763-f519-b2bb930ab980"
   },
   "outputs": [
    {
     "name": "stdout",
     "output_type": "stream",
     "text": [
      "123\n",
      "750\n",
      "Para o documento 123, o valor do escore de crédito é 750.\n",
      "456\n",
      "812\n",
      "Para o documento 456, o valor do escore de crédito é 812.\n",
      "789\n",
      "980\n",
      "Para o documento 789, o valor do escore de crédito é 980.\n"
     ]
    }
   ],
   "source": [
    "for chave in credito.keys():\n",
    "  print(chave)\n",
    "  print(credito[chave])\n",
    "  print(f'Para o documento {chave}, o valor do escore de crédito é {credito[chave]}.')"
   ]
  },
  {
   "cell_type": "code",
   "execution_count": 56,
   "metadata": {
    "colab": {
     "base_uri": "https://localhost:8080/"
    },
    "id": "nARrKvLZ1kBd",
    "outputId": "84f66eb4-f7f4-4581-f279-30e90e2d2bfc"
   },
   "outputs": [
    {
     "name": "stdout",
     "output_type": "stream",
     "text": [
      "750\n",
      "o valor do escore de crédito é 750, mas nao temos mais as chaves :(.\n",
      "\n",
      "\n",
      "812\n",
      "o valor do escore de crédito é 812, mas nao temos mais as chaves :(.\n",
      "\n",
      "\n",
      "980\n",
      "o valor do escore de crédito é 980, mas nao temos mais as chaves :(.\n",
      "\n",
      "\n"
     ]
    }
   ],
   "source": [
    "for valor in credito.values():\n",
    "  print(valor)\n",
    "  print(f'o valor do escore de crédito é {valor}, mas nao temos mais as chaves :(.')\n",
    "  print('\\n')"
   ]
  },
  {
   "cell_type": "markdown",
   "metadata": {
    "id": "2BXMubnt2Aic"
   },
   "source": [
    "**Break\\continue**"
   ]
  },
  {
   "cell_type": "markdown",
   "metadata": {
    "id": "7rulJCwS2Nzl"
   },
   "source": [
    "Estrutura que permite a quebra ou avanço de um laco de repeticao"
   ]
  },
  {
   "cell_type": "code",
   "execution_count": 60,
   "metadata": {
    "colab": {
     "base_uri": "https://localhost:8080/"
    },
    "id": "i1eZzyK02GgI",
    "outputId": "5ac7eff5-bb07-4353-bc4a-63df9a8b37b0"
   },
   "outputs": [
    {
     "name": "stdout",
     "output_type": "stream",
     "text": [
      "0\n",
      "1\n",
      "2\n",
      "3\n",
      "4\n",
      "5\n"
     ]
    }
   ],
   "source": [
    "for i in range(0, 10*10*10*10*10*10):\n",
    "  print(i)\n",
    "  if i == 5:\n",
    "    break\n",
    "  "
   ]
  },
  {
   "cell_type": "code",
   "execution_count": 61,
   "metadata": {
    "colab": {
     "base_uri": "https://localhost:8080/"
    },
    "id": "BzxZMPAl3eDd",
    "outputId": "607fa2cd-eb61-46ee-c7bd-3e265b8b5b15"
   },
   "outputs": [
    {
     "name": "stdout",
     "output_type": "stream",
     "text": [
      "o numero 10 é par\n"
     ]
    }
   ],
   "source": [
    "numero = 10\n",
    "\n",
    "if numero % 2 == 0:\n",
    "  print(f'o numero {numero} é par')\n",
    "else:\n",
    "  print(f'O numero {numero} é impar')"
   ]
  },
  {
   "cell_type": "code",
   "execution_count": 62,
   "metadata": {
    "colab": {
     "base_uri": "https://localhost:8080/"
    },
    "id": "WLYFjKco2O7i",
    "outputId": "61b20a14-fa5f-4876-b471-5e08990a12e1"
   },
   "outputs": [
    {
     "name": "stdout",
     "output_type": "stream",
     "text": [
      "O numero 361 é impar\n",
      "O numero 553 é impar\n",
      "O numero 194 é par\n"
     ]
    }
   ],
   "source": [
    "numeros = [361,553,194,13,510,33,135]\n",
    "\n",
    "for numero in numeros:\n",
    "  if numero % 2 == 0:\n",
    "    print(f'O numero {numero} é par')\n",
    "    break\n",
    "  else:\n",
    "    print(f'O numero {numero} é impar')"
   ]
  },
  {
   "cell_type": "code",
   "execution_count": 63,
   "metadata": {
    "colab": {
     "base_uri": "https://localhost:8080/"
    },
    "id": "oaj3nyf-4H9k",
    "outputId": "6a47631f-c5af-47a4-af9a-824e59f00ba3"
   },
   "outputs": [
    {
     "name": "stdout",
     "output_type": "stream",
     "text": [
      "O numero 194 é par\n"
     ]
    }
   ],
   "source": [
    "numeros = [361,553,194,13,510,33,135]\n",
    "\n",
    "for numero in numeros:\n",
    "  if numero % 2 == 0:\n",
    "    print(f'O numero {numero} é par')\n",
    "    break\n",
    "  else:\n",
    "    continue\n",
    "    print(f'O numero {numero} é impar')"
   ]
  }
 ],
 "metadata": {
  "colab": {
   "provenance": []
  },
  "kernelspec": {
   "display_name": "Python 3 (ipykernel)",
   "language": "python",
   "name": "python3"
  },
  "language_info": {
   "codemirror_mode": {
    "name": "ipython",
    "version": 3
   },
   "file_extension": ".py",
   "mimetype": "text/x-python",
   "name": "python",
   "nbconvert_exporter": "python",
   "pygments_lexer": "ipython3",
   "version": "3.9.13"
  }
 },
 "nbformat": 4,
 "nbformat_minor": 1
}
