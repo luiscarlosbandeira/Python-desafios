{
  "nbformat": 4,
  "nbformat_minor": 0,
  "metadata": {
    "colab": {
      "provenance": []
    },
    "kernelspec": {
      "name": "python3",
      "display_name": "Python 3"
    },
    "language_info": {
      "name": "python"
    }
  },
  "cells": [
    {
      "cell_type": "markdown",
      "source": [
        "\n",
        "## Programação funcional\n",
        "1.   Função lambda;\n",
        "2.   Função map;\n",
        "3.   Função filter;\n",
        "4.   Função reduce.\n",
        "\n"
      ],
      "metadata": {
        "id": "uiaitb2qpkL1"
      }
    },
    {
      "cell_type": "markdown",
      "source": [
        "# Função lambda"
      ],
      "metadata": {
        "id": "82ZyZTlosqQy"
      }
    },
    {
      "cell_type": "markdown",
      "source": [
        "função anônima (sem nome) com bloco de código super enxuto e que pode ser salva em uma variável. Em geral é utilizada com outros métodos funcionais como map, filter e reduce"
      ],
      "metadata": {
        "id": "-GMrumKas5Rt"
      }
    },
    {
      "cell_type": "code",
      "source": [
        "variavel = lambda params: expressão"
      ],
      "metadata": {
        "id": "YFomHsYPssbl"
      },
      "execution_count": null,
      "outputs": []
    },
    {
      "cell_type": "markdown",
      "source": [
        "**Exemplo:** Função lambda para extrair provedor de e-mail."
      ],
      "metadata": {
        "id": "pnfd0YvAtbp9"
      }
    },
    {
      "cell_type": "code",
      "source": [
        "extrair_provedor_email = lambda email: email.split(sep='@')[-1]"
      ],
      "metadata": {
        "id": "fRGFGQWjtg8M"
      },
      "execution_count": 1,
      "outputs": []
    },
    {
      "cell_type": "code",
      "source": [
        "email= 'andre.perez@gmail.com'\n",
        "print(email)\n",
        "\n",
        "provedor_email = extrair_provedor_email(email)\n",
        "print(provedor_email)"
      ],
      "metadata": {
        "colab": {
          "base_uri": "https://localhost:8080/"
        },
        "id": "uVdy52wwtF9V",
        "outputId": "2afd73b5-dd1f-4a66-c7fb-5dca7447054a"
      },
      "execution_count": 3,
      "outputs": [
        {
          "output_type": "stream",
          "name": "stdout",
          "text": [
            "andre.perez@gmail.com\n",
            "gmail.com\n"
          ]
        }
      ]
    },
    {
      "cell_type": "markdown",
      "source": [
        "**Exemplo:** função lambda com estruturas condicionais"
      ],
      "metadata": {
        "id": "za-Yd1yAuECl"
      }
    },
    {
      "cell_type": "code",
      "source": [
        "numero_e_par = lambda numero: True if numero % 2 == 0 else False"
      ],
      "metadata": {
        "id": "K31C6aTmp1p2"
      },
      "execution_count": 4,
      "outputs": []
    },
    {
      "cell_type": "code",
      "source": [
        "numeros = range(0,10)"
      ],
      "metadata": {
        "id": "BVum4OxtuSDa"
      },
      "execution_count": 5,
      "outputs": []
    },
    {
      "cell_type": "code",
      "source": [
        "for numero in numeros:\n",
        "  if numero_e_par(numero) == True:\n",
        "    print(f'o número {numero} é par!.')"
      ],
      "metadata": {
        "colab": {
          "base_uri": "https://localhost:8080/"
        },
        "id": "-M7RqtsvuWn0",
        "outputId": "d7d709bb-1860-4548-b778-7bd5622f5197"
      },
      "execution_count": 6,
      "outputs": [
        {
          "output_type": "stream",
          "name": "stdout",
          "text": [
            "o número 0 é par!.\n",
            "o número 2 é par!.\n",
            "o número 4 é par!.\n",
            "o número 6 é par!.\n",
            "o número 8 é par!.\n"
          ]
        }
      ]
    },
    {
      "cell_type": "markdown",
      "source": [
        "**Função de alta ordem**"
      ],
      "metadata": {
        "id": "DFGXsZdAw46b"
      }
    },
    {
      "cell_type": "markdown",
      "source": [
        "São funções que recebem outras funções para parâmetro ou retornam outra função."
      ],
      "metadata": {
        "id": "IlewApgyxNA-"
      }
    },
    {
      "cell_type": "markdown",
      "source": [
        "**Exemplo:** Juros compostos dinâmico"
      ],
      "metadata": {
        "id": "e0fwo4xtxYat"
      }
    },
    {
      "cell_type": "markdown",
      "source": [
        "**definição**"
      ],
      "metadata": {
        "id": "DLvPg9weyh4D"
      }
    },
    {
      "cell_type": "code",
      "source": [
        "def retorno(juros: float):\n",
        "  return lambda investimento: investimento * (1 + juros)"
      ],
      "metadata": {
        "id": "NAcURLLGw7-_"
      },
      "execution_count": 7,
      "outputs": []
    },
    {
      "cell_type": "markdown",
      "source": [
        "**Instanciação**"
      ],
      "metadata": {
        "id": "hGTLcY0WyhP7"
      }
    },
    {
      "cell_type": "code",
      "source": [
        "retorno_5_porcento = retorno(juros=0.05)\n",
        "retorno_10_porcento = retorno(juros=0.10)"
      ],
      "metadata": {
        "id": "IzfkvhtUxTr9"
      },
      "execution_count": 10,
      "outputs": []
    },
    {
      "cell_type": "code",
      "source": [
        "valor_final = retorno_5_porcento(investimento = 1000)\n",
        "print(valor_final)"
      ],
      "metadata": {
        "colab": {
          "base_uri": "https://localhost:8080/"
        },
        "id": "IpNJadK7xurt",
        "outputId": "8d6584c6-318c-406f-fc9b-61a0e632b603"
      },
      "execution_count": 11,
      "outputs": [
        {
          "output_type": "stream",
          "name": "stdout",
          "text": [
            "1050.0\n"
          ]
        }
      ]
    },
    {
      "cell_type": "code",
      "source": [
        "valor_final = retorno_10_porcento(investimento = 1000)\n",
        "print(valor_final)"
      ],
      "metadata": {
        "colab": {
          "base_uri": "https://localhost:8080/"
        },
        "id": "f6O0TZfjyJ0q",
        "outputId": "f27b8c82-569f-4ff7-d539-dce456c91d42"
      },
      "execution_count": 12,
      "outputs": [
        {
          "output_type": "stream",
          "name": "stdout",
          "text": [
            "1100.0\n"
          ]
        }
      ]
    },
    {
      "cell_type": "markdown",
      "source": [
        "**Uso**"
      ],
      "metadata": {
        "id": "HphBhDTczh0Z"
      }
    },
    {
      "cell_type": "code",
      "source": [
        "anos = 10\n",
        "valor_inicial = 1000\n",
        "valor_final = valor_inicial\n",
        "\n",
        "for ano in range(1, anos+1):\n",
        "  valor_final = retorno_10_porcento(investimento=valor_final)\n",
        "\n",
        "valor_inicial = round(valor_final, 2)\n",
        "print(valor_final)"
      ],
      "metadata": {
        "colab": {
          "base_uri": "https://localhost:8080/"
        },
        "id": "XcCDWv_EyrZb",
        "outputId": "b9ecc4bd-1b44-4218-dd13-7cb4318c3948"
      },
      "execution_count": 13,
      "outputs": [
        {
          "output_type": "stream",
          "name": "stdout",
          "text": [
            "2593.742460100001\n"
          ]
        }
      ]
    },
    {
      "cell_type": "code",
      "source": [
        "anos = 10\n",
        "valor_inicial = 1000\n",
        "valor_final = valor_inicial\n",
        "\n",
        "for ano in range(1, anos+1):\n",
        "  valor_final = retorno_5_porcento(investimento=valor_final)\n",
        "\n",
        "valor_inicial = round(valor_final, 2)\n",
        "print(valor_final)"
      ],
      "metadata": {
        "colab": {
          "base_uri": "https://localhost:8080/"
        },
        "id": "1T-kcJlZz_jp",
        "outputId": "9337d97a-9e17-4f7d-a564-65b53ef1080b"
      },
      "execution_count": 14,
      "outputs": [
        {
          "output_type": "stream",
          "name": "stdout",
          "text": [
            "1628.8946267774422\n"
          ]
        }
      ]
    },
    {
      "cell_type": "markdown",
      "source": [
        "# **Função map**"
      ],
      "metadata": {
        "id": "Wz_WarA_0eog"
      }
    },
    {
      "cell_type": "markdown",
      "source": [
        "aplica uma função em todos os elementos de uma coleção (list, dict, etc) e retorna todos os elementos transformados."
      ],
      "metadata": {
        "id": "8jj_NB7t0qPJ"
      }
    },
    {
      "cell_type": "code",
      "source": [
        "variavel = map(função, coleção)"
      ],
      "metadata": {
        "colab": {
          "base_uri": "https://localhost:8080/",
          "height": 165
        },
        "id": "YudVkJfx0ypv",
        "outputId": "915c8e9b-a603-4841-d2bd-a9070ab4f183"
      },
      "execution_count": 16,
      "outputs": [
        {
          "output_type": "error",
          "ename": "NameError",
          "evalue": "ignored",
          "traceback": [
            "\u001b[0;31m---------------------------------------------------------------------------\u001b[0m",
            "\u001b[0;31mNameError\u001b[0m                                 Traceback (most recent call last)",
            "\u001b[0;32m<ipython-input-16-d55bd7fb31ae>\u001b[0m in \u001b[0;36m<cell line: 1>\u001b[0;34m()\u001b[0m\n\u001b[0;32m----> 1\u001b[0;31m \u001b[0mvariavel\u001b[0m \u001b[0;34m=\u001b[0m \u001b[0mmap\u001b[0m\u001b[0;34m(\u001b[0m\u001b[0mfunção\u001b[0m\u001b[0;34m,\u001b[0m \u001b[0mcoleção\u001b[0m\u001b[0;34m)\u001b[0m\u001b[0;34m\u001b[0m\u001b[0;34m\u001b[0m\u001b[0m\n\u001b[0m",
            "\u001b[0;31mNameError\u001b[0m: name 'função' is not defined"
          ]
        }
      ]
    },
    {
      "cell_type": "code",
      "source": [
        "numeros = [1,2,3]\n",
        "numeros_ao_cubo = map(lambda num: num ** 3, numeros)\n",
        "print(list(numeros_ao_cubo))"
      ],
      "metadata": {
        "colab": {
          "base_uri": "https://localhost:8080/"
        },
        "id": "pCBAnpsM1Bbn",
        "outputId": "cadf5e91-f620-4763-ed2d-947964a51d73"
      },
      "execution_count": 17,
      "outputs": [
        {
          "output_type": "stream",
          "name": "stdout",
          "text": [
            "[1, 8, 27]\n"
          ]
        }
      ]
    },
    {
      "cell_type": "markdown",
      "source": [
        "**Função de alta ordem**"
      ],
      "metadata": {
        "id": "3fLvqw1b1l-o"
      }
    },
    {
      "cell_type": "markdown",
      "source": [
        "**exemplo: ** função lambda para extrair provedor de e-mail (1 parâmetro)."
      ],
      "metadata": {
        "id": "QIFCt8iW1pie"
      }
    },
    {
      "cell_type": "code",
      "source": [
        "emails = ['luis.edu.ifac@gmail.com','herbalife.edu.uninorte@hotmail.com','luis']\n",
        "extrair_provedor_email = lambda email: email.split(sep='@')[-1]"
      ],
      "metadata": {
        "id": "zvXZH7KQ1zoe"
      },
      "execution_count": 18,
      "outputs": []
    },
    {
      "cell_type": "code",
      "source": [
        "provedores = []\n",
        "for email in emails:\n",
        "  provedor = extrair_provedor_email(email)\n",
        "  provedores.append(provedor)\n",
        "\n",
        "print(provedores)"
      ],
      "metadata": {
        "colab": {
          "base_uri": "https://localhost:8080/"
        },
        "id": "95QwbP-m1oeo",
        "outputId": "8e214a03-c7ba-4764-c585-883b103bd340"
      },
      "execution_count": 19,
      "outputs": [
        {
          "output_type": "stream",
          "name": "stdout",
          "text": [
            "['gmail.com', 'hotmail.com', 'luis']\n"
          ]
        }
      ]
    },
    {
      "cell_type": "code",
      "source": [
        "provedores  = map(extrair_provedor_email, emails)\n",
        "print(provedores)"
      ],
      "metadata": {
        "colab": {
          "base_uri": "https://localhost:8080/"
        },
        "id": "VHn6Rd_-2Q5O",
        "outputId": "74604cd3-de97-47ad-d2e8-38cc1ea313ad"
      },
      "execution_count": 20,
      "outputs": [
        {
          "output_type": "stream",
          "name": "stdout",
          "text": [
            "<map object at 0x7fb5877a70a0>\n"
          ]
        }
      ]
    },
    {
      "cell_type": "code",
      "source": [
        "provedores = list(map(extrair_provedor_email, emails))\n",
        "print(provedores)"
      ],
      "metadata": {
        "colab": {
          "base_uri": "https://localhost:8080/"
        },
        "id": "OVW0EKt10md8",
        "outputId": "828ba636-55cc-44df-8716-445b45041e36"
      },
      "execution_count": 21,
      "outputs": [
        {
          "output_type": "stream",
          "name": "stdout",
          "text": [
            "['gmail.com', 'hotmail.com', 'luis']\n"
          ]
        }
      ]
    },
    {
      "cell_type": "code",
      "source": [
        "provedores = map(lambda email: email.split(sep='@')[-1], emails)\n",
        "...\n",
        "print(list(provedores))"
      ],
      "metadata": {
        "colab": {
          "base_uri": "https://localhost:8080/"
        },
        "id": "nZv8sPjo2e8M",
        "outputId": "de09497b-4913-4cb4-800a-ed25f9227b9c"
      },
      "execution_count": 22,
      "outputs": [
        {
          "output_type": "stream",
          "name": "stdout",
          "text": [
            "['gmail.com', 'hotmail.com', 'luis']\n"
          ]
        }
      ]
    },
    {
      "cell_type": "markdown",
      "source": [
        "**outro exemplo (mais de 1 parâmetros)**"
      ],
      "metadata": {
        "id": "dSSygriZ4AvW"
      }
    },
    {
      "cell_type": "code",
      "source": [
        "anos = [10,10,10]\n",
        "taxas_juros = [0.05, 0.10, 0.15]\n",
        "valores_iniciais = [1000, 1000, 1000]"
      ],
      "metadata": {
        "id": "rmloT6gF4GNx"
      },
      "execution_count": 23,
      "outputs": []
    },
    {
      "cell_type": "code",
      "source": [
        "def retorno(valor_inicial: float, taxas_juros: float, anos: int) -> float:\n",
        "  valor_final = valor_inicial\n",
        "  for ano in range(1,anos+1):\n",
        "    valor_final = valor_final * (1+taxas_juros)\n",
        "  return round(valor_final,2)"
      ],
      "metadata": {
        "id": "y3YMWnTW4RFR"
      },
      "execution_count": 25,
      "outputs": []
    },
    {
      "cell_type": "code",
      "source": [
        "cenarios = list(map(retorno, valores_iniciais, taxas_juros, anos))\n",
        "print(cenarios)"
      ],
      "metadata": {
        "colab": {
          "base_uri": "https://localhost:8080/"
        },
        "id": "O4sWbMAz4sjy",
        "outputId": "08c42998-6099-42ef-bc60-6ca4dab763ec"
      },
      "execution_count": 26,
      "outputs": [
        {
          "output_type": "stream",
          "name": "stdout",
          "text": [
            "[1628.89, 2593.74, 4045.56]\n"
          ]
        }
      ]
    },
    {
      "cell_type": "markdown",
      "source": [
        "## Função filter"
      ],
      "metadata": {
        "id": "jwhiB4CyBdKx"
      }
    },
    {
      "cell_type": "markdown",
      "source": [
        "Aplica uma função lógica (que retorna um booleano) em todos os elementos de uma coleção (list,dict etc) e retorna apenas aquele que resultaram em verdadeiro (true)"
      ],
      "metadata": {
        "id": "qk5TYmvZBhVK"
      }
    },
    {
      "cell_type": "code",
      "source": [
        "variavel = filter (funcao, colecao)"
      ],
      "metadata": {
        "id": "tPjvdeYhBwKc"
      },
      "execution_count": null,
      "outputs": []
    },
    {
      "cell_type": "code",
      "source": [
        "numeros = [1,2,3]\n",
        "numeros_impares = filter(lambda num: num % 2 !=0, numeros)\n",
        "print(list(numeros_impares))"
      ],
      "metadata": {
        "colab": {
          "base_uri": "https://localhost:8080/"
        },
        "id": "ZZbV0vmOBYwj",
        "outputId": "7d6aa969-4e07-479f-b111-0b62869ef853"
      },
      "execution_count": 27,
      "outputs": [
        {
          "output_type": "stream",
          "name": "stdout",
          "text": [
            "[1, 3]\n"
          ]
        }
      ]
    },
    {
      "cell_type": "markdown",
      "source": [
        "**Função de alta ordem**"
      ],
      "metadata": {
        "id": "DvN_YHNCCBqy"
      }
    },
    {
      "cell_type": "code",
      "source": [
        "emails = ['luis.edu.ifac@gmail.com','herbalife.edu.uninorte@hotmail.com']\n",
        "provedor_da_google = lambda email: 'gmail' in email"
      ],
      "metadata": {
        "id": "BqRbr7UfCEyg"
      },
      "execution_count": 28,
      "outputs": []
    },
    {
      "cell_type": "code",
      "source": [
        "emails_google = []\n",
        "for email in emails:\n",
        "  if provedor_da_google(email) == True:\n",
        "    emails_google.append(email)\n",
        "print(emails_google)\n"
      ],
      "metadata": {
        "colab": {
          "base_uri": "https://localhost:8080/"
        },
        "id": "Okcsf_thCSvB",
        "outputId": "69d78531-c4d8-4bf1-c451-44e8d62765c3"
      },
      "execution_count": 30,
      "outputs": [
        {
          "output_type": "stream",
          "name": "stdout",
          "text": [
            "['luis.edu.ifac@gmail.com']\n"
          ]
        }
      ]
    },
    {
      "cell_type": "code",
      "source": [
        "emails_google = filter(provedor_da_google, emails)\n",
        "print(emails_google)"
      ],
      "metadata": {
        "colab": {
          "base_uri": "https://localhost:8080/"
        },
        "id": "4_9ORN_1DkaV",
        "outputId": "3c589d21-8db0-4ce9-e61b-d6b8d6e22740"
      },
      "execution_count": 32,
      "outputs": [
        {
          "output_type": "stream",
          "name": "stdout",
          "text": [
            "<filter object at 0x7fb587833100>\n"
          ]
        }
      ]
    },
    {
      "cell_type": "code",
      "source": [
        "emails_google = list(filter(provedor_da_google, emails))\n",
        "print(emails_google)"
      ],
      "metadata": {
        "colab": {
          "base_uri": "https://localhost:8080/"
        },
        "id": "4EtMzCkBDt-s",
        "outputId": "a99d48a3-ab87-4431-8b35-409c0ac28a85"
      },
      "execution_count": 33,
      "outputs": [
        {
          "output_type": "stream",
          "name": "stdout",
          "text": [
            "['luis.edu.ifac@gmail.com']\n"
          ]
        }
      ]
    },
    {
      "cell_type": "code",
      "source": [
        "emails_google = filter(lambda email: 'gmail' in email, emails)\n",
        "...\n",
        "print(list(emails_google))"
      ],
      "metadata": {
        "colab": {
          "base_uri": "https://localhost:8080/"
        },
        "id": "WVsKFf4cDsVF",
        "outputId": "33fafa6a-543b-44af-de98-746027f98826"
      },
      "execution_count": 34,
      "outputs": [
        {
          "output_type": "stream",
          "name": "stdout",
          "text": [
            "['luis.edu.ifac@gmail.com']\n"
          ]
        }
      ]
    },
    {
      "cell_type": "markdown",
      "source": [
        "# Função reduce"
      ],
      "metadata": {
        "id": "gQ4nNBV5FTnw"
      }
    },
    {
      "cell_type": "markdown",
      "source": [
        "Aplica uma função a todos os elementos de uma coleção, dois a dois e retorna apenas um elemento."
      ],
      "metadata": {
        "id": "nk-GauTBFeYT"
      }
    },
    {
      "cell_type": "code",
      "source": [
        "variavel = reduce(funcao, colecao)"
      ],
      "metadata": {
        "id": "hKextnu7Fkdu"
      },
      "execution_count": null,
      "outputs": []
    },
    {
      "cell_type": "code",
      "source": [
        "numeros = [1,2,3]"
      ],
      "metadata": {
        "id": "wNY8zFqZF_77"
      },
      "execution_count": 35,
      "outputs": []
    },
    {
      "cell_type": "code",
      "source": [
        "from functools import reduce\n",
        "\n",
        "soma = reduce(lambda x, y: x+y, numeros)\n",
        "print(soma)"
      ],
      "metadata": {
        "colab": {
          "base_uri": "https://localhost:8080/"
        },
        "id": "pPydyVJ1FTMG",
        "outputId": "c8d06663-fe00-4c66-abb3-374fac62c71c"
      },
      "execution_count": 36,
      "outputs": [
        {
          "output_type": "stream",
          "name": "stdout",
          "text": [
            "6\n"
          ]
        }
      ]
    },
    {
      "cell_type": "markdown",
      "source": [
        "**Função de alta ordem**"
      ],
      "metadata": {
        "id": "o0KZnIMmGOc6"
      }
    },
    {
      "cell_type": "markdown",
      "source": [
        "Encontrar maior numero em uma lista"
      ],
      "metadata": {
        "id": "F-6pyJcmGUaJ"
      }
    },
    {
      "cell_type": "code",
      "source": [
        "def maior_entre(primeiro: int, segundo: int) -> int:\n",
        "  return primeiro if primeiro >= segundo else segundo\n",
        "\n",
        "primeiro = 1\n",
        "segundo = 10\n",
        "\n",
        "print(maior_entre(primeiro=primeiro, segundo=segundo))"
      ],
      "metadata": {
        "colab": {
          "base_uri": "https://localhost:8080/"
        },
        "id": "hPMyOBKwGTs5",
        "outputId": "5e457ce2-ca3d-4362-d0f2-9a8d7c9c172e"
      },
      "execution_count": 37,
      "outputs": [
        {
          "output_type": "stream",
          "name": "stdout",
          "text": [
            "10\n"
          ]
        }
      ]
    },
    {
      "cell_type": "code",
      "source": [
        "from random import random # gerar numeros aleatórios\n",
        "\n",
        "print(random())"
      ],
      "metadata": {
        "colab": {
          "base_uri": "https://localhost:8080/"
        },
        "id": "QqrQp3iyGn9I",
        "outputId": "436e99d7-53dc-420e-b0fc-c9612ccf622c"
      },
      "execution_count": 38,
      "outputs": [
        {
          "output_type": "stream",
          "name": "stdout",
          "text": [
            "0.9437770277713716\n"
          ]
        }
      ]
    },
    {
      "cell_type": "code",
      "source": [
        "from random import random\n",
        "\n",
        "numeros = [round(100 * random()) for _ in range(0,100)]\n",
        "print(numeros)"
      ],
      "metadata": {
        "colab": {
          "base_uri": "https://localhost:8080/"
        },
        "id": "lTGo5S6XL6AY",
        "outputId": "c600628e-c283-4d1f-fd74-0a152db143e2"
      },
      "execution_count": 39,
      "outputs": [
        {
          "output_type": "stream",
          "name": "stdout",
          "text": [
            "[98, 50, 45, 12, 59, 85, 34, 43, 38, 20, 54, 85, 44, 46, 16, 10, 35, 5, 76, 4, 87, 12, 35, 60, 92, 89, 46, 96, 0, 73, 68, 10, 6, 61, 32, 26, 24, 73, 99, 44, 53, 13, 16, 90, 15, 90, 39, 66, 58, 1, 84, 32, 70, 70, 35, 51, 82, 45, 58, 26, 95, 16, 43, 9, 55, 77, 67, 29, 54, 58, 66, 68, 31, 16, 53, 77, 6, 20, 10, 63, 51, 97, 97, 54, 26, 34, 4, 76, 49, 2, 77, 58, 100, 25, 59, 22, 62, 18, 62, 64]\n"
          ]
        }
      ]
    },
    {
      "cell_type": "code",
      "source": [
        "maior_numero = reduce(maior_entre, numeros)\n",
        "print(maior_numero)"
      ],
      "metadata": {
        "colab": {
          "base_uri": "https://localhost:8080/"
        },
        "id": "oTlULmj4MOE_",
        "outputId": "f7b99e98-a1b3-49f1-8d33-d453b101b240"
      },
      "execution_count": 40,
      "outputs": [
        {
          "output_type": "stream",
          "name": "stdout",
          "text": [
            "100\n"
          ]
        }
      ]
    },
    {
      "cell_type": "code",
      "source": [
        "maior_numero = reduce(lambda primeiro, segundo: primeiro if primeiro >= segundo else segundo, numeros)\n",
        "print(maior_numero)"
      ],
      "metadata": {
        "colab": {
          "base_uri": "https://localhost:8080/"
        },
        "id": "31KBWqR_MUhY",
        "outputId": "82e85b4e-d0d4-4ba9-81c1-af2a82458bba"
      },
      "execution_count": 41,
      "outputs": [
        {
          "output_type": "stream",
          "name": "stdout",
          "text": [
            "100\n"
          ]
        }
      ]
    },
    {
      "cell_type": "markdown",
      "source": [
        "**Compossibilidade**"
      ],
      "metadata": {
        "id": "HI91RvUINnem"
      }
    },
    {
      "cell_type": "markdown",
      "source": [
        "Combinação de métodos funcionais"
      ],
      "metadata": {
        "id": "JY54Ekn3QbNA"
      }
    },
    {
      "cell_type": "code",
      "source": [
        "from random import random"
      ],
      "metadata": {
        "id": "IArdMHD0Qdv_"
      },
      "execution_count": null,
      "outputs": []
    },
    {
      "cell_type": "code",
      "source": [
        "numeros = [round(100 * random()) for _ in range (0,100)]\n",
        "print(numeros)"
      ],
      "metadata": {
        "colab": {
          "base_uri": "https://localhost:8080/"
        },
        "id": "iSsJpR2gRT8t",
        "outputId": "eac47599-9b69-466e-8a02-2c24b175ff99"
      },
      "execution_count": 42,
      "outputs": [
        {
          "output_type": "stream",
          "name": "stdout",
          "text": [
            "[87, 44, 40, 29, 73, 24, 73, 93, 57, 92, 69, 73, 48, 67, 70, 9, 97, 56, 93, 32, 47, 29, 36, 4, 3, 86, 29, 64, 79, 60, 18, 53, 69, 94, 44, 36, 40, 63, 26, 41, 92, 85, 7, 71, 53, 12, 87, 37, 81, 47, 74, 50, 75, 80, 91, 97, 43, 76, 14, 69, 15, 53, 47, 46, 6, 97, 59, 51, 29, 49, 83, 60, 88, 16, 28, 79, 98, 81, 15, 8, 25, 21, 55, 87, 94, 23, 44, 63, 29, 67, 98, 8, 72, 28, 13, 23, 56, 44, 78, 39]\n"
          ]
        }
      ]
    },
    {
      "cell_type": "code",
      "source": [
        "# eleve os numeros ao quadrado\n",
        "numeros_ao_quadrado = map(lambda numero: numero ** 2, numeros)"
      ],
      "metadata": {
        "id": "j64TyDhDNmot"
      },
      "execution_count": 43,
      "outputs": []
    },
    {
      "cell_type": "code",
      "source": [
        "# filtra os numeros impares\n",
        "numeros_impares = filter(lambda numero: numero % 2 !=0, numeros_ao_quadrado)"
      ],
      "metadata": {
        "id": "HgCcqTE2Nm_8"
      },
      "execution_count": 44,
      "outputs": []
    },
    {
      "cell_type": "code",
      "source": [
        "# soma todos os numeros\n",
        "soma_numeros = reduce(lambda x,y: x+y, numeros_impares)\n",
        "print(soma_numeros)"
      ],
      "metadata": {
        "colab": {
          "base_uri": "https://localhost:8080/"
        },
        "id": "5I8L_Mm6Rual",
        "outputId": "4a3288c1-4da5-4973-9f09-61b315cf07d6"
      },
      "execution_count": 45,
      "outputs": [
        {
          "output_type": "stream",
          "name": "stdout",
          "text": [
            "217401\n"
          ]
        }
      ]
    },
    {
      "cell_type": "code",
      "source": [
        "# todos os métodos de uma vez\n",
        "soma_numeros = reduce(lambda x,y: x+y, filter(lambda numero: numero % 2 !=0, map(lambda numero: numero ** 2, numeros)))\n",
        "print(soma_numeros)"
      ],
      "metadata": {
        "colab": {
          "base_uri": "https://localhost:8080/"
        },
        "id": "Obqmt7QgR278",
        "outputId": "5c95b8e0-dd05-404e-8a5e-ec3f404c012e"
      },
      "execution_count": 46,
      "outputs": [
        {
          "output_type": "stream",
          "name": "stdout",
          "text": [
            "217401\n"
          ]
        }
      ]
    }
  ]
}