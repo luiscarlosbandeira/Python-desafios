{
 "cells": [
  {
   "cell_type": "markdown",
   "metadata": {
    "id": "mO9NXDPjjVCS"
   },
   "source": [
    "# **Configuração Inicial**"
   ]
  },
  {
   "cell_type": "markdown",
   "metadata": {
    "id": "xTW7fJYhjdOI"
   },
   "source": [
    "**arquivo CSV: banco.csv**"
   ]
  },
  {
   "cell_type": "code",
   "execution_count": null,
   "metadata": {
    "colab": {
     "base_uri": "https://localhost:8080/"
    },
    "id": "e0frxxGdjFUa",
    "outputId": "ed6bc55e-71fd-4fa8-82d9-dcefa2e0f0fb"
   },
   "outputs": [
    {
     "name": "stdout",
     "output_type": "stream",
     "text": [
      "Overwriting banco.csv\n"
     ]
    }
   ],
   "source": [
    "%%writefile banco.csv\n",
    "age,job,marital,education,default,balance,housing,loan\n",
    "30,unemployed,married,primary,no,1787,no,no\n",
    "33,services,married,secondary,no,4789,yes,yes\n",
    "35,management,single,tertiary,no,1350,yes,no\n",
    "30,management,married,tertiary,no,1476,yes,yes\n",
    "59,blue-collar,married,secondary,no,0,yes,no\n",
    "35,management,single,tertiary,no,747,no,no\n",
    "36,self-employed,married,tertiary,no,147,yes,no\n",
    "39,technician,married,secondary,no,147,yes,no\n",
    "41,entrepreneur,married,tertiary,no,221,yes,no\n",
    "43,services,married,primary,no,-88,yes,yes"
   ]
  },
  {
   "cell_type": "markdown",
   "metadata": {
    "id": "iAS-0bR0k1Og"
   },
   "source": [
    "**with - open**"
   ]
  },
  {
   "cell_type": "markdown",
   "metadata": {
    "id": "fWy9YXUBmhn4"
   },
   "source": [
    "comando para ler arquivos"
   ]
  },
  {
   "cell_type": "code",
   "execution_count": null,
   "metadata": {
    "id": "LCeoFUOOk94b"
   },
   "outputs": [],
   "source": [
    "with open(file='<caminho do arquivo>', mode='<modo de leitura>', encoding='<decodificador>') as <apelido>:\n",
    "  bloco de codigo"
   ]
  },
  {
   "cell_type": "markdown",
   "metadata": {
    "id": "foxEjUNKm0sP"
   },
   "source": [
    "\n",
    "os modos de leitura são:\n",
    "\n",
    "*   **r:** abrir o arquivo para leitura(padrão)\n",
    "\n",
    "\n",
    "\n"
   ]
  },
  {
   "cell_type": "markdown",
   "metadata": {
    "id": "IwbyRBjjnCrd"
   },
   "source": [
    "**read**"
   ]
  },
  {
   "cell_type": "markdown",
   "metadata": {
    "id": "kxmNVBOmnFDu"
   },
   "source": [
    "comando para ler todo o conteúdo de um arquivo."
   ]
  },
  {
   "cell_type": "code",
   "execution_count": null,
   "metadata": {
    "colab": {
     "base_uri": "https://localhost:8080/"
    },
    "id": "jIqym5ujnAo3",
    "outputId": "679bda31-df1b-4838-d874-208753fd60cf"
   },
   "outputs": [
    {
     "name": "stdout",
     "output_type": "stream",
     "text": [
      "age,job,marital,education,default,balance,housing,loan\n",
      "30,unemployed,married,primary,no,1787,no,no\n",
      "33,services,married,secondary,no,4789,yes,yes\n",
      "35,management,single,tertiary,no,1350,yes,no\n",
      "30,management,married,tertiary,no,1476,yes,yes\n",
      "59,blue-collar,married,secondary,no,0,yes,no\n",
      "35,management,single,tertiary,no,747,no,no\n",
      "36,self-employed,married,tertiary,no,147,yes,no\n",
      "39,technician,married,secondary,no,147,yes,no\n",
      "41,entrepreneur,married,tertiary,no,221,yes,no\n",
      "43,services,married,primary,no,-88,yes,yes\n",
      "\n"
     ]
    }
   ],
   "source": [
    "conteudo = None\n",
    "\n",
    "with open(file='./banco.csv', mode='r', encoding='utf8') as arquivo:\n",
    "  conteudo = arquivo.read()\n",
    "\n",
    "print(conteudo)"
   ]
  },
  {
   "cell_type": "markdown",
   "metadata": {
    "id": "5aJEkPDdnqPn"
   },
   "source": [
    "**readline**"
   ]
  },
  {
   "cell_type": "markdown",
   "metadata": {
    "id": "6S6RZXAYntnO"
   },
   "source": [
    "Comando para ler todo o conteúdo de um arquivo uma linha por vez"
   ]
  },
  {
   "cell_type": "code",
   "execution_count": null,
   "metadata": {
    "colab": {
     "base_uri": "https://localhost:8080/"
    },
    "id": "uuOW4V5EnsEM",
    "outputId": "6df7a636-0655-48b8-cd99-c2c25e359802"
   },
   "outputs": [
    {
     "name": "stdout",
     "output_type": "stream",
     "text": [
      "['age,job,marital,education,default,balance,housing,loan\\n', '30,unemployed,married,primary,no,1787,no,no\\n', '33,services,married,secondary,no,4789,yes,yes\\n', '35,management,single,tertiary,no,1350,yes,no\\n', '30,management,married,tertiary,no,1476,yes,yes\\n', '59,blue-collar,married,secondary,no,0,yes,no\\n', '35,management,single,tertiary,no,747,no,no\\n', '36,self-employed,married,tertiary,no,147,yes,no\\n', '39,technician,married,secondary,no,147,yes,no\\n', '41,entrepreneur,married,tertiary,no,221,yes,no\\n', '43,services,married,primary,no,-88,yes,yes\\n']\n"
     ]
    }
   ],
   "source": [
    "conteudo = []\n",
    "\n",
    "with open(file='./banco.csv', mode='r', encoding='utf8') as arquivo:\n",
    "  linha=arquivo.readline() #le a primeira linha\n",
    "  while linha:\n",
    "    conteudo.append(linha)\n",
    "    linha = arquivo.readline() # le uma nova linha, se a linha não existir, salva o valor none\n",
    "    \n",
    "print(conteudo)"
   ]
  },
  {
   "cell_type": "code",
   "execution_count": null,
   "metadata": {
    "colab": {
     "base_uri": "https://localhost:8080/"
    },
    "id": "G1MdlVLuuNnD",
    "outputId": "93c4cb8e-3011-44a2-c323-059a5cb790b1"
   },
   "outputs": [
    {
     "name": "stdout",
     "output_type": "stream",
     "text": [
      "age,job,marital,education,default,balance,housing,loan\n",
      "\n",
      "30,unemployed,married,primary,no,1787,no,no\n",
      "\n",
      "33,services,married,secondary,no,4789,yes,yes\n",
      "\n",
      "35,management,single,tertiary,no,1350,yes,no\n",
      "\n",
      "30,management,married,tertiary,no,1476,yes,yes\n",
      "\n",
      "59,blue-collar,married,secondary,no,0,yes,no\n",
      "\n",
      "35,management,single,tertiary,no,747,no,no\n",
      "\n",
      "36,self-employed,married,tertiary,no,147,yes,no\n",
      "\n",
      "39,technician,married,secondary,no,147,yes,no\n",
      "\n",
      "41,entrepreneur,married,tertiary,no,221,yes,no\n",
      "\n",
      "43,services,married,primary,no,-88,yes,yes\n",
      "\n"
     ]
    }
   ],
   "source": [
    "for linha in conteudo:\n",
    "  print(linha)"
   ]
  },
  {
   "cell_type": "markdown",
   "metadata": {
    "id": "lQEzULwSqEDx"
   },
   "source": [
    "**exemplo:** extraindo os valores da primeira coluna"
   ]
  },
  {
   "cell_type": "code",
   "execution_count": null,
   "metadata": {
    "colab": {
     "base_uri": "https://localhost:8080/"
    },
    "id": "kRmnBQDPqJCO",
    "outputId": "b02094d3-c33e-42be-f666-950ace1b2b2c"
   },
   "outputs": [
    {
     "name": "stdout",
     "output_type": "stream",
     "text": [
      "[30, 33, 35, 30, 59, 35, 36, 39, 41, 43]\n"
     ]
    }
   ],
   "source": [
    "idades=[]\n",
    "\n",
    "with open(file='./banco.csv', mode='r', encoding='utf8') as arquivo:\n",
    "  linha = arquivo.readline() # le o cabecalho\n",
    "  linha = arquivo.readline() # le a primeira linha\n",
    "\n",
    "  while linha:\n",
    "    linha_separada = linha.split(sep=',') # quebra a string nas virgulas e salva os resultados em uma lista\n",
    "    idade = linha_separada[0] #seleciona o primeiro elemento da lista\n",
    "    idade = int(idade) # converte o valor de string para integer(inteiro)\n",
    "    idades.append(idade) # salva o valor na lista de idades\n",
    "    linha = arquivo.readline() # le uma nova linha, se a linha não existir, salva o valor none\n",
    "\n",
    "print(idades)"
   ]
  },
  {
   "cell_type": "markdown",
   "metadata": {
    "id": "9zZKCMesv9Jx"
   },
   "source": [
    "**Escrita**"
   ]
  },
  {
   "cell_type": "markdown",
   "metadata": {
    "id": "XDp7O3XkwCKH"
   },
   "source": [
    "Comando para ler/escrever arquivos"
   ]
  },
  {
   "cell_type": "code",
   "execution_count": null,
   "metadata": {
    "id": "eGy23CzbtTgn"
   },
   "outputs": [],
   "source": [
    "with open(file='<caminho do arquivo>', mode='<modo de leitura>', encoding='<decodificador>') as <apelido>:\n",
    "  bloco de codigo"
   ]
  },
  {
   "cell_type": "markdown",
   "metadata": {
    "id": "9ohttdOYwPQm"
   },
   "source": [
    "os modos de leitura são:\n",
    "\n",
    "\n",
    "*   r: Abrir o arquivo para leitura (padrão)\n",
    "*   w: Abrir o arquivo para escrita (sobreescreve o arquivo original)\n",
    "*   a: Abrir o arquivo para acrescentar ( não sobreescreve o arquivo original)\n"
   ]
  },
  {
   "cell_type": "markdown",
   "metadata": {
    "id": "1PeV0_rowogj"
   },
   "source": [
    "**write**"
   ]
  },
  {
   "cell_type": "markdown",
   "metadata": {
    "id": "-PskjUcVxTP1"
   },
   "source": [
    "comando para escrever em um arquivo,se o arquivo não existir, ele será criado."
   ]
  },
  {
   "cell_type": "markdown",
   "metadata": {
    "id": "GzndtaiewtH4"
   },
   "source": [
    "modo de escrita (w)"
   ]
  },
  {
   "cell_type": "code",
   "execution_count": null,
   "metadata": {
    "id": "I6cPEAdQwJV-"
   },
   "outputs": [],
   "source": [
    "with open (file='idades.csv',mode='w',encoding='utf8') as fp:\n",
    "  linha = 'idade' + '\\n'\n",
    "  fp.write(linha)\n",
    "  for idade in idades:\n",
    "    linha = str(idade) + '\\n'\n",
    "    fp.write(linha)"
   ]
  },
  {
   "cell_type": "markdown",
   "metadata": {
    "id": "iwXmNAn_yhO5"
   },
   "source": [
    "modo de acréscimo(a)"
   ]
  },
  {
   "cell_type": "code",
   "execution_count": null,
   "metadata": {
    "id": "s86NshK-ww1z"
   },
   "outputs": [],
   "source": [
    "with open (file='idades.csv',mode='a',encoding='utf8') as fp:\n",
    "  for idade in idades:\n",
    "    linha =str(idade + 100) + '\\n'\n",
    "    fp.write(linha)"
   ]
  },
  {
   "cell_type": "code",
   "execution_count": null,
   "metadata": {
    "id": "i_zGy1KfwlOM"
   },
   "outputs": [],
   "source": []
  },
  {
   "cell_type": "markdown",
   "metadata": {
    "id": "FQN4vqcAz-q1"
   },
   "source": [
    "## **Funções**"
   ]
  },
  {
   "cell_type": "markdown",
   "metadata": {
    "id": "paL0aMWs1e-r"
   },
   "source": [
    "voce trabalha na bolsa de valores e precisa simular o retorno de um investimento para diversos cenários:"
   ]
  },
  {
   "cell_type": "code",
   "execution_count": null,
   "metadata": {
    "colab": {
     "base_uri": "https://localhost:8080/"
    },
    "id": "xzNOuXnz0Akz",
    "outputId": "7c7b11ef-dcef-4d9f-fcc8-8fc9388ddcad"
   },
   "outputs": [
    {
     "name": "stdout",
     "output_type": "stream",
     "text": [
      "Para um valor inicial de R$ 1000.0 e uma taxa de juros anual de 0.05, em 10 anos voce terá 1628.89\n",
      "Para um valor inicial de R$ 1000.0 e uma taxa de juros anual de 0.03, em 10 anos voce terá 1343.92\n"
     ]
    }
   ],
   "source": [
    "valor_inicial, taxa_juros_anual, anos = 1000.00, 0.05, 10\n",
    "\n",
    "valor_final = valor_inicial\n",
    "for ano in range(1,anos+1):\n",
    "  valor_final = valor_final * (1 + taxa_juros_anual)\n",
    "valor_final = round(valor_final, 2)\n",
    "print(f'Para um valor inicial de R$ {valor_inicial} e uma taxa de juros anual de {taxa_juros_anual}, em {anos} anos voce terá {valor_final}')\n",
    "\n",
    "valor_inicial, taxa_juros_anual, anos = 1000.00, 0.03, 10\n",
    "\n",
    "valor_final = valor_inicial\n",
    "for ano in range(1,anos+1):\n",
    "  valor_final = valor_final * (1 + taxa_juros_anual)\n",
    "valor_final = round(valor_final, 2)\n",
    "print(f'Para um valor inicial de R$ {valor_inicial} e uma taxa de juros anual de {taxa_juros_anual}, em {anos} anos voce terá {valor_final}')"
   ]
  },
  {
   "cell_type": "markdown",
   "metadata": {
    "id": "xmhqzz162bzA"
   },
   "source": [
    "Como podemos fazer para reaproveitar o código e evitar repetições?"
   ]
  },
  {
   "cell_type": "markdown",
   "metadata": {
    "id": "YwZehISL2iTP"
   },
   "source": [
    "**Definição**"
   ]
  },
  {
   "cell_type": "markdown",
   "metadata": {
    "id": "gyaGRPZx2kjc"
   },
   "source": [
    "um bloco de código que só executado quando chamado"
   ]
  },
  {
   "cell_type": "code",
   "execution_count": null,
   "metadata": {
    "id": "SQZK61Yo2g9l"
   },
   "outputs": [],
   "source": [
    "def <nome> (<param 1>, <param 2>, ...):\n",
    "  bloco de código\n",
    "  return <valor de retorno>"
   ]
  },
  {
   "cell_type": "code",
   "execution_count": null,
   "metadata": {
    "id": "nInxBioj1lFP"
   },
   "outputs": [],
   "source": [
    "var = <nome da funcao >(<param 1>, <param 2>,...)"
   ]
  },
  {
   "cell_type": "code",
   "execution_count": null,
   "metadata": {
    "id": "PVkTuWkL3Nzb"
   },
   "outputs": [],
   "source": [
    "def imprime(mensagem:str):\n",
    "  print(mensagem)"
   ]
  },
  {
   "cell_type": "code",
   "execution_count": null,
   "metadata": {
    "id": "Ttg76XJO3Skz"
   },
   "outputs": [],
   "source": [
    "texto = 'fala pessoal, meu nome é luis carlos!'"
   ]
  },
  {
   "cell_type": "code",
   "execution_count": null,
   "metadata": {
    "colab": {
     "base_uri": "https://localhost:8080/"
    },
    "id": "Xcw71G4n3WWC",
    "outputId": "2ea0fb9a-45f9-4cc8-d7e7-ac7f7a1d0b5a"
   },
   "outputs": [
    {
     "name": "stdout",
     "output_type": "stream",
     "text": [
      "fala pessoal, meu nome é luis carlos!\n"
     ]
    }
   ],
   "source": [
    "imprime(mensagem=texto)"
   ]
  },
  {
   "cell_type": "markdown",
   "metadata": {
    "id": "0NE39ZC_3bd9"
   },
   "source": [
    "**Retorno**"
   ]
  },
  {
   "cell_type": "markdown",
   "metadata": {
    "id": "Yyq_L3Gj3mdV"
   },
   "source": [
    "Toda função retornapelo menos um valor, se não especificado, retorna o valor nulo"
   ]
  },
  {
   "cell_type": "code",
   "execution_count": null,
   "metadata": {
    "id": "3g3WwVja3bK0"
   },
   "outputs": [],
   "source": [
    "def maiusculo(texto) -> str:\n",
    "  text_maisculo = texto.upper()\n",
    "  return text_maisculo"
   ]
  },
  {
   "cell_type": "code",
   "execution_count": null,
   "metadata": {
    "colab": {
     "base_uri": "https://localhost:8080/"
    },
    "id": "r0Q1h54r3c_V",
    "outputId": "b6a1f933-5105-4ca4-a2eb-7d28346fd6bb"
   },
   "outputs": [
    {
     "name": "stdout",
     "output_type": "stream",
     "text": [
      "luis carlos\n",
      "LUIS CARLOS\n"
     ]
    }
   ],
   "source": [
    "nome = 'luis carlos'\n",
    "print(nome)\n",
    "\n",
    "nome_maiusculo = maiusculo(texto=nome)\n",
    "print(nome_maiusculo)"
   ]
  },
  {
   "cell_type": "code",
   "execution_count": null,
   "metadata": {
    "id": "H9YGzwDz5EWH"
   },
   "outputs": [],
   "source": [
    "def extrair_usuario_email_provedor(email) ->(str,str):\n",
    "  email_separado = email.split(sep='@')\n",
    "  usuario = email_separado[0]\n",
    "  provedor = email_separado[1]\n",
    "  return usuario, provedor"
   ]
  },
  {
   "cell_type": "code",
   "execution_count": null,
   "metadata": {
    "colab": {
     "base_uri": "https://localhost:8080/"
    },
    "id": "Qcwq2HUw5EgV",
    "outputId": "1de746cf-0e57-4ad1-fdae-a9c28b60a4ff"
   },
   "outputs": [
    {
     "name": "stdout",
     "output_type": "stream",
     "text": [
      "luis.edu.ifac\n",
      "gmail.com\n"
     ]
    }
   ],
   "source": [
    "email = 'luis.edu.ifac@gmail.com'\n",
    "usuario, provedor = extrair_usuario_email_provedor(email=email)\n",
    "print(usuario)\n",
    "print(provedor)"
   ]
  },
  {
   "cell_type": "markdown",
   "metadata": {
    "id": "lFU1CVCu5nGD"
   },
   "source": [
    "**PARÂMETROS**"
   ]
  },
  {
   "cell_type": "markdown",
   "metadata": {
    "id": "lZ2eDcVp68rA"
   },
   "source": [
    "função sem parametros:"
   ]
  },
  {
   "cell_type": "code",
   "execution_count": null,
   "metadata": {
    "id": "YrBWT3u_5uA_"
   },
   "outputs": [],
   "source": [
    "def pi() -> float:\n",
    "  return 3.14159265359"
   ]
  },
  {
   "cell_type": "code",
   "execution_count": null,
   "metadata": {
    "colab": {
     "base_uri": "https://localhost:8080/"
    },
    "id": "_btxCpk17KOH",
    "outputId": "5c9ade2f-7436-43e7-9098-a8224285026e"
   },
   "outputs": [
    {
     "name": "stdout",
     "output_type": "stream",
     "text": [
      "3.14159265359\n"
     ]
    }
   ],
   "source": [
    "pi = pi()\n",
    "print(pi)"
   ]
  },
  {
   "cell_type": "code",
   "execution_count": null,
   "metadata": {
    "id": "tWy7HtOs7OGo"
   },
   "outputs": [],
   "source": [
    "def imprime_pi() -> None:\n",
    "  print(3.14159265359)\n",
    "  return None"
   ]
  },
  {
   "cell_type": "code",
   "execution_count": null,
   "metadata": {
    "colab": {
     "base_uri": "https://localhost:8080/"
    },
    "id": "EsjcoaCs7abA",
    "outputId": "74fd65c0-1e96-4fac-cdff-a8edc6e3ea99"
   },
   "outputs": [
    {
     "name": "stdout",
     "output_type": "stream",
     "text": [
      "3.14159265359\n"
     ]
    }
   ],
   "source": [
    "imprime_pi()"
   ]
  },
  {
   "cell_type": "markdown",
   "metadata": {
    "id": "lmlqycy_7esX"
   },
   "source": [
    "Função com parametros:"
   ]
  },
  {
   "cell_type": "code",
   "execution_count": null,
   "metadata": {
    "id": "TgldBiII7hQX"
   },
   "outputs": [],
   "source": [
    "def escreve_arquivo_csv (nome: str, cabecalho: str, conteudos: list) -> bool:\n",
    "\n",
    "  try:\n",
    "    with open(file=nome, mode='w', encoding= 'utf8') as fp:\n",
    "      linha = cabecalho + '\\n'\n",
    "      fp.write(linha)\n",
    "\n",
    "      for conteudo in conteudos:\n",
    "        linha = str(conteudo) + '\\n'\n",
    "        fp.write(linha)\n",
    "  except Exception as exc:\n",
    "\n",
    "    print(exc)\n",
    "    return False\n",
    "  return True"
   ]
  },
  {
   "cell_type": "code",
   "execution_count": null,
   "metadata": {
    "colab": {
     "base_uri": "https://localhost:8080/"
    },
    "id": "BCQmSP468pT3",
    "outputId": "ed6e9670-f172-4346-e59b-b8f10776a4be"
   },
   "outputs": [
    {
     "name": "stdout",
     "output_type": "stream",
     "text": [
      "True\n"
     ]
    }
   ],
   "source": [
    "nome = 'idades-funcao.csv'\n",
    "cabecalho = 'idade'\n",
    "conteudos = [30,33,35,30,59,35,36,41,43]\n",
    "\n",
    "escreveu_com_sucesso = escreve_arquivo_csv(nome=nome, cabecalho=cabecalho, conteudos=conteudos)\n",
    "\n",
    "print(escreveu_com_sucesso)"
   ]
  },
  {
   "cell_type": "markdown",
   "metadata": {
    "id": "yb6qEHRI-DgL"
   },
   "source": [
    "Resolvendo o primeiro exercicios\n",
    "\n"
   ]
  },
  {
   "cell_type": "code",
   "execution_count": null,
   "metadata": {
    "id": "KldQjS_2-GlP"
   },
   "outputs": [],
   "source": [
    "def juros_compostos_anual(valor_inicial: float, taxa_juros_anual: float, anos: int) -> float:\n",
    "\n",
    "  valor_final = valor_inicial\n",
    "  for ano in range(1, anos+1):\n",
    "    valor_final = valor_final * (1 + taxa_juros_anual)\n",
    "  valor_final = round(valor_final, 2)\n",
    "  print(f'Para um valor inicial de R$ {valor_inicial} e uma taxa de juros anual de {taxa_juros_anual}, em {anos} anos voce terá R${valor_inicial}')\n",
    "  return valor_final"
   ]
  },
  {
   "cell_type": "code",
   "execution_count": null,
   "metadata": {
    "colab": {
     "base_uri": "https://localhost:8080/"
    },
    "id": "4sUQACPm-4Zw",
    "outputId": "a2624d46-1bfc-45c5-f14e-86c2e70db4bf"
   },
   "outputs": [
    {
     "name": "stdout",
     "output_type": "stream",
     "text": [
      "Para um valor inicial de R$ 1000.0 e uma taxa de juros anual de 0.05, em 10 anos voce terá R$1000.0\n",
      "Para um valor inicial de R$ 1000.0 e uma taxa de juros anual de 0.03, em 10 anos voce terá R$1000.0\n"
     ]
    }
   ],
   "source": [
    "valor_inicial, taxa_juros_anual, anos = 1000.00, 0.05, 10\n",
    "valor_final = juros_compostos_anual(valor_inicial=valor_inicial, taxa_juros_anual=taxa_juros_anual, anos=anos)\n",
    "\n",
    "valor_inicial, taxa_juros_anual, anos = 1000.00, 0.03, 10\n",
    "valor_final = juros_compostos_anual(valor_inicial=valor_inicial, taxa_juros_anual=taxa_juros_anual, anos=anos)"
   ]
  },
  {
   "cell_type": "markdown",
   "metadata": {
    "id": "gUaQJpHpSqPu"
   },
   "source": [
    "# **Escopo**"
   ]
  },
  {
   "cell_type": "markdown",
   "metadata": {
    "id": "Nsf5TaLKSuQU"
   },
   "source": [
    "**Definição - define o ciclo de vida de uma variável**"
   ]
  },
  {
   "cell_type": "markdown",
   "metadata": {
    "id": "dqVB6VB_S0Jy"
   },
   "source": [
    "Escopo da função"
   ]
  },
  {
   "cell_type": "code",
   "execution_count": 1,
   "metadata": {
    "id": "EzwbbWBXS2gj"
   },
   "outputs": [],
   "source": [
    "def soma_lista(numeros: list) -> int:\n",
    "  s = 0\n",
    "  for numero in numeros:\n",
    "    s = s + numero\n",
    "    return s"
   ]
  },
  {
   "cell_type": "code",
   "execution_count": 2,
   "metadata": {
    "colab": {
     "base_uri": "https://localhost:8080/"
    },
    "id": "Hvqjw4AnTCfS",
    "outputId": "129bcd64-8bdc-4bd8-ce6f-4abff917c66f"
   },
   "outputs": [
    {
     "name": "stdout",
     "output_type": "stream",
     "text": [
      "1\n"
     ]
    }
   ],
   "source": [
    "soma  = soma_lista(numeros=[1] * 10)\n",
    "print(soma)"
   ]
  },
  {
   "cell_type": "code",
   "execution_count": 3,
   "metadata": {
    "colab": {
     "base_uri": "https://localhost:8080/",
     "height": 165
    },
    "id": "UvQPtNCXTLVL",
    "outputId": "de1ce016-27f9-4c99-c12f-6357bdf371d7"
   },
   "outputs": [
    {
     "ename": "NameError",
     "evalue": "ignored",
     "output_type": "error",
     "traceback": [
      "\u001b[0;31m---------------------------------------------------------------------------\u001b[0m",
      "\u001b[0;31mNameError\u001b[0m                                 Traceback (most recent call last)",
      "\u001b[0;32m<ipython-input-3-0ff1b7208845>\u001b[0m in \u001b[0;36m<cell line: 1>\u001b[0;34m()\u001b[0m\n\u001b[0;32m----> 1\u001b[0;31m \u001b[0mprint\u001b[0m\u001b[0;34m(\u001b[0m\u001b[0ms\u001b[0m\u001b[0;34m)\u001b[0m\u001b[0;34m\u001b[0m\u001b[0;34m\u001b[0m\u001b[0m\n\u001b[0m",
      "\u001b[0;31mNameError\u001b[0m: name 's' is not defined"
     ]
    }
   ],
   "source": [
    "print(s)"
   ]
  },
  {
   "cell_type": "markdown",
   "metadata": {
    "id": "hq79KopXTQMT"
   },
   "source": [
    "escopo de estrutura condicional - repetição"
   ]
  },
  {
   "cell_type": "code",
   "execution_count": 4,
   "metadata": {
    "colab": {
     "base_uri": "https://localhost:8080/"
    },
    "id": "VxTmTnzdTUej",
    "outputId": "fda97ebb-20db-4e38-95b4-fbfe7b24bed9"
   },
   "outputs": [
    {
     "name": "stdout",
     "output_type": "stream",
     "text": [
      "50\n"
     ]
    }
   ],
   "source": [
    "if False:\n",
    "  x = 100\n",
    "else:\n",
    "  w=50\n",
    "\n",
    "print(w)"
   ]
  },
  {
   "cell_type": "code",
   "execution_count": null,
   "metadata": {
    "id": "y5seewWmTb9i"
   },
   "outputs": [],
   "source": []
  }
 ],
 "metadata": {
  "colab": {
   "provenance": []
  },
  "kernelspec": {
   "display_name": "Python 3 (ipykernel)",
   "language": "python",
   "name": "python3"
  },
  "language_info": {
   "codemirror_mode": {
    "name": "ipython",
    "version": 3
   },
   "file_extension": ".py",
   "mimetype": "text/x-python",
   "name": "python",
   "nbconvert_exporter": "python",
   "pygments_lexer": "ipython3",
   "version": "3.9.13"
  }
 },
 "nbformat": 4,
 "nbformat_minor": 1
}
