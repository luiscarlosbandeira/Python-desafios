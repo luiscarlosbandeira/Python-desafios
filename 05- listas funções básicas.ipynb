{
 "cells": [
  {
   "cell_type": "code",
   "execution_count": 2,
   "id": "94bf9515",
   "metadata": {},
   "outputs": [
    {
     "name": "stdout",
     "output_type": "stream",
     "text": [
      "O menor valor é 10 e o maior valor é 800\n"
     ]
    }
   ],
   "source": [
    "# MAIOR E MENOR VALOR\n",
    "\n",
    "produtos = ['arroz', 'feijao', 'milho', 'leite', 'carne']\n",
    "estoque = [10, 15, 20, 35, 800]\n",
    "\n",
    "maior = max(estoque)\n",
    "menor = min(estoque)\n",
    "\n",
    "print('O menor valor é {} e o maior valor é {}'.format(menor, maior))"
   ]
  },
  {
   "cell_type": "code",
   "execution_count": 3,
   "id": "e0e31018",
   "metadata": {},
   "outputs": [
    {
     "name": "stdout",
     "output_type": "stream",
     "text": [
      "O produto com mais estoque é carne e o produto com menos estoque é arroz\n"
     ]
    }
   ],
   "source": [
    "i_mais_estoque = estoque.index(maior)\n",
    "i_menos_estoque = estoque.index(menor)\n",
    "\n",
    "produto_mais_estoque = produtos[i_mais_estoque]\n",
    "produto_menos_estoque = produtos[i_menos_estoque]\n",
    "\n",
    "print('O produto com mais estoque é {} e o produto com menos estoque é {}'.format(produto_mais_estoque, produto_menos_estoque))"
   ]
  },
  {
   "cell_type": "code",
   "execution_count": 4,
   "id": "d067fe02",
   "metadata": {},
   "outputs": [
    {
     "name": "stdout",
     "output_type": "stream",
     "text": [
      "Max: 300\n",
      "Min: 100\n"
     ]
    }
   ],
   "source": [
    "teste = [200, 100, 100, 200, 300, 300]\n",
    "teste_max = max(teste)\n",
    "teste_min = min(teste)\n",
    "\n",
    "print('Max: {}'.format(teste_max))\n",
    "print('Min: {}'.format(teste_min))"
   ]
  },
  {
   "cell_type": "code",
   "execution_count": null,
   "id": "ee8b4dda",
   "metadata": {},
   "outputs": [],
   "source": []
  },
  {
   "cell_type": "code",
   "execution_count": null,
   "id": "2bdd43de",
   "metadata": {},
   "outputs": [],
   "source": [
    "# Juntar listas, ordenar listas\n",
    "# 2 maneiras:\n",
    "# lista1.extend(lista2)\n",
    "# lista_nova = lista1 + lista2"
   ]
  },
  {
   "cell_type": "code",
   "execution_count": 5,
   "id": "866adda2",
   "metadata": {},
   "outputs": [],
   "source": [
    "produtos = ['celular', 'tv', 'relogio']\n",
    "novos_produtos = ['mesa', 'cadeira'] "
   ]
  },
  {
   "cell_type": "code",
   "execution_count": 6,
   "id": "0ce2f680",
   "metadata": {},
   "outputs": [
    {
     "name": "stdout",
     "output_type": "stream",
     "text": [
      "['celular', 'tv', 'relogio', 'mesa', 'cadeira']\n"
     ]
    }
   ],
   "source": [
    "# Adicionando os novos produtos na lista de produtos\n",
    "\n",
    "produtos.extend(novos_produtos)\n",
    "print(produtos)"
   ]
  },
  {
   "cell_type": "code",
   "execution_count": 7,
   "id": "a874ccac",
   "metadata": {},
   "outputs": [
    {
     "name": "stdout",
     "output_type": "stream",
     "text": [
      "['celular', 'tv', 'relogio', 'mesa', 'cadeira', 'mesa', 'cadeira']\n"
     ]
    }
   ],
   "source": [
    "# Criando uma nova variável para receber todos os produtos\n",
    "\n",
    "todos_produtos = produtos + novos_produtos\n",
    "print(todos_produtos)"
   ]
  },
  {
   "cell_type": "code",
   "execution_count": null,
   "id": "8499d3b5",
   "metadata": {},
   "outputs": [],
   "source": []
  },
  {
   "cell_type": "code",
   "execution_count": 8,
   "id": "473394b8",
   "metadata": {},
   "outputs": [
    {
     "name": "stdout",
     "output_type": "stream",
     "text": [
      "[10, 32, 35, 11248, 12124, 12225, 22323, 3577878]\n"
     ]
    }
   ],
   "source": [
    "# Ordenando listas\n",
    "# lista.sort()\n",
    "\n",
    "# Com esse método torna-se possível ordenar utilizando string ou número, porém é utilizado a tabela ASCII como referência, priorizando letras maiúsculas.\n",
    "\n",
    "\n",
    "matriculas = [12225, 22323, 11248, 3577878, 12124, 32, 35, 10]\n",
    "matriculas.sort()\n",
    "print(matriculas)"
   ]
  },
  {
   "cell_type": "code",
   "execution_count": null,
   "id": "495f757f",
   "metadata": {},
   "outputs": [],
   "source": []
  },
  {
   "cell_type": "code",
   "execution_count": 9,
   "id": "749d1eb3",
   "metadata": {},
   "outputs": [
    {
     "name": "stdout",
     "output_type": "stream",
     "text": [
      "['cadeira', 'cadeira', 'celular', 'mesa', 'mesa', 'relogio', 'tv']\n"
     ]
    }
   ],
   "source": [
    "produtos = ['celular', 'tv', 'relogio', 'mesa', 'cadeira', 'mesa', 'cadeira']\n",
    "produtos.sort()\n",
    "print(produtos)"
   ]
  },
  {
   "cell_type": "code",
   "execution_count": 10,
   "id": "7ba534e5",
   "metadata": {},
   "outputs": [
    {
     "name": "stdout",
     "output_type": "stream",
     "text": [
      "['Lapis', 'Mesa', 'Notebook', 'cadeira', 'geladeira']\n"
     ]
    }
   ],
   "source": [
    "# Ordenando casos que possuem letra maiúscula\n",
    "\n",
    "produtos_gerais = ['Mesa', 'cadeira', 'Lapis', 'Notebook', 'geladeira']\n",
    "produtos_gerais.sort()\n",
    "print(produtos_gerais)"
   ]
  },
  {
   "cell_type": "code",
   "execution_count": null,
   "id": "ddb52989",
   "metadata": {},
   "outputs": [],
   "source": []
  },
  {
   "cell_type": "code",
   "execution_count": 11,
   "id": "fd65975e",
   "metadata": {},
   "outputs": [
    {
     "name": "stdout",
     "output_type": "stream",
     "text": [
      "['1', '15', '25', 'cadeira', 'caderno', 'lapis']\n"
     ]
    }
   ],
   "source": [
    "# Ordenando casos que possuem letras e números\n",
    "\n",
    "lista_mesclada = ['lapis', 'cadeira', 'caderno', '15', '25', '1']\n",
    "lista_mesclada.sort()\n",
    "print(lista_mesclada)"
   ]
  },
  {
   "cell_type": "code",
   "execution_count": 12,
   "id": "a8d4c2ab",
   "metadata": {},
   "outputs": [
    {
     "name": "stdout",
     "output_type": "stream",
     "text": [
      "[3577878, 22323, 12225, 12124, 11248, 35, 32, 10]\n"
     ]
    }
   ],
   "source": [
    "# Ordenando de maneira descendente\n",
    "\n",
    "matriculas = [12225, 22323, 11248, 3577878, 12124, 32, 35, 10]\n",
    "matriculas.sort(reverse=True)\n",
    "print(matriculas)"
   ]
  },
  {
   "cell_type": "code",
   "execution_count": null,
   "id": "ce87ea76",
   "metadata": {},
   "outputs": [],
   "source": []
  },
  {
   "cell_type": "code",
   "execution_count": null,
   "id": "aea71a47",
   "metadata": {},
   "outputs": [],
   "source": []
  },
  {
   "cell_type": "code",
   "execution_count": null,
   "id": "89f3e096",
   "metadata": {},
   "outputs": [],
   "source": []
  }
 ],
 "metadata": {
  "kernelspec": {
   "display_name": "Python 3 (ipykernel)",
   "language": "python",
   "name": "python3"
  },
  "language_info": {
   "codemirror_mode": {
    "name": "ipython",
    "version": 3
   },
   "file_extension": ".py",
   "mimetype": "text/x-python",
   "name": "python",
   "nbconvert_exporter": "python",
   "pygments_lexer": "ipython3",
   "version": "3.9.13"
  }
 },
 "nbformat": 4,
 "nbformat_minor": 5
}
