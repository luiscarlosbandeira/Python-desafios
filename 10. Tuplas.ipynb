{
 "cells": [
  {
   "cell_type": "markdown",
   "id": "2ccbfd10",
   "metadata": {},
   "source": [
    "# Tuplas"
   ]
  },
  {
   "cell_type": "markdown",
   "id": "5f3cfae2",
   "metadata": {},
   "source": [
    "Estrutura"
   ]
  },
  {
   "cell_type": "markdown",
   "id": "953d4370",
   "metadata": {},
   "source": [
    "tupla = (valor1, valor2 ... valor10)\n",
    "é representada entre parentenses"
   ]
  },
  {
   "cell_type": "markdown",
   "id": "951cb914",
   "metadata": {},
   "source": [
    "Diferenças -> Os valores da tupla não podem ser alterados"
   ]
  },
  {
   "cell_type": "markdown",
   "id": "1750ca1d",
   "metadata": {},
   "source": [
    "Vantagens  -> Mais eficiente em termos de performance, protege a base de dados por ser imutável, utilizada em dados heterogêneos"
   ]
  },
  {
   "cell_type": "code",
   "execution_count": 3,
   "id": "175370af",
   "metadata": {},
   "outputs": [],
   "source": [
    "# criando a tupla\n",
    "\n",
    "vendas = ('Afonso', '01/01/2021', 'Geladeira', 5000)"
   ]
  },
  {
   "cell_type": "code",
   "execution_count": 4,
   "id": "2137ffaa",
   "metadata": {},
   "outputs": [],
   "source": [
    "# Acessando os valores\n",
    "\n",
    "nome = vendas[0]\n",
    "data = vendas[1]\n",
    "produto = vendas[2]\n",
    "valor = vendas[3]"
   ]
  },
  {
   "cell_type": "code",
   "execution_count": 5,
   "id": "8d1baccb",
   "metadata": {},
   "outputs": [
    {
     "name": "stdout",
     "output_type": "stream",
     "text": [
      "Nome: Afonso\n",
      "Data: 01/01/2021\n",
      "Produto: Geladeira\n",
      "Valor: 5000\n"
     ]
    }
   ],
   "source": [
    "print('Nome: {}'.format(nome))\n",
    "print('Data: {}'.format(data))\n",
    "print('Produto: {}'.format(produto))\n",
    "print('Valor: {}'.format(valor))"
   ]
  },
  {
   "cell_type": "code",
   "execution_count": 6,
   "id": "385228f0",
   "metadata": {},
   "outputs": [],
   "source": [
    "#Outra forma de acessar os elementos da tupla\n",
    "nome, data, produto, valor = vendas"
   ]
  },
  {
   "cell_type": "code",
   "execution_count": 7,
   "id": "2b67623a",
   "metadata": {},
   "outputs": [
    {
     "name": "stdout",
     "output_type": "stream",
     "text": [
      "Joao vendeu 1000 unidades\n",
      "Maria vendeu 2000 unidades\n",
      "Pedro vendeu 300 unidades\n",
      "Cris vendeu 150 unidades\n",
      "Gomes vendeu 200 unidades\n"
     ]
    }
   ],
   "source": [
    "# o enumerate pode ser utilizado criando uma tupla\n",
    "\n",
    "vendas = [1000, 2000, 300, 150, 200]\n",
    "funcionarios = ['Joao', 'Maria', 'Pedro', 'Cris', 'Gomes']\n",
    "\n",
    "for i, venda in enumerate(vendas):\n",
    "    print('{} vendeu {} unidades'.format(funcionarios[i], venda))"
   ]
  },
  {
   "cell_type": "code",
   "execution_count": 8,
   "id": "3ef645b9",
   "metadata": {},
   "outputs": [
    {
     "name": "stdout",
     "output_type": "stream",
     "text": [
      "(0, 1000)\n",
      "(1, 2000)\n",
      "(2, 300)\n",
      "(3, 150)\n",
      "(4, 200)\n"
     ]
    }
   ],
   "source": [
    "#Observando a tupla\n",
    "for item in enumerate(vendas):\n",
    "    print(item)"
   ]
  },
  {
   "cell_type": "markdown",
   "id": "f2c73b34",
   "metadata": {},
   "source": [
    "# Aplicação de Tupla - Lista de Tuplas"
   ]
  },
  {
   "cell_type": "markdown",
   "id": "e723bf70",
   "metadata": {},
   "source": [
    "Digamos que você está analisando as vendas do Banco de Dados de um e-commerce.\n",
    "\n",
    "Em um determinado dia, você extraiu as vendas do Banco de Dados e elas vieram nesse formato:"
   ]
  },
  {
   "cell_type": "code",
   "execution_count": 9,
   "id": "fef1748f",
   "metadata": {},
   "outputs": [],
   "source": [
    "vendas = [\n",
    "    ('20/08/2020', 'iphone x', 'azul', '128gb', 350, 4000),\n",
    "    ('20/08/2020', 'iphone x', 'prata', '128gb', 1500, 4000),\n",
    "    ('20/08/2020', 'ipad', 'prata', '256gb', 127, 6000),\n",
    "    ('20/08/2020', 'ipad', 'prata', '128gb', 981, 5000),\n",
    "    ('21/08/2020', 'iphone x', 'azul', '128gb', 397, 4000),\n",
    "    ('21/08/2020', 'iphone x', 'prata', '128gb', 1017, 4000),\n",
    "    ('21/08/2020', 'ipad', 'prata', '256gb', 50, 6000),\n",
    "    ('21/08/2020', 'ipad', 'prata', '128gb', 4000, 5000),\n",
    "]"
   ]
  },
  {
   "cell_type": "markdown",
   "id": "94467f38",
   "metadata": {},
   "source": [
    "Qual foi o faturamento de IPhone no dia 20/08/2020?"
   ]
  },
  {
   "cell_type": "markdown",
   "id": "f214bb75",
   "metadata": {},
   "source": [
    "Qual foi o produto mais vendido (em unidades) no dia 21/08/2020?"
   ]
  },
  {
   "cell_type": "code",
   "execution_count": 10,
   "id": "4bfcd534",
   "metadata": {},
   "outputs": [
    {
     "name": "stdout",
     "output_type": "stream",
     "text": [
      "O faturamento é de 7400000 para o dia 20/08/2020\n"
     ]
    }
   ],
   "source": [
    "faturamento = 0\n",
    "\n",
    "for item in vendas:\n",
    "    data, produto, cor, capacidade, unidades, valor_unitario = item\n",
    "    if produto == 'iphone x' and data == '20/08/2020':\n",
    "        faturamento += unidades * valor_unitario\n",
    "\n",
    "print('O faturamento é de {} para o dia 20/08/2020'.format(faturamento))"
   ]
  },
  {
   "cell_type": "code",
   "execution_count": 13,
   "id": "6c136b58",
   "metadata": {},
   "outputs": [
    {
     "name": "stdout",
     "output_type": "stream",
     "text": [
      "O produto mais vendido foi o ipad com capacidade de 128gb e cor prata com 128gb unidades\n"
     ]
    }
   ],
   "source": [
    "produto_mais_vendido = ''\n",
    "quantidade_produto_mais_vendido = 0\n",
    "cor_produto_mais_vendido = ''\n",
    "capacidade_produto_mais_vendido = ''\n",
    "\n",
    "for data, produto, cor, capacidade, unidades, valor_unitario in vendas:\n",
    "    if data == '21/08/2020':\n",
    "        if unidades > quantidade_produto_mais_vendido:\n",
    "            produto_mais_vendido = produto\n",
    "            quantidade_produto_mais_vendido = unidades\n",
    "            cor_produto_mais_vendido = cor\n",
    "            capacidade_produto_mais_vendido = capacidade\n",
    "\n",
    "print('O produto mais vendido foi o {} com capacidade de {} e cor {} com {} unidades'.format(produto_mais_vendido, capacidade_produto_mais_vendido, cor_produto_mais_vendido,capacidade_produto_mais_vendido))\n",
    "                                                                                             \n",
    "                                                                                             "
   ]
  },
  {
   "cell_type": "markdown",
   "id": "d0195233",
   "metadata": {},
   "source": [
    "# Exercícios"
   ]
  },
  {
   "cell_type": "markdown",
   "id": "9e139995",
   "metadata": {},
   "source": [
    "Análise de Vendas\n",
    "Nesse exercício vamos fazer uma \"análise simples\" de atingimento de Meta.\n",
    "\n",
    "Temos uma lista com os vendedores e os valores de vendas e queremos identificar (printar) quais os vendedores que bateram a meta e qual foi o valor que eles venderam."
   ]
  },
  {
   "cell_type": "code",
   "execution_count": 14,
   "id": "cbecf940",
   "metadata": {},
   "outputs": [],
   "source": [
    "meta = 10000\n",
    "vendas = [\n",
    "    ('João', 15000),\n",
    "    ('Julia', 27000),\n",
    "    ('Marcus', 9900),\n",
    "    ('Maria', 3750),\n",
    "    ('Ana', 10300),\n",
    "    ('Alon', 7870),\n",
    "]"
   ]
  },
  {
   "cell_type": "code",
   "execution_count": 15,
   "id": "977abd3f",
   "metadata": {},
   "outputs": [
    {
     "name": "stdout",
     "output_type": "stream",
     "text": [
      "O vendedor João bateu a meta pois vendeu 15000 unidades\n",
      "O vendedor Julia bateu a meta pois vendeu 27000 unidades\n",
      "O vendedor Ana bateu a meta pois vendeu 10300 unidades\n"
     ]
    }
   ],
   "source": [
    "for vendedor, valor in vendas:\n",
    "    if valor >= meta:\n",
    "        print('O vendedor {} bateu a meta pois vendeu {} unidades'.format(vendedor, valor))"
   ]
  },
  {
   "cell_type": "markdown",
   "id": "09629a7c",
   "metadata": {},
   "source": []
  },
  {
   "cell_type": "code",
   "execution_count": null,
   "id": "6b01327a",
   "metadata": {},
   "outputs": [],
   "source": []
  }
 ],
 "metadata": {
  "kernelspec": {
   "display_name": "Python 3 (ipykernel)",
   "language": "python",
   "name": "python3"
  },
  "language_info": {
   "codemirror_mode": {
    "name": "ipython",
    "version": 3
   },
   "file_extension": ".py",
   "mimetype": "text/x-python",
   "name": "python",
   "nbconvert_exporter": "python",
   "pygments_lexer": "ipython3",
   "version": "3.9.13"
  }
 },
 "nbformat": 4,
 "nbformat_minor": 5
}
