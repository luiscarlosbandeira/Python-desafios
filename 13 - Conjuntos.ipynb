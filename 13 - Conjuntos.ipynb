{
  "nbformat": 4,
  "nbformat_minor": 0,
  "metadata": {
    "colab": {
      "provenance": []
    },
    "kernelspec": {
      "name": "python3",
      "display_name": "Python 3"
    },
    "language_info": {
      "name": "python"
    }
  },
  "cells": [
    {
      "cell_type": "markdown",
      "source": [
        "**Conjuntos**"
      ],
      "metadata": {
        "id": "X0TqJpSn5Ye_"
      }
    },
    {
      "cell_type": "markdown",
      "source": [
        "armazenam sequências imutáveis e desordenadas valores, sem repetição. São do tipo *set*:"
      ],
      "metadata": {
        "id": "oIBYBM9y5cWE"
      }
    },
    {
      "cell_type": "code",
      "execution_count": 1,
      "metadata": {
        "colab": {
          "base_uri": "https://localhost:8080/"
        },
        "id": "8YcO6yIw4Vud",
        "outputId": "a0462d11-2c40-4e26-9d81-b6d99546d0e6"
      },
      "outputs": [
        {
          "output_type": "stream",
          "name": "stdout",
          "text": [
            "{'maca', 'uva', 'banana'}\n",
            "<class 'set'>\n"
          ]
        }
      ],
      "source": [
        "frutas = {'banana','maca','uva','uva'}\n",
        "print(frutas)\n",
        "print(type(frutas))"
      ]
    },
    {
      "cell_type": "markdown",
      "source": [
        "**Operações**"
      ],
      "metadata": {
        "id": "zdFsWJOa5qik"
      }
    },
    {
      "cell_type": "markdown",
      "source": [
        "As operações da estrutura do tipo set são:\n",
        "\n",
        "\n",
        "*   - (Diferença)\n",
        "\n"
      ],
      "metadata": {
        "id": "r_TePH9J5v8b"
      }
    },
    {
      "cell_type": "code",
      "source": [
        "norte_europa = {'reino unido','suecia','russia','noruega','dinamarca'}\n",
        "escandinavia = {'noruega','dinarmaca','suecia'}"
      ],
      "metadata": {
        "id": "S3R5YFxk54Eb"
      },
      "execution_count": 2,
      "outputs": []
    },
    {
      "cell_type": "code",
      "source": [
        "norte_europa_nao_escandivano = norte_europa - escandinavia\n",
        "print(norte_europa_nao_escandivano)"
      ],
      "metadata": {
        "colab": {
          "base_uri": "https://localhost:8080/"
        },
        "id": "iFDbXiyn5sZk",
        "outputId": "b48baf83-6fab-4b67-c8b5-7ae38a5587e8"
      },
      "execution_count": 3,
      "outputs": [
        {
          "output_type": "stream",
          "name": "stdout",
          "text": [
            "{'russia', 'reino unido', 'dinamarca'}\n"
          ]
        }
      ]
    },
    {
      "cell_type": "code",
      "source": [
        "escandivano_nao_norte_europa = escandinavia - norte_europa\n",
        "print(escandivano_nao_norte_europa)"
      ],
      "metadata": {
        "colab": {
          "base_uri": "https://localhost:8080/"
        },
        "id": "aeW8CYEk6PGK",
        "outputId": "38a8ac09-4813-4d9a-d758-35a800d4e6e6"
      },
      "execution_count": 4,
      "outputs": [
        {
          "output_type": "stream",
          "name": "stdout",
          "text": [
            "{'dinarmaca'}\n"
          ]
        }
      ]
    },
    {
      "cell_type": "markdown",
      "source": [
        "**Métodos**"
      ],
      "metadata": {
        "id": "zJve4sk26hKU"
      }
    },
    {
      "cell_type": "markdown",
      "source": [
        "são métodos nativos do python que nos ajudam a trabalhar no dia a dia com conjuntos.\n"
      ],
      "metadata": {
        "id": "VqwAT6la6k6B"
      }
    },
    {
      "cell_type": "code",
      "source": [
        "cursos = {'Exatas','Humanas','Biológicas'}\n",
        "print(cursos)"
      ],
      "metadata": {
        "colab": {
          "base_uri": "https://localhost:8080/"
        },
        "id": "crtmyOiy7_MI",
        "outputId": "ffeafa56-0154-4940-b1f8-c43f7ba33f96"
      },
      "execution_count": 5,
      "outputs": [
        {
          "output_type": "stream",
          "name": "stdout",
          "text": [
            "{'Exatas', 'Biológicas', 'Humanas'}\n"
          ]
        }
      ]
    },
    {
      "cell_type": "code",
      "source": [
        "# INSERIR UM ELEMENTO NO CONJUNTO: set.add(val)\n",
        "cursos.add('Saúde')\n",
        "print(cursos)"
      ],
      "metadata": {
        "colab": {
          "base_uri": "https://localhost:8080/"
        },
        "id": "MY5z4ujZ6jqC",
        "outputId": "b8b625f9-fe98-4977-9fce-309cfa3227ee"
      },
      "execution_count": 6,
      "outputs": [
        {
          "output_type": "stream",
          "name": "stdout",
          "text": [
            "{'Saúde', 'Exatas', 'Biológicas', 'Humanas'}\n"
          ]
        }
      ]
    },
    {
      "cell_type": "code",
      "source": [
        "# remover um elemento no conjunto: set.remove(val)\n",
        "cursos.remove('Saúde')\n",
        "print(cursos)"
      ],
      "metadata": {
        "colab": {
          "base_uri": "https://localhost:8080/"
        },
        "id": "ETOw1Uww8PVV",
        "outputId": "31ea48b7-fc4e-4235-f522-38111bf8f733"
      },
      "execution_count": 7,
      "outputs": [
        {
          "output_type": "stream",
          "name": "stdout",
          "text": [
            "{'Exatas', 'Biológicas', 'Humanas'}\n"
          ]
        }
      ]
    },
    {
      "cell_type": "markdown",
      "source": [
        "**Conversão**"
      ],
      "metadata": {
        "id": "_UzwUjOE8aBS"
      }
    },
    {
      "cell_type": "markdown",
      "source": [
        "Podemos converter conjuntos para lista e vice e versa."
      ],
      "metadata": {
        "id": "8Vr1rUP48b8F"
      }
    },
    {
      "cell_type": "code",
      "source": [
        "times_paulistas = {'São Paulo','Palmeiras','Corinthians','Santos'}\n",
        "\n",
        "print(times_paulistas)\n",
        "print(type(times_paulistas))"
      ],
      "metadata": {
        "colab": {
          "base_uri": "https://localhost:8080/"
        },
        "id": "GO5bXhdi8hk1",
        "outputId": "ebb9a16d-f3bd-4b34-ee3b-d0dd2e1f814d"
      },
      "execution_count": 11,
      "outputs": [
        {
          "output_type": "stream",
          "name": "stdout",
          "text": [
            "{'Santos', 'Corinthians', 'São Paulo', 'Palmeiras'}\n",
            "<class 'set'>\n"
          ]
        }
      ]
    },
    {
      "cell_type": "code",
      "source": [
        "print(type(list(times_paulistas)))\n",
        "print(times_paulistas)"
      ],
      "metadata": {
        "colab": {
          "base_uri": "https://localhost:8080/"
        },
        "id": "VR-PN9bm9pSB",
        "outputId": "a60a3825-c9e2-4503-86ab-1ca1af479c5e"
      },
      "execution_count": 12,
      "outputs": [
        {
          "output_type": "stream",
          "name": "stdout",
          "text": [
            "<class 'list'>\n",
            "{'Santos', 'Corinthians', 'São Paulo', 'Palmeiras'}\n"
          ]
        }
      ]
    },
    {
      "cell_type": "code",
      "source": [],
      "metadata": {
        "id": "G9lM_w0f89Dw"
      },
      "execution_count": null,
      "outputs": []
    }
  ]
}