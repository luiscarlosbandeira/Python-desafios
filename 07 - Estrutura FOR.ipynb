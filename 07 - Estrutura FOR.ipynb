{
 "cells": [
  {
   "cell_type": "code",
   "execution_count": 1,
   "id": "b56c56ab",
   "metadata": {},
   "outputs": [
    {
     "name": "stdout",
     "output_type": "stream",
     "text": [
      "0\n",
      "1\n",
      "2\n",
      "3\n",
      "4\n"
     ]
    }
   ],
   "source": [
    "for i in range(5):\n",
    "    print(i)"
   ]
  },
  {
   "cell_type": "code",
   "execution_count": 2,
   "id": "089d98de",
   "metadata": {},
   "outputs": [],
   "source": [
    "produtos = ['coca', 'pepsi', 'guarana', 'sprite', 'fanta']\n",
    "producao = [1500, 2000, 200, 3500, 1000]"
   ]
  },
  {
   "cell_type": "code",
   "execution_count": 3,
   "id": "ffcbd063",
   "metadata": {},
   "outputs": [
    {
     "name": "stdout",
     "output_type": "stream",
     "text": [
      "O produto coca teve 1500 unidades produzidas\n",
      "O produto pepsi teve 2000 unidades produzidas\n",
      "O produto guarana teve 200 unidades produzidas\n",
      "O produto sprite teve 3500 unidades produzidas\n",
      "O produto fanta teve 1000 unidades produzidas\n"
     ]
    }
   ],
   "source": [
    "for i in range(5):\n",
    "    print('O produto {} teve {} unidades produzidas'.format(produtos[i], producao[i]))"
   ]
  },
  {
   "cell_type": "code",
   "execution_count": null,
   "id": "4516f08e",
   "metadata": {},
   "outputs": [],
   "source": []
  },
  {
   "cell_type": "code",
   "execution_count": null,
   "id": "1bd7746f",
   "metadata": {},
   "outputs": [],
   "source": [
    "# Utilização do for em uma lista"
   ]
  },
  {
   "cell_type": "code",
   "execution_count": 4,
   "id": "9320c33d",
   "metadata": {},
   "outputs": [],
   "source": [
    "produtos = ['coca', 'pepsi', 'guarana', 'sprite', 'fanta' ]\n",
    "texto = 'afonso@live.com'"
   ]
  },
  {
   "cell_type": "code",
   "execution_count": 5,
   "id": "59ddc906",
   "metadata": {},
   "outputs": [
    {
     "name": "stdout",
     "output_type": "stream",
     "text": [
      "O produto é: coca \n",
      "O produto é: pepsi \n",
      "O produto é: guarana \n",
      "O produto é: sprite \n",
      "O produto é: fanta \n"
     ]
    }
   ],
   "source": [
    "for produto in produtos:\n",
    "    print('O produto é: {} '.format(produto))"
   ]
  },
  {
   "cell_type": "code",
   "execution_count": 6,
   "id": "b635f386",
   "metadata": {},
   "outputs": [
    {
     "name": "stdout",
     "output_type": "stream",
     "text": [
      "a\n",
      "f\n",
      "o\n",
      "n\n",
      "s\n",
      "o\n",
      "@\n",
      "l\n",
      "i\n",
      "v\n",
      "e\n",
      ".\n",
      "c\n",
      "o\n",
      "m\n"
     ]
    }
   ],
   "source": [
    "for caractere in texto:\n",
    "    print(caractere)"
   ]
  },
  {
   "cell_type": "code",
   "execution_count": 7,
   "id": "98f9e08f",
   "metadata": {},
   "outputs": [
    {
     "name": "stdout",
     "output_type": "stream",
     "text": [
      "O percentual de pessoas que bateram a meta foi de 62.50%\n"
     ]
    }
   ],
   "source": [
    "# For + If\n",
    "\n",
    "vendas = [1222, 100, 500, 999, 1001, 2000, 30000, 450000, 10, 15, 28, 1280, 34550, 3654, 12000, 10001]\n",
    "meta = 1000\n",
    "\n",
    "qtd_pessoas_meta_batida = 0\n",
    "qtd_total_pessoas = len(vendas)\n",
    "\n",
    "for venda in vendas:\n",
    "    if venda >= meta:\n",
    "        qtd_pessoas_meta_batida += 1\n",
    "\n",
    "print('O percentual de pessoas que bateram a meta foi de {:.2%}'.format(qtd_pessoas_meta_batida / qtd_total_pessoas))"
   ]
  },
  {
   "cell_type": "code",
   "execution_count": null,
   "id": "a9021e99",
   "metadata": {},
   "outputs": [],
   "source": []
  }
 ],
 "metadata": {
  "kernelspec": {
   "display_name": "Python 3 (ipykernel)",
   "language": "python",
   "name": "python3"
  },
  "language_info": {
   "codemirror_mode": {
    "name": "ipython",
    "version": 3
   },
   "file_extension": ".py",
   "mimetype": "text/x-python",
   "name": "python",
   "nbconvert_exporter": "python",
   "pygments_lexer": "ipython3",
   "version": "3.9.13"
  }
 },
 "nbformat": 4,
 "nbformat_minor": 5
}
