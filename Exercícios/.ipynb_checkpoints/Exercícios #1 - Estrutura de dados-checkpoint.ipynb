{
 "cells": [
  {
   "cell_type": "markdown",
   "metadata": {},
   "source": [
    "<img src=\"https://asimov.academy/wp-content/uploads/2021/01/logo.png\" width=\"200\"/>\n",
    "_____________________________________________\n",
    "\n",
    "## Exercícios #1 - Estruturas de dados\n"
   ]
  },
  {
   "cell_type": "markdown",
   "metadata": {},
   "source": [
    "### Exercício 1\n",
    "Utilizando o built-in method input(), crie um programa que receba a altura e o peso de uma pessoa e imprima na tela o IMC da mesma."
   ]
  },
  {
   "cell_type": "code",
   "execution_count": 14,
   "metadata": {},
   "outputs": [
    {
     "name": "stdout",
     "output_type": "stream",
     "text": [
      "Digite a sua altura: 1.49\n",
      "Digite o seu peso: 80\n",
      "Seu IMC = 36.03. Considera-se 'Obesidade grau II'\n"
     ]
    }
   ],
   "source": [
    "altura = float(input(\"Digite a sua altura: \"))\n",
    "peso = float(input(\"Digite o seu peso: \"))\n",
    "\n",
    "imc = peso / (altura * altura)\n",
    "\n",
    "\n",
    "if imc <= 18.5:\n",
    "    print(\"Seu IMC = {}. Considera-se 'Abaixo do Peso'\".format(imc))\n",
    "elif imc >= 18.5 and imc <=24.9:\n",
    "    print(\"Seu IMC = {0:.2f}. Considera-se 'Peso normal'\".format(imc))\n",
    "elif imc >= 25 and imc <=29.9:\n",
    "    print(\"Seu IMC = {0:.2f}. Considera-se 'SobrePeso'\".format(imc))\n",
    "elif imc >= 30 and imc <=34.9:\n",
    "    print(\"Seu IMC = {0:.2f}. Considera-se 'Obesidade grau I'\".format(imc))\n",
    "elif imc >= 35 and imc <=39.9:\n",
    "    print(\"Seu IMC = {0:.2f}. Considera-se 'Obesidade grau II'\".format(imc))\n",
    "elif imc >= 40:\n",
    "    print(\"Seu IMC = {0:.2f}. Considera-se 'Obesidade grau III'\".format(imc))\n",
    "else:\n",
    "    print('Comando invalido')\n",
    "\n"
   ]
  },
  {
   "cell_type": "markdown",
   "metadata": {},
   "source": [
    "### Exercício 2 \n",
    "Escreva um programa que pergunte o nome completo do usuário e cumprimente o mesmo pelo primeiro nome."
   ]
  },
  {
   "cell_type": "code",
   "execution_count": 15,
   "metadata": {},
   "outputs": [
    {
     "name": "stdout",
     "output_type": "stream",
     "text": [
      "Qual é o seu nome? luis\n",
      "Muito prazer em conhece-lo luis\n"
     ]
    }
   ],
   "source": [
    "nome= input(\"Qual é o seu nome? \")\n",
    "print(\"Muito prazer em conhece-lo {}\".format(nome))\n"
   ]
  },
  {
   "cell_type": "markdown",
   "metadata": {},
   "source": [
    "### Exercício 3\n",
    "Desenho um código que extraia o domínio de um e-mail informado."
   ]
  },
  {
   "cell_type": "code",
   "execution_count": 29,
   "metadata": {},
   "outputs": [
    {
     "name": "stdout",
     "output_type": "stream",
     "text": [
      "digite o seu email? luis.edu.ifac@gmail.com\n",
      "Servidor do email @gmail.com\n"
     ]
    }
   ],
   "source": [
    "email = input(\"digite o seu email? \")\n",
    "posicao = email.find('@')\n",
    "\n",
    "print('Servidor do email '+ str(email[posicao: ]))"
   ]
  },
  {
   "cell_type": "markdown",
   "metadata": {},
   "source": [
    "### Exercício 4 \n",
    "Faça um programa para uma loja de tintas. A pessoa informa a área em m2 que deseja pintar, e o script calculará a quantidade de latas de tinta que a pessoa deve comprar e o valor. Considere que cada litro de tinta pinta 3m2, que cada lata contém 18L e que custa R$ 80."
   ]
  },
  {
   "cell_type": "code",
   "execution_count": 36,
   "metadata": {},
   "outputs": [
    {
     "name": "stdout",
     "output_type": "stream",
     "text": [
      "Tamanho em metros quadrados da área a ser pintada: 500\n",
      "\n",
      "        Total de Litros necessário para pintar: 92L\n",
      "        Apenas latas de 18 litros: 6 Und. - Preço: R$ 487.41\n"
     ]
    }
   ],
   "source": [
    "def calculo_loja_tintas(litro):\n",
    "    # LATAS\n",
    "    latas = litro / 18\n",
    "    if latas % 18 != 0:\n",
    "        latas += 1\n",
    "    preco_das_latas= latas * 80\n",
    "\n",
    "\n",
    "    print(f'''\n",
    "        Total de Litros necessário para pintar: {litro:.0f}L\n",
    "        Apenas latas de 18 litros: {latas:.0f} Und. - Preço: R$ {preco_das_latas:.2f}''') \n",
    "\n",
    "area_pintura = float(input('Tamanho em metros quadrados da área a ser pintada: '))\n",
    "litros = area_pintura / 6  * 1.1\n",
    "calculo_loja_tintas(litros)"
   ]
  },
  {
   "cell_type": "markdown",
   "metadata": {},
   "source": [
    "### Exercício 5\n",
    "Faça um Programa que pergunte quanto você ganha por hora e o número de horas trabalhadas no mês. Calcule e mostre o total do seu salário no referido mês, sabendo-se que são descontados 11% para o Imposto de Renda, 8% para o INSS e 5% para o sindicato, faça um programa que nos dê:\n",
    "1. Salário bruto.\n",
    "2. Quanto pagou ao INSS.\n",
    "3. Quanto pagou ao sindicato.\n",
    "4. O salário líquido."
   ]
  },
  {
   "cell_type": "code",
   "execution_count": null,
   "metadata": {},
   "outputs": [],
   "source": []
  }
 ],
 "metadata": {
  "kernelspec": {
   "display_name": "Python 3 (ipykernel)",
   "language": "python",
   "name": "python3"
  },
  "language_info": {
   "codemirror_mode": {
    "name": "ipython",
    "version": 3
   },
   "file_extension": ".py",
   "mimetype": "text/x-python",
   "name": "python",
   "nbconvert_exporter": "python",
   "pygments_lexer": "ipython3",
   "version": "3.9.13"
  }
 },
 "nbformat": 4,
 "nbformat_minor": 4
}
