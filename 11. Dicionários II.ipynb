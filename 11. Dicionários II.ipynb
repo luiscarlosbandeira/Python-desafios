{
  "nbformat": 4,
  "nbformat_minor": 0,
  "metadata": {
    "colab": {
      "provenance": []
    },
    "kernelspec": {
      "name": "python3",
      "display_name": "Python 3"
    },
    "language_info": {
      "name": "python"
    }
  },
  "cells": [
    {
      "cell_type": "markdown",
      "source": [
        "**Dicionários**"
      ],
      "metadata": {
        "id": "UnlKJvRF-yGC"
      }
    },
    {
      "cell_type": "markdown",
      "source": [
        "Para se conectar a uma rede wi-fi, voce precisa de duas informações: o nome da rede e a senha de acesso. Quando voce vai acessar uma nova rede, \n",
        "voce encontra uma lista de redes disponiveis:"
      ],
      "metadata": {
        "id": "pEO8sUpk_HCV"
      }
    },
    {
      "cell_type": "code",
      "source": [
        "wifi_disponiveis = ['redel','cnx_cnx','uai-fi','r3d3']\n",
        "print(wifi_disponiveis)"
      ],
      "metadata": {
        "colab": {
          "base_uri": "https://localhost:8080/"
        },
        "id": "1jnGyMNY_Izj",
        "outputId": "e8328b03-34af-4f61-c93f-4da6d53750c4"
      },
      "execution_count": null,
      "outputs": [
        {
          "output_type": "stream",
          "name": "stdout",
          "text": [
            "['redel', 'cnx_cnx', 'uai-fi', 'r3d3']\n"
          ]
        }
      ]
    },
    {
      "cell_type": "markdown",
      "source": [
        "voce consegue identificar quais são os nomes de redes e suas respectivas senhas? talvez uma list não seja a melhor opcao para armazernar esse tipo de dados."
      ],
      "metadata": {
        "id": "_5hChpjW_c_j"
      }
    },
    {
      "cell_type": "markdown",
      "source": [
        "**Definição**"
      ],
      "metadata": {
        "id": "5MPk-RWpABLA"
      }
    },
    {
      "cell_type": "markdown",
      "source": [
        "Armazenam sequências no formato chave-valor. São do tipo *dict*."
      ],
      "metadata": {
        "id": "TGfcBj9pAGnB"
      }
    },
    {
      "cell_type": "code",
      "source": [
        "brasil = {'capital':'Brasília','Idioma': 'Português','População': 210}\n",
        "\n",
        "print(brasil)\n",
        "print(type(brasil))"
      ],
      "metadata": {
        "colab": {
          "base_uri": "https://localhost:8080/"
        },
        "id": "KjzG8UAV_cnD",
        "outputId": "18ea955f-48a9-4163-cd02-5167bd1f6f51"
      },
      "execution_count": null,
      "outputs": [
        {
          "output_type": "stream",
          "name": "stdout",
          "text": [
            "{'capital': 'Brasília', 'Idioma': 'Português', 'População': 210}\n",
            "<class 'dict'>\n"
          ]
        }
      ]
    },
    {
      "cell_type": "markdown",
      "source": [
        "Não permite chaves duplicadas"
      ],
      "metadata": {
        "id": "5_4A6c-MA5J-"
      }
    },
    {
      "cell_type": "code",
      "source": [
        "carro = {\n",
        "    'marca':'Volkswagem',\n",
        "    'modelo': 'Polo',\n",
        "    'Ano': 2021,\n",
        "    'Ano': 2024\n",
        "}\n",
        "\n",
        "print(carro)"
      ],
      "metadata": {
        "colab": {
          "base_uri": "https://localhost:8080/"
        },
        "id": "oV9DTd_U_oDi",
        "outputId": "e88c806f-119d-444d-ccb0-8c8cb933c2b5"
      },
      "execution_count": null,
      "outputs": [
        {
          "output_type": "stream",
          "name": "stdout",
          "text": [
            "{'marca': 'Volkswagem', 'modelo': 'Polo', 'Ano': 2024}\n"
          ]
        }
      ]
    },
    {
      "cell_type": "markdown",
      "source": [
        "podemos criar dicionários compostos:"
      ],
      "metadata": {
        "id": "xwVKsEbGA9h2"
      }
    },
    {
      "cell_type": "code",
      "source": [
        "cadastro = {\n",
        "    'andre':{\n",
        "        'nome':'Andre Perez',\n",
        "        'ano_nascimento': 1992,\n",
        "        'pais': {\n",
        "            'pai':{\n",
        "                'nome':'<nome-do-pai> Perez',\n",
        "                'ano_nascimento': 1971\n",
        "            },\n",
        "            'mae':{\n",
        "                'nome':'<nome-da-mae> Perez',\n",
        "                'ano_nascimento':1973\n",
        "            }\n",
        "        }\n",
        "    }\n",
        "}"
      ],
      "metadata": {
        "id": "UGTEBLDsBBk4"
      },
      "execution_count": null,
      "outputs": []
    },
    {
      "cell_type": "code",
      "source": [
        "print(cadastro)"
      ],
      "metadata": {
        "colab": {
          "base_uri": "https://localhost:8080/"
        },
        "id": "ikI8NrwiB3ae",
        "outputId": "24102558-90a7-4d04-b37c-2a9119bdb6f2"
      },
      "execution_count": null,
      "outputs": [
        {
          "output_type": "stream",
          "name": "stdout",
          "text": [
            "{'andre': {'nome': 'Andre Perez', 'ano_nascimento': 1992, 'pais': {'pai': {'nome': '<nome-do-pai> Perez', 'ano_nascimento': 1971}, 'mae': {'nome': '<nome-da-mae> Perez', 'ano_nascimento': 1973}}}}\n"
          ]
        }
      ]
    },
    {
      "cell_type": "code",
      "source": [
        "cadastro['andre']['pais']['mae']['ano_nascimento']"
      ],
      "metadata": {
        "colab": {
          "base_uri": "https://localhost:8080/"
        },
        "id": "LgCwrCsrCH3f",
        "outputId": "35685802-e2d3-4b27-d737-354417188a16"
      },
      "execution_count": null,
      "outputs": [
        {
          "output_type": "execute_result",
          "data": {
            "text/plain": [
              "1973"
            ]
          },
          "metadata": {},
          "execution_count": 8
        }
      ]
    },
    {
      "cell_type": "markdown",
      "source": [
        "**Operações**"
      ],
      "metadata": {
        "id": "38LL_glmCWpC"
      }
    },
    {
      "cell_type": "code",
      "source": [
        "credito = {'123':750,'789':900}\n"
      ],
      "metadata": {
        "id": "WKRiv_DUCYaE"
      },
      "execution_count": null,
      "outputs": []
    },
    {
      "cell_type": "markdown",
      "source": [
        "Elementos são acessados pela sua chave."
      ],
      "metadata": {
        "id": "r8WPHsSLCfqy"
      }
    },
    {
      "cell_type": "code",
      "source": [
        "score_123 = credito['123']\n",
        "score_789 = credito['789']\n",
        "\n",
        "print(score_123)\n",
        "print(score_789)"
      ],
      "metadata": {
        "colab": {
          "base_uri": "https://localhost:8080/"
        },
        "id": "IYCz84pyCjTy",
        "outputId": "fa1fe07a-9156-4e22-f062-fc638b21a33f"
      },
      "execution_count": null,
      "outputs": [
        {
          "output_type": "stream",
          "name": "stdout",
          "text": [
            "750\n",
            "900\n"
          ]
        }
      ]
    },
    {
      "cell_type": "markdown",
      "source": [
        "Elementos são atualizados pela sua chave"
      ],
      "metadata": {
        "id": "A0xHMabrCyLR"
      }
    },
    {
      "cell_type": "code",
      "source": [
        "credito['123'] = 435\n",
        "print(credito)"
      ],
      "metadata": {
        "colab": {
          "base_uri": "https://localhost:8080/"
        },
        "id": "js7nNvRsC1SY",
        "outputId": "efabbdc7-891b-4957-fefc-c89a50ad20da"
      },
      "execution_count": null,
      "outputs": [
        {
          "output_type": "stream",
          "name": "stdout",
          "text": [
            "{'123': 435, '789': 900}\n"
          ]
        }
      ]
    },
    {
      "cell_type": "markdown",
      "source": [
        "Para adicionar um novo elemento, basta criar um novo elemento chave-valor:"
      ],
      "metadata": {
        "id": "XMAtG1NkC7Vx"
      }
    },
    {
      "cell_type": "code",
      "source": [
        "credito['456'] = 1000\n",
        "print(credito)"
      ],
      "metadata": {
        "colab": {
          "base_uri": "https://localhost:8080/"
        },
        "id": "CrXGnO28DAOZ",
        "outputId": "151df033-87f7-4292-9489-72f2f1f51146"
      },
      "execution_count": null,
      "outputs": [
        {
          "output_type": "stream",
          "name": "stdout",
          "text": [
            "{'123': 435, '789': 900, '456': 1000}\n"
          ]
        }
      ]
    },
    {
      "cell_type": "markdown",
      "source": [
        "**Métodos**"
      ],
      "metadata": {
        "id": "-xA_TxmNDJeA"
      }
    },
    {
      "cell_type": "markdown",
      "source": [
        "São métodos nativos do python que nos ajudam a trabalhar no dia a dia com dicionarios"
      ],
      "metadata": {
        "id": "_gucMbHKRC_1"
      }
    },
    {
      "cell_type": "code",
      "source": [
        "artigo = dict(\n",
        "    titulo = 'Módulo 02 | Python: Estrutura de Dados',\n",
        "    Corpo = 'Topicos, Aulas, listas, conjuntos, Dicionários, ...',\n",
        "    total_caracteres = 1530\n",
        ")"
      ],
      "metadata": {
        "id": "ZFVPPsmeDLka"
      },
      "execution_count": 13,
      "outputs": []
    },
    {
      "cell_type": "code",
      "source": [
        "# adicionar atualizar um elemento pelo chave-valor: dict.update(dict)\n",
        "\n",
        "print(artigo)\n",
        "artigo.update({'total_caracteres': 7850})\n",
        "print(artigo)"
      ],
      "metadata": {
        "colab": {
          "base_uri": "https://localhost:8080/"
        },
        "id": "OM_Km5OJRcrq",
        "outputId": "ae398437-f161-46c6-acaf-c9d87655c5c0"
      },
      "execution_count": 16,
      "outputs": [
        {
          "output_type": "stream",
          "name": "stdout",
          "text": [
            "{'titulo': 'Módulo 02 | Python: Estrutura de Dados', 'Corpo': 'Topicos, Aulas, listas, conjuntos, Dicionários, ...', 'total_caracteres': 1530}\n",
            "{'titulo': 'Módulo 02 | Python: Estrutura de Dados', 'Corpo': 'Topicos, Aulas, listas, conjuntos, Dicionários, ...', 'total_caracteres': 7850}\n"
          ]
        }
      ]
    },
    {
      "cell_type": "code",
      "source": [
        "# remover um elemento pela chave: dict.pop(key)\n",
        "\n",
        "print(artigo)\n",
        "total_caracteres = artigo.pop('total_caracteres')\n",
        "print(artigo)"
      ],
      "metadata": {
        "colab": {
          "base_uri": "https://localhost:8080/"
        },
        "id": "JpVdiACPR5YD",
        "outputId": "127a43fe-39a7-4a67-a422-3c052576d7c6"
      },
      "execution_count": 17,
      "outputs": [
        {
          "output_type": "stream",
          "name": "stdout",
          "text": [
            "{'titulo': 'Módulo 02 | Python: Estrutura de Dados', 'Corpo': 'Topicos, Aulas, listas, conjuntos, Dicionários, ...', 'total_caracteres': 7850}\n",
            "{'titulo': 'Módulo 02 | Python: Estrutura de Dados', 'Corpo': 'Topicos, Aulas, listas, conjuntos, Dicionários, ...'}\n"
          ]
        }
      ]
    },
    {
      "cell_type": "markdown",
      "source": [
        "**Conversão**"
      ],
      "metadata": {
        "id": "pY9yhiy6SKLz"
      }
    },
    {
      "cell_type": "markdown",
      "source": [
        "Podemos converter as chaves e os itens de um dicionário em uma lista"
      ],
      "metadata": {
        "id": "3Eka1JaWSMkY"
      }
    },
    {
      "cell_type": "code",
      "source": [
        "artigo = dict(\n",
        "    titulo = 'Módulo 02 | Python: Estrutura de Dados',\n",
        "    Corpo = 'Topicos, Aulas, listas, conjuntos, Dicionários, ...',\n",
        "    total_caracteres=1530\n",
        ")"
      ],
      "metadata": {
        "id": "BsWzC9uaSL8o"
      },
      "execution_count": 22,
      "outputs": []
    },
    {
      "cell_type": "code",
      "source": [
        "chaves = list(artigo.keys())\n",
        "\n",
        "print(chaves)\n",
        "print(type(chaves))"
      ],
      "metadata": {
        "colab": {
          "base_uri": "https://localhost:8080/"
        },
        "id": "7yRNnRwaS6Af",
        "outputId": "6a8806c1-0385-4922-a754-a450b11b859e"
      },
      "execution_count": 23,
      "outputs": [
        {
          "output_type": "stream",
          "name": "stdout",
          "text": [
            "['titulo', 'Corpo', 'total_caracteres']\n",
            "<class 'list'>\n"
          ]
        }
      ]
    },
    {
      "cell_type": "code",
      "source": [
        "valores = list(artigo.values())\n",
        "\n",
        "print(valores)\n",
        "print(type(valores))"
      ],
      "metadata": {
        "colab": {
          "base_uri": "https://localhost:8080/"
        },
        "id": "EmrRjD2rTh0G",
        "outputId": "ac60125b-9a3d-4468-be40-41d286a22511"
      },
      "execution_count": 24,
      "outputs": [
        {
          "output_type": "stream",
          "name": "stdout",
          "text": [
            "['Módulo 02 | Python: Estrutura de Dados', 'Topicos, Aulas, listas, conjuntos, Dicionários, ...', 1530]\n",
            "<class 'list'>\n"
          ]
        }
      ]
    },
    {
      "cell_type": "markdown",
      "source": [
        "**Revisitando o primeiro exercicio**"
      ],
      "metadata": {
        "id": "UUo4ACsBTs7S"
      }
    },
    {
      "cell_type": "code",
      "source": [
        "wifi_disponiveis = []"
      ],
      "metadata": {
        "id": "6cw8REhRTxnx"
      },
      "execution_count": 42,
      "outputs": []
    },
    {
      "cell_type": "code",
      "source": [
        "rede = {'nome': 'rede1', 'senha': 'cnx_cnx'}\n",
        "wifi_disponiveis.append(rede)\n",
        "print(rede)"
      ],
      "metadata": {
        "colab": {
          "base_uri": "https://localhost:8080/"
        },
        "id": "VCqVLfIvUQBF",
        "outputId": "c5684f97-8e2a-4fbd-aa2f-ebcfa90bc8cb"
      },
      "execution_count": 43,
      "outputs": [
        {
          "output_type": "stream",
          "name": "stdout",
          "text": [
            "{'nome': 'rede1', 'senha': 'cnx_cnx'}\n"
          ]
        }
      ]
    },
    {
      "cell_type": "code",
      "source": [
        "rede ={'nome':'uai-fi','senha':'r3d3'}\n",
        "wifi_disponiveis.append(rede)\n",
        "print(rede)"
      ],
      "metadata": {
        "colab": {
          "base_uri": "https://localhost:8080/"
        },
        "id": "5F--R8hgUbGc",
        "outputId": "3c5bfa06-57f3-4eac-f825-fc37a9157d33"
      },
      "execution_count": 44,
      "outputs": [
        {
          "output_type": "stream",
          "name": "stdout",
          "text": [
            "{'nome': 'uai-fi', 'senha': 'r3d3'}\n"
          ]
        }
      ]
    },
    {
      "cell_type": "code",
      "source": [
        "print(wifi_disponiveis)"
      ],
      "metadata": {
        "colab": {
          "base_uri": "https://localhost:8080/"
        },
        "id": "I_m2D-5_Up7F",
        "outputId": "a1804970-fc7a-4ae2-dd37-93076024de5b"
      },
      "execution_count": 45,
      "outputs": [
        {
          "output_type": "stream",
          "name": "stdout",
          "text": [
            "[{'nome': 'rede1', 'senha': 'cnx_cnx'}, {'nome': 'uai-fi', 'senha': 'r3d3'}]\n"
          ]
        }
      ]
    }
  ]
}